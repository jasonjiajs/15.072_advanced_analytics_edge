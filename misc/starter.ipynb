{
 "cells": [
  {
   "cell_type": "code",
   "execution_count": 27,
   "metadata": {
    "vscode": {
     "languageId": "shellscript"
    }
   },
   "outputs": [],
   "source": [
    "import requests\n",
    "import json"
   ]
  },
  {
   "cell_type": "code",
   "execution_count": 28,
   "metadata": {},
   "outputs": [],
   "source": [
    "# Ge the authorization token\n",
    "client_key = 'aw8y68r7hf9xak30'\n",
    "client_secret = 'YRzLlRjNEfQloXsoRTyMUE1x7PRAYiOd'"
   ]
  },
  {
   "cell_type": "code",
   "execution_count": 29,
   "metadata": {},
   "outputs": [],
   "source": [
    "def get_access_token(client_key, client_secret):\n",
    "    url = 'https://open.tiktokapis.com/v2/oauth/token/'\n",
    "    headers = {\n",
    "        'Content-Type': 'application/x-www-form-urlencoded',\n",
    "        'Cache-Control': 'no-cache'\n",
    "    }\n",
    "    data = {\n",
    "        'client_key': client_key,\n",
    "        'client_secret': client_secret,\n",
    "        'grant_type': 'client_credentials'\n",
    "    }\n",
    "\n",
    "    response = requests.post(url, headers=headers, data=data)\n",
    "    \n",
    "    if response.status_code == 200:\n",
    "        json_response = response.json()\n",
    "        access_token = json_response.get('access_token')\n",
    "        return access_token\n",
    "    else:\n",
    "        print(f\"Error: {response.status_code}\")\n",
    "        return None"
   ]
  },
  {
   "cell_type": "code",
   "execution_count": 30,
   "metadata": {},
   "outputs": [],
   "source": [
    "access_token = get_access_token(client_key, client_secret)"
   ]
  },
  {
   "cell_type": "code",
   "execution_count": 31,
   "metadata": {},
   "outputs": [
    {
     "name": "stdout",
     "output_type": "stream",
     "text": [
      "Error: 500, {\"error\":{\"code\":\"internal_error\",\"message\":\"Something is wrong. Please try again later.\",\"log_id\":\"20231024020545620924D33B339300389F\"}}\n"
     ]
    }
   ],
   "source": [
    "# Define the API endpoint\n",
    "url = 'https://open.tiktokapis.com/v2/research/adlib/ad/query/?fields=advertiser.business_name'\n",
    "\n",
    "# Set your TikTok API authorization token\n",
    "headers = {\n",
    "    'authorization': f'bearer {access_token}'\n",
    "}\n",
    "\n",
    "# Define the query parameters\n",
    "data = {\n",
    "    \"filters\": {\n",
    "        \"ad_published_date_range\": {\n",
    "            \"min\": \"20221001\",\n",
    "            \"max\": \"20231010\"\n",
    "        },\n",
    "        \"country\": \"FR\"\n",
    "    },\n",
    "    \"search_term\": \"coffee\",\n",
    "    \"max_count\": 20,\n",
    "    \"fields\": 'ad.id'\n",
    "}\n",
    "\n",
    "# Convert the data dictionary to a JSON string\n",
    "data_json = json.dumps(data)\n",
    "\n",
    "# Make the API request\n",
    "response = requests.post(url, headers=headers, data=data_json)\n",
    "\n",
    "# Check if the request was successful (status code 200)\n",
    "if response.status_code == 200:\n",
    "    # Parse and print the JSON response\n",
    "    result = response.json()\n",
    "    print(json.dumps(result, indent=2))\n",
    "else:\n",
    "    # Print an error message if the request was not successful\n",
    "    print(f\"Error: {response.status_code}, {response.text}\")\n"
   ]
  },
  {
   "cell_type": "code",
   "execution_count": 33,
   "metadata": {},
   "outputs": [
    {
     "data": {
      "text/plain": [
       "'clt.C2mTiAgy7mkRmIBpI2HxWMRqbwEWzvLC2k72NtauXDnBWj4LxLtjQ4WZZLz6'"
      ]
     },
     "execution_count": 33,
     "metadata": {},
     "output_type": "execute_result"
    }
   ],
   "source": [
    "access_token"
   ]
  },
  {
   "cell_type": "code",
   "execution_count": 15,
   "metadata": {},
   "outputs": [
    {
     "name": "stdout",
     "output_type": "stream",
     "text": [
      "Error: 500\n",
      "{\"error\":{\"code\":\"internal_error\",\"message\":\"Something is wrong. Please try again later.\",\"log_id\":\"20231023182446973DFE19969949D0B1E0\"}}\n"
     ]
    }
   ],
   "source": [
    "url = 'https://open.tiktokapis.com/v2/research/adlib/ad/query/?fields=ad.id,ad.first_shown_date,ad.last_shown_date'\n",
    "\n",
    "headers = {\n",
    "    'Authorization': f'bearer {access_token}',\n",
    "    'Content-Type': 'application/json'\n",
    "}\n",
    "\n",
    "data = {\n",
    "    \"filters\": {\n",
    "        \"ad_published_date_range\": {\n",
    "            \"min\": \"20230102\",\n",
    "            \"max\": \"20230109\"\n",
    "        },\n",
    "        \"country_code\": \"FR\",\n",
    "        \"unique_users_seen_size_range\": {\n",
    "            \"min\": \"10K\",\n",
    "            \"max\": \"1M\"\n",
    "        },\n",
    "    },\n",
    "    \"search_term\": \"mobile games\"\n",
    "}\n",
    "\n",
    "response = requests.post(url, headers=headers, json=data)\n",
    "\n",
    "if response.status_code == 200:\n",
    "    json_response = response.json()\n",
    "    print(json_response)\n",
    "else:\n",
    "    print(f\"Error: {response.status_code}\")\n",
    "    print(response.text)\n"
   ]
  },
  {
   "cell_type": "code",
   "execution_count": 16,
   "metadata": {},
   "outputs": [
    {
     "name": "stdout",
     "output_type": "stream",
     "text": [
      "Error: 401\n",
      "{\"data\":{},\"error\":{\"code\":\"scope_not_authorized\",\"message\":\"The user did not authorize the scope required for completing this request.\",\"log_id\":\"20231023182908845D09983FA118BE1987\"}}\n"
     ]
    }
   ],
   "source": [
    "import requests\n",
    "\n",
    "url = 'https://open.tiktokapis.com/v2/research/video/query/?fields=id,like_count'\n",
    "\n",
    "headers = {\n",
    "    'authorization': f'bearer {access_token}',\n",
    "    'Content-Type': 'application/json'\n",
    "}\n",
    "\n",
    "data = {\n",
    "    \"query\": {\n",
    "        \"and\": [\n",
    "            { \"operation\": \"IN\", \"field_name\": \"region_code\", \"field_values\": [\"US\", \"CA\"] },\n",
    "            { \"operation\": \"EQ\", \"field_name\": \"keyword\", \"field_values\": [\"hello world\"] }\n",
    "        ]\n",
    "    },\n",
    "    \"start_date\": \"20220615\",\n",
    "    \"end_date\": \"20220628\",\n",
    "    \"max_count\": 10\n",
    "}\n",
    "\n",
    "response = requests.post(url, headers=headers, json=data)\n",
    "\n",
    "if response.status_code == 200:\n",
    "    json_response = response.json()\n",
    "    print(json_response)\n",
    "else:\n",
    "    print(f\"Error: {response.status_code}\")\n",
    "    print(response.text)\n"
   ]
  },
  {
   "cell_type": "code",
   "execution_count": null,
   "metadata": {},
   "outputs": [],
   "source": []
  }
 ],
 "metadata": {
  "kernelspec": {
   "display_name": "Python 3",
   "language": "python",
   "name": "python3"
  },
  "language_info": {
   "codemirror_mode": {
    "name": "ipython",
    "version": 3
   },
   "file_extension": ".py",
   "mimetype": "text/x-python",
   "name": "python",
   "nbconvert_exporter": "python",
   "pygments_lexer": "ipython3",
   "version": "3.11.4"
  }
 },
 "nbformat": 4,
 "nbformat_minor": 2
}
