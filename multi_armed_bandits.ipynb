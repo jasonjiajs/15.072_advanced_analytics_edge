{
 "cells": [
  {
   "cell_type": "code",
   "execution_count": 1,
   "id": "71056438-5ddc-4bf4-8813-e6d6753cd7e9",
   "metadata": {},
   "outputs": [],
   "source": [
    "import pandas as pd\n",
    "import numpy as np\n",
    "import matplotlib.pyplot as plt\n",
    "import seaborn as sns\n",
    "import streamlit as st\n",
    "import vizro.plotly.express as px\n",
    "from vizro import Vizro\n",
    "import vizro.models as vm\n",
    "from tqdm import trange"
   ]
  },
  {
   "cell_type": "markdown",
   "metadata": {},
   "source": [
    "# Get overall engagement data"
   ]
  },
  {
   "cell_type": "code",
   "execution_count": 2,
   "id": "ce39b228-894e-4ab5-96bf-221229596f15",
   "metadata": {},
   "outputs": [
    {
     "data": {
      "text/html": [
       "<div>\n",
       "<style scoped>\n",
       "    .dataframe tbody tr th:only-of-type {\n",
       "        vertical-align: middle;\n",
       "    }\n",
       "\n",
       "    .dataframe tbody tr th {\n",
       "        vertical-align: top;\n",
       "    }\n",
       "\n",
       "    .dataframe thead th {\n",
       "        text-align: right;\n",
       "    }\n",
       "</style>\n",
       "<table border=\"1\" class=\"dataframe\">\n",
       "  <thead>\n",
       "    <tr style=\"text-align: right;\">\n",
       "      <th></th>\n",
       "      <th>business_name</th>\n",
       "      <th>insta_link</th>\n",
       "      <th>insta_followers</th>\n",
       "      <th>insta_ave_views_first5_biz_202309</th>\n",
       "      <th>insta_ave_likes_first5_biz_202309</th>\n",
       "      <th>insta_ave_comments_first5_biz_202309</th>\n",
       "      <th>insta_ave_views_first5_biz_202308</th>\n",
       "      <th>insta_ave_likes_first5_biz_202308</th>\n",
       "      <th>insta_ave_comments_first5_biz_202308</th>\n",
       "      <th>insta_ave_views_first5_biz_202307</th>\n",
       "      <th>...</th>\n",
       "      <th>tiktok_ave_comments_first5_nonbiz_202307</th>\n",
       "      <th>tiktok_ave_views_first5_nonbiz_202306</th>\n",
       "      <th>tiktok_ave_likes_first5_nonbiz_202306</th>\n",
       "      <th>tiktok_ave_comments_first5_nonbiz_202306</th>\n",
       "      <th>tiktok_ave_views_first5_nonbiz_202305</th>\n",
       "      <th>tiktok_ave_likes_first5_nonbiz_202305</th>\n",
       "      <th>tiktok_ave_comments_first5_nonbiz_202305</th>\n",
       "      <th>tiktok_ave_views_first5_nonbiz_202304</th>\n",
       "      <th>tiktok_ave_likes_first5_nonbiz_202304</th>\n",
       "      <th>tiktok_ave_comments_first5_nonbiz_202304</th>\n",
       "    </tr>\n",
       "  </thead>\n",
       "  <tbody>\n",
       "    <tr>\n",
       "      <th>0</th>\n",
       "      <td>Cafe Luna</td>\n",
       "      <td>https://www.instagram.com/cafelunacentralsq/</td>\n",
       "      <td>3160</td>\n",
       "      <td>na</td>\n",
       "      <td>na</td>\n",
       "      <td>na</td>\n",
       "      <td>na</td>\n",
       "      <td>na</td>\n",
       "      <td>na</td>\n",
       "      <td>na</td>\n",
       "      <td>...</td>\n",
       "      <td>4</td>\n",
       "      <td>1821.666667</td>\n",
       "      <td>35.5</td>\n",
       "      <td>3</td>\n",
       "      <td>3020</td>\n",
       "      <td>134</td>\n",
       "      <td>3</td>\n",
       "      <td>0</td>\n",
       "      <td>0</td>\n",
       "      <td>0</td>\n",
       "    </tr>\n",
       "    <tr>\n",
       "      <th>1</th>\n",
       "      <td>Moona</td>\n",
       "      <td>https://www.instagram.com/moonarestaurant/</td>\n",
       "      <td>6882</td>\n",
       "      <td>na</td>\n",
       "      <td>50.5</td>\n",
       "      <td>1</td>\n",
       "      <td>na</td>\n",
       "      <td>70</td>\n",
       "      <td>5</td>\n",
       "      <td>na</td>\n",
       "      <td>...</td>\n",
       "      <td>0</td>\n",
       "      <td>18484</td>\n",
       "      <td>1112</td>\n",
       "      <td>10</td>\n",
       "      <td>968</td>\n",
       "      <td>40</td>\n",
       "      <td>5</td>\n",
       "      <td>63700</td>\n",
       "      <td>2569</td>\n",
       "      <td>52</td>\n",
       "    </tr>\n",
       "    <tr>\n",
       "      <th>2</th>\n",
       "      <td>4 Corners Pizza</td>\n",
       "      <td>https://www.instagram.com/4cornerspizza/</td>\n",
       "      <td>27000</td>\n",
       "      <td>13548</td>\n",
       "      <td>424</td>\n",
       "      <td>47</td>\n",
       "      <td>23624.5</td>\n",
       "      <td>1096.5</td>\n",
       "      <td>23</td>\n",
       "      <td>29607.66667</td>\n",
       "      <td>...</td>\n",
       "      <td>24.5</td>\n",
       "      <td>16813.5</td>\n",
       "      <td>405.2</td>\n",
       "      <td>3</td>\n",
       "      <td>25633.5</td>\n",
       "      <td>4121</td>\n",
       "      <td>22</td>\n",
       "      <td>1402</td>\n",
       "      <td>43</td>\n",
       "      <td>1.5</td>\n",
       "    </tr>\n",
       "    <tr>\n",
       "      <th>3</th>\n",
       "      <td>Hunters</td>\n",
       "      <td>https://www.instagram.com/huntersboston/</td>\n",
       "      <td>21000</td>\n",
       "      <td>12321</td>\n",
       "      <td>256</td>\n",
       "      <td>4.6</td>\n",
       "      <td>7276</td>\n",
       "      <td>260.2</td>\n",
       "      <td>2.6</td>\n",
       "      <td>na</td>\n",
       "      <td>...</td>\n",
       "      <td>0</td>\n",
       "      <td>2212</td>\n",
       "      <td>129.5</td>\n",
       "      <td>1</td>\n",
       "      <td>566</td>\n",
       "      <td>31</td>\n",
       "      <td>1</td>\n",
       "      <td>378.8</td>\n",
       "      <td>12</td>\n",
       "      <td>0.4</td>\n",
       "    </tr>\n",
       "    <tr>\n",
       "      <th>4</th>\n",
       "      <td>Ruka Resto Bar</td>\n",
       "      <td>https://www.instagram.com/rukarestobar/</td>\n",
       "      <td>12000</td>\n",
       "      <td>4897</td>\n",
       "      <td>157.4</td>\n",
       "      <td>1.4</td>\n",
       "      <td>2701</td>\n",
       "      <td>118.4</td>\n",
       "      <td>1.8</td>\n",
       "      <td>3869</td>\n",
       "      <td>...</td>\n",
       "      <td>0</td>\n",
       "      <td>0</td>\n",
       "      <td>0</td>\n",
       "      <td>0</td>\n",
       "      <td>0</td>\n",
       "      <td>0</td>\n",
       "      <td>0</td>\n",
       "      <td>0</td>\n",
       "      <td>0</td>\n",
       "      <td>0</td>\n",
       "    </tr>\n",
       "    <tr>\n",
       "      <th>...</th>\n",
       "      <td>...</td>\n",
       "      <td>...</td>\n",
       "      <td>...</td>\n",
       "      <td>...</td>\n",
       "      <td>...</td>\n",
       "      <td>...</td>\n",
       "      <td>...</td>\n",
       "      <td>...</td>\n",
       "      <td>...</td>\n",
       "      <td>...</td>\n",
       "      <td>...</td>\n",
       "      <td>...</td>\n",
       "      <td>...</td>\n",
       "      <td>...</td>\n",
       "      <td>...</td>\n",
       "      <td>...</td>\n",
       "      <td>...</td>\n",
       "      <td>...</td>\n",
       "      <td>...</td>\n",
       "      <td>...</td>\n",
       "      <td>...</td>\n",
       "    </tr>\n",
       "    <tr>\n",
       "      <th>95</th>\n",
       "      <td>Crudo Boston</td>\n",
       "      <td>https://www.instagram.com/crudoboston/</td>\n",
       "      <td>1854</td>\n",
       "      <td>na</td>\n",
       "      <td>na</td>\n",
       "      <td>na</td>\n",
       "      <td>na</td>\n",
       "      <td>na</td>\n",
       "      <td>na</td>\n",
       "      <td>na</td>\n",
       "      <td>...</td>\n",
       "      <td>na</td>\n",
       "      <td>na</td>\n",
       "      <td>na</td>\n",
       "      <td>na</td>\n",
       "      <td>na</td>\n",
       "      <td>na</td>\n",
       "      <td>na</td>\n",
       "      <td>536</td>\n",
       "      <td>20</td>\n",
       "      <td>0</td>\n",
       "    </tr>\n",
       "    <tr>\n",
       "      <th>96</th>\n",
       "      <td>Meimei dumplings</td>\n",
       "      <td>https://www.instagram.com/meimeidumplings/</td>\n",
       "      <td>25000</td>\n",
       "      <td>na</td>\n",
       "      <td>439.2</td>\n",
       "      <td>13.2</td>\n",
       "      <td>na</td>\n",
       "      <td>549.4</td>\n",
       "      <td>4</td>\n",
       "      <td>na</td>\n",
       "      <td>...</td>\n",
       "      <td>na</td>\n",
       "      <td>na</td>\n",
       "      <td>na</td>\n",
       "      <td>na</td>\n",
       "      <td>na</td>\n",
       "      <td>na</td>\n",
       "      <td>na</td>\n",
       "      <td>na</td>\n",
       "      <td>na</td>\n",
       "      <td>na</td>\n",
       "    </tr>\n",
       "    <tr>\n",
       "      <th>97</th>\n",
       "      <td>Paramount Southie</td>\n",
       "      <td>https://www.instagram.com/paramountsouthie/</td>\n",
       "      <td>3032</td>\n",
       "      <td>na</td>\n",
       "      <td>na</td>\n",
       "      <td>0</td>\n",
       "      <td>na</td>\n",
       "      <td>na</td>\n",
       "      <td>na</td>\n",
       "      <td>na</td>\n",
       "      <td>...</td>\n",
       "      <td>na</td>\n",
       "      <td>na</td>\n",
       "      <td>na</td>\n",
       "      <td>na</td>\n",
       "      <td>na</td>\n",
       "      <td>na</td>\n",
       "      <td>na</td>\n",
       "      <td>na</td>\n",
       "      <td>na</td>\n",
       "      <td>na</td>\n",
       "    </tr>\n",
       "    <tr>\n",
       "      <th>98</th>\n",
       "      <td>Teado Central</td>\n",
       "      <td>https://www.instagram.com/teadocentral/</td>\n",
       "      <td>104</td>\n",
       "      <td>na</td>\n",
       "      <td>na</td>\n",
       "      <td>na</td>\n",
       "      <td>na</td>\n",
       "      <td>na</td>\n",
       "      <td>na</td>\n",
       "      <td>na</td>\n",
       "      <td>...</td>\n",
       "      <td>na</td>\n",
       "      <td>na</td>\n",
       "      <td>na</td>\n",
       "      <td>na</td>\n",
       "      <td>na</td>\n",
       "      <td>na</td>\n",
       "      <td>na</td>\n",
       "      <td>na</td>\n",
       "      <td>na</td>\n",
       "      <td>na</td>\n",
       "    </tr>\n",
       "    <tr>\n",
       "      <th>99</th>\n",
       "      <td>Trade Boston</td>\n",
       "      <td>https://www.instagram.com/tradeboston/</td>\n",
       "      <td>9565</td>\n",
       "      <td>na</td>\n",
       "      <td>61.4</td>\n",
       "      <td>2.6</td>\n",
       "      <td>na</td>\n",
       "      <td>39</td>\n",
       "      <td>0.8</td>\n",
       "      <td>na</td>\n",
       "      <td>...</td>\n",
       "      <td>na</td>\n",
       "      <td>1333</td>\n",
       "      <td>30</td>\n",
       "      <td>3</td>\n",
       "      <td>na</td>\n",
       "      <td>na</td>\n",
       "      <td>na</td>\n",
       "      <td>1485</td>\n",
       "      <td>55</td>\n",
       "      <td>2</td>\n",
       "    </tr>\n",
       "  </tbody>\n",
       "</table>\n",
       "<p>100 rows × 83 columns</p>\n",
       "</div>"
      ],
      "text/plain": [
       "        business_name                                    insta_link  \\\n",
       "0           Cafe Luna  https://www.instagram.com/cafelunacentralsq/   \n",
       "1               Moona    https://www.instagram.com/moonarestaurant/   \n",
       "2     4 Corners Pizza      https://www.instagram.com/4cornerspizza/   \n",
       "3             Hunters      https://www.instagram.com/huntersboston/   \n",
       "4      Ruka Resto Bar       https://www.instagram.com/rukarestobar/   \n",
       "..                ...                                           ...   \n",
       "95       Crudo Boston        https://www.instagram.com/crudoboston/   \n",
       "96   Meimei dumplings    https://www.instagram.com/meimeidumplings/   \n",
       "97  Paramount Southie   https://www.instagram.com/paramountsouthie/   \n",
       "98      Teado Central       https://www.instagram.com/teadocentral/   \n",
       "99       Trade Boston        https://www.instagram.com/tradeboston/   \n",
       "\n",
       "   insta_followers insta_ave_views_first5_biz_202309  \\\n",
       "0             3160                                na   \n",
       "1             6882                                na   \n",
       "2            27000                             13548   \n",
       "3            21000                             12321   \n",
       "4            12000                              4897   \n",
       "..             ...                               ...   \n",
       "95            1854                                na   \n",
       "96           25000                                na   \n",
       "97            3032                                na   \n",
       "98             104                                na   \n",
       "99            9565                                na   \n",
       "\n",
       "   insta_ave_likes_first5_biz_202309 insta_ave_comments_first5_biz_202309  \\\n",
       "0                                 na                                   na   \n",
       "1                               50.5                                    1   \n",
       "2                                424                                   47   \n",
       "3                                256                                  4.6   \n",
       "4                              157.4                                  1.4   \n",
       "..                               ...                                  ...   \n",
       "95                                na                                   na   \n",
       "96                             439.2                                 13.2   \n",
       "97                                na                                    0   \n",
       "98                                na                                   na   \n",
       "99                              61.4                                  2.6   \n",
       "\n",
       "   insta_ave_views_first5_biz_202308 insta_ave_likes_first5_biz_202308  \\\n",
       "0                                 na                                na   \n",
       "1                                 na                                70   \n",
       "2                            23624.5                            1096.5   \n",
       "3                               7276                             260.2   \n",
       "4                               2701                             118.4   \n",
       "..                               ...                               ...   \n",
       "95                                na                                na   \n",
       "96                                na                             549.4   \n",
       "97                                na                                na   \n",
       "98                                na                                na   \n",
       "99                                na                                39   \n",
       "\n",
       "   insta_ave_comments_first5_biz_202308 insta_ave_views_first5_biz_202307  \\\n",
       "0                                    na                                na   \n",
       "1                                     5                                na   \n",
       "2                                    23                       29607.66667   \n",
       "3                                   2.6                                na   \n",
       "4                                   1.8                              3869   \n",
       "..                                  ...                               ...   \n",
       "95                                   na                                na   \n",
       "96                                    4                                na   \n",
       "97                                   na                                na   \n",
       "98                                   na                                na   \n",
       "99                                  0.8                                na   \n",
       "\n",
       "    ... tiktok_ave_comments_first5_nonbiz_202307  \\\n",
       "0   ...                                        4   \n",
       "1   ...                                        0   \n",
       "2   ...                                     24.5   \n",
       "3   ...                                        0   \n",
       "4   ...                                        0   \n",
       "..  ...                                      ...   \n",
       "95  ...                                       na   \n",
       "96  ...                                       na   \n",
       "97  ...                                       na   \n",
       "98  ...                                       na   \n",
       "99  ...                                       na   \n",
       "\n",
       "   tiktok_ave_views_first5_nonbiz_202306  \\\n",
       "0                            1821.666667   \n",
       "1                                  18484   \n",
       "2                                16813.5   \n",
       "3                                   2212   \n",
       "4                                      0   \n",
       "..                                   ...   \n",
       "95                                    na   \n",
       "96                                    na   \n",
       "97                                    na   \n",
       "98                                    na   \n",
       "99                                  1333   \n",
       "\n",
       "   tiktok_ave_likes_first5_nonbiz_202306  \\\n",
       "0                                   35.5   \n",
       "1                                   1112   \n",
       "2                                  405.2   \n",
       "3                                  129.5   \n",
       "4                                      0   \n",
       "..                                   ...   \n",
       "95                                    na   \n",
       "96                                    na   \n",
       "97                                    na   \n",
       "98                                    na   \n",
       "99                                    30   \n",
       "\n",
       "   tiktok_ave_comments_first5_nonbiz_202306  \\\n",
       "0                                         3   \n",
       "1                                        10   \n",
       "2                                         3   \n",
       "3                                         1   \n",
       "4                                         0   \n",
       "..                                      ...   \n",
       "95                                       na   \n",
       "96                                       na   \n",
       "97                                       na   \n",
       "98                                       na   \n",
       "99                                        3   \n",
       "\n",
       "   tiktok_ave_views_first5_nonbiz_202305  \\\n",
       "0                                   3020   \n",
       "1                                    968   \n",
       "2                                25633.5   \n",
       "3                                    566   \n",
       "4                                      0   \n",
       "..                                   ...   \n",
       "95                                    na   \n",
       "96                                    na   \n",
       "97                                    na   \n",
       "98                                    na   \n",
       "99                                    na   \n",
       "\n",
       "   tiktok_ave_likes_first5_nonbiz_202305  \\\n",
       "0                                    134   \n",
       "1                                     40   \n",
       "2                                   4121   \n",
       "3                                     31   \n",
       "4                                      0   \n",
       "..                                   ...   \n",
       "95                                    na   \n",
       "96                                    na   \n",
       "97                                    na   \n",
       "98                                    na   \n",
       "99                                    na   \n",
       "\n",
       "   tiktok_ave_comments_first5_nonbiz_202305  \\\n",
       "0                                         3   \n",
       "1                                         5   \n",
       "2                                        22   \n",
       "3                                         1   \n",
       "4                                         0   \n",
       "..                                      ...   \n",
       "95                                       na   \n",
       "96                                       na   \n",
       "97                                       na   \n",
       "98                                       na   \n",
       "99                                       na   \n",
       "\n",
       "   tiktok_ave_views_first5_nonbiz_202304  \\\n",
       "0                                      0   \n",
       "1                                  63700   \n",
       "2                                   1402   \n",
       "3                                  378.8   \n",
       "4                                      0   \n",
       "..                                   ...   \n",
       "95                                   536   \n",
       "96                                    na   \n",
       "97                                    na   \n",
       "98                                    na   \n",
       "99                                  1485   \n",
       "\n",
       "   tiktok_ave_likes_first5_nonbiz_202304  \\\n",
       "0                                      0   \n",
       "1                                   2569   \n",
       "2                                     43   \n",
       "3                                     12   \n",
       "4                                      0   \n",
       "..                                   ...   \n",
       "95                                    20   \n",
       "96                                    na   \n",
       "97                                    na   \n",
       "98                                    na   \n",
       "99                                    55   \n",
       "\n",
       "   tiktok_ave_comments_first5_nonbiz_202304  \n",
       "0                                         0  \n",
       "1                                        52  \n",
       "2                                       1.5  \n",
       "3                                       0.4  \n",
       "4                                         0  \n",
       "..                                      ...  \n",
       "95                                        0  \n",
       "96                                       na  \n",
       "97                                       na  \n",
       "98                                       na  \n",
       "99                                        2  \n",
       "\n",
       "[100 rows x 83 columns]"
      ]
     },
     "execution_count": 2,
     "metadata": {},
     "output_type": "execute_result"
    }
   ],
   "source": [
    "# Set seed\n",
    "np.random.seed(15072)\n",
    "\n",
    "# Read in data\n",
    "smb_raw = pd.read_excel('smb_restaurants.xlsx', sheet_name='dataset')\n",
    "smb_raw"
   ]
  },
  {
   "cell_type": "code",
   "execution_count": 3,
   "id": "7ec0bf35-b321-4cfa-9bee-c6109f9cb191",
   "metadata": {},
   "outputs": [
    {
     "name": "stdout",
     "output_type": "stream",
     "text": [
      "        business_name                                    insta_link  \\\n",
      "0           Cafe Luna  https://www.instagram.com/cafelunacentralsq/   \n",
      "1               Moona    https://www.instagram.com/moonarestaurant/   \n",
      "2     4 Corners Pizza      https://www.instagram.com/4cornerspizza/   \n",
      "3             Hunters      https://www.instagram.com/huntersboston/   \n",
      "4      Ruka Resto Bar       https://www.instagram.com/rukarestobar/   \n",
      "..                ...                                           ...   \n",
      "95       Crudo Boston        https://www.instagram.com/crudoboston/   \n",
      "96   Meimei dumplings    https://www.instagram.com/meimeidumplings/   \n",
      "97  Paramount Southie   https://www.instagram.com/paramountsouthie/   \n",
      "98      Teado Central       https://www.instagram.com/teadocentral/   \n",
      "99       Trade Boston        https://www.instagram.com/tradeboston/   \n",
      "\n",
      "    insta_followers  insta_ave_views_first5_biz_202309  \\\n",
      "0            3160.0                                0.0   \n",
      "1            6882.0                                0.0   \n",
      "2           27000.0                            13548.0   \n",
      "3           21000.0                            12321.0   \n",
      "4           12000.0                             4897.0   \n",
      "..              ...                                ...   \n",
      "95           1854.0                                0.0   \n",
      "96          25000.0                                0.0   \n",
      "97           3032.0                                0.0   \n",
      "98            104.0                                0.0   \n",
      "99           9565.0                                0.0   \n",
      "\n",
      "    insta_ave_likes_first5_biz_202309  insta_ave_comments_first5_biz_202309  \\\n",
      "0                                 0.0                                   0.0   \n",
      "1                                50.5                                   1.0   \n",
      "2                               424.0                                  47.0   \n",
      "3                               256.0                                   4.6   \n",
      "4                               157.4                                   1.4   \n",
      "..                                ...                                   ...   \n",
      "95                                0.0                                   0.0   \n",
      "96                              439.2                                  13.2   \n",
      "97                                0.0                                   0.0   \n",
      "98                                0.0                                   0.0   \n",
      "99                               61.4                                   2.6   \n",
      "\n",
      "    insta_ave_views_first5_biz_202308  insta_ave_likes_first5_biz_202308  \\\n",
      "0                                 0.0                                0.0   \n",
      "1                                 0.0                               70.0   \n",
      "2                             23624.5                             1096.5   \n",
      "3                              7276.0                              260.2   \n",
      "4                              2701.0                              118.4   \n",
      "..                                ...                                ...   \n",
      "95                                0.0                                0.0   \n",
      "96                                0.0                              549.4   \n",
      "97                                0.0                                0.0   \n",
      "98                                0.0                                0.0   \n",
      "99                                0.0                               39.0   \n",
      "\n",
      "    insta_ave_comments_first5_biz_202308  insta_ave_views_first5_biz_202307  \\\n",
      "0                                    0.0                            0.00000   \n",
      "1                                    5.0                            0.00000   \n",
      "2                                   23.0                        29607.66667   \n",
      "3                                    2.6                            0.00000   \n",
      "4                                    1.8                         3869.00000   \n",
      "..                                   ...                                ...   \n",
      "95                                   0.0                            0.00000   \n",
      "96                                   4.0                            0.00000   \n",
      "97                                   0.0                            0.00000   \n",
      "98                                   0.0                            0.00000   \n",
      "99                                   0.8                            0.00000   \n",
      "\n",
      "    ...  tiktok_ave_comments_first5_nonbiz_202307  \\\n",
      "0   ...                                       4.0   \n",
      "1   ...                                       0.0   \n",
      "2   ...                                      24.5   \n",
      "3   ...                                       0.0   \n",
      "4   ...                                       0.0   \n",
      "..  ...                                       ...   \n",
      "95  ...                                       0.0   \n",
      "96  ...                                       0.0   \n",
      "97  ...                                       0.0   \n",
      "98  ...                                       0.0   \n",
      "99  ...                                       0.0   \n",
      "\n",
      "    tiktok_ave_views_first5_nonbiz_202306  \\\n",
      "0                             1821.666667   \n",
      "1                            18484.000000   \n",
      "2                            16813.500000   \n",
      "3                             2212.000000   \n",
      "4                                0.000000   \n",
      "..                                    ...   \n",
      "95                               0.000000   \n",
      "96                               0.000000   \n",
      "97                               0.000000   \n",
      "98                               0.000000   \n",
      "99                            1333.000000   \n",
      "\n",
      "    tiktok_ave_likes_first5_nonbiz_202306  \\\n",
      "0                                    35.5   \n",
      "1                                  1112.0   \n",
      "2                                   405.2   \n",
      "3                                   129.5   \n",
      "4                                     0.0   \n",
      "..                                    ...   \n",
      "95                                    0.0   \n",
      "96                                    0.0   \n",
      "97                                    0.0   \n",
      "98                                    0.0   \n",
      "99                                   30.0   \n",
      "\n",
      "    tiktok_ave_comments_first5_nonbiz_202306  \\\n",
      "0                                        3.0   \n",
      "1                                       10.0   \n",
      "2                                        3.0   \n",
      "3                                        1.0   \n",
      "4                                        0.0   \n",
      "..                                       ...   \n",
      "95                                       0.0   \n",
      "96                                       0.0   \n",
      "97                                       0.0   \n",
      "98                                       0.0   \n",
      "99                                       3.0   \n",
      "\n",
      "    tiktok_ave_views_first5_nonbiz_202305  \\\n",
      "0                                  3020.0   \n",
      "1                                   968.0   \n",
      "2                                 25633.5   \n",
      "3                                   566.0   \n",
      "4                                     0.0   \n",
      "..                                    ...   \n",
      "95                                    0.0   \n",
      "96                                    0.0   \n",
      "97                                    0.0   \n",
      "98                                    0.0   \n",
      "99                                    0.0   \n",
      "\n",
      "    tiktok_ave_likes_first5_nonbiz_202305  \\\n",
      "0                                   134.0   \n",
      "1                                    40.0   \n",
      "2                                  4121.0   \n",
      "3                                    31.0   \n",
      "4                                     0.0   \n",
      "..                                    ...   \n",
      "95                                    0.0   \n",
      "96                                    0.0   \n",
      "97                                    0.0   \n",
      "98                                    0.0   \n",
      "99                                    0.0   \n",
      "\n",
      "    tiktok_ave_comments_first5_nonbiz_202305  \\\n",
      "0                                        3.0   \n",
      "1                                        5.0   \n",
      "2                                       22.0   \n",
      "3                                        1.0   \n",
      "4                                        0.0   \n",
      "..                                       ...   \n",
      "95                                       0.0   \n",
      "96                                       0.0   \n",
      "97                                       0.0   \n",
      "98                                       0.0   \n",
      "99                                       0.0   \n",
      "\n",
      "    tiktok_ave_views_first5_nonbiz_202304  \\\n",
      "0                                     0.0   \n",
      "1                                 63700.0   \n",
      "2                                  1402.0   \n",
      "3                                   378.8   \n",
      "4                                     0.0   \n",
      "..                                    ...   \n",
      "95                                  536.0   \n",
      "96                                    0.0   \n",
      "97                                    0.0   \n",
      "98                                    0.0   \n",
      "99                                 1485.0   \n",
      "\n",
      "    tiktok_ave_likes_first5_nonbiz_202304  \\\n",
      "0                                     0.0   \n",
      "1                                  2569.0   \n",
      "2                                    43.0   \n",
      "3                                    12.0   \n",
      "4                                     0.0   \n",
      "..                                    ...   \n",
      "95                                   20.0   \n",
      "96                                    0.0   \n",
      "97                                    0.0   \n",
      "98                                    0.0   \n",
      "99                                   55.0   \n",
      "\n",
      "    tiktok_ave_comments_first5_nonbiz_202304  \n",
      "0                                        0.0  \n",
      "1                                       52.0  \n",
      "2                                        1.5  \n",
      "3                                        0.4  \n",
      "4                                        0.0  \n",
      "..                                       ...  \n",
      "95                                       0.0  \n",
      "96                                       0.0  \n",
      "97                                       0.0  \n",
      "98                                       0.0  \n",
      "99                                       2.0  \n",
      "\n",
      "[100 rows x 83 columns]\n",
      "business_name                                object\n",
      "insta_link                                   object\n",
      "insta_followers                             float64\n",
      "insta_ave_views_first5_biz_202309           float64\n",
      "insta_ave_likes_first5_biz_202309           float64\n",
      "                                             ...   \n",
      "tiktok_ave_likes_first5_nonbiz_202305       float64\n",
      "tiktok_ave_comments_first5_nonbiz_202305    float64\n",
      "tiktok_ave_views_first5_nonbiz_202304       float64\n",
      "tiktok_ave_likes_first5_nonbiz_202304       float64\n",
      "tiktok_ave_comments_first5_nonbiz_202304    float64\n",
      "Length: 83, dtype: object\n"
     ]
    }
   ],
   "source": [
    "# Preprocessing\n",
    "smb = smb_raw.replace('na', np.nan)\n",
    "# Assuming your DataFrame is df\n",
    "smb.fillna(0, inplace=True)\n",
    "print(smb)\n",
    "print(smb.dtypes)"
   ]
  },
  {
   "cell_type": "code",
   "execution_count": 4,
   "id": "08a774d8-7c5a-4d63-b682-37e179083b6e",
   "metadata": {},
   "outputs": [
    {
     "name": "stdout",
     "output_type": "stream",
     "text": [
      "business_name                               string[python]\n",
      "insta_link                                  string[python]\n",
      "insta_followers                                    float64\n",
      "insta_ave_views_first5_biz_202309                  float64\n",
      "insta_ave_likes_first5_biz_202309                  float64\n",
      "                                                 ...      \n",
      "tiktok_ave_likes_first5_nonbiz_202305              float64\n",
      "tiktok_ave_comments_first5_nonbiz_202305           float64\n",
      "tiktok_ave_views_first5_nonbiz_202304              float64\n",
      "tiktok_ave_likes_first5_nonbiz_202304              float64\n",
      "tiktok_ave_comments_first5_nonbiz_202304           float64\n",
      "Length: 83, dtype: object\n"
     ]
    }
   ],
   "source": [
    "# Update data types\n",
    "data_types = {'business_name': 'string', 'insta_link': 'string', 'insta_name': 'string'}\n",
    "smb = smb.astype(data_types)\n",
    "print(smb.dtypes)"
   ]
  },
  {
   "cell_type": "code",
   "execution_count": 5,
   "metadata": {},
   "outputs": [
    {
     "name": "stdout",
     "output_type": "stream",
     "text": [
      "Index(['business_name', 'insta_link', 'insta_followers',\n",
      "       'insta_ave_views_first5_biz_202309',\n",
      "       'insta_ave_likes_first5_biz_202309',\n",
      "       'insta_ave_comments_first5_biz_202309',\n",
      "       'insta_ave_views_first5_biz_202308',\n",
      "       'insta_ave_likes_first5_biz_202308',\n",
      "       'insta_ave_comments_first5_biz_202308',\n",
      "       'insta_ave_views_first5_biz_202307',\n",
      "       'insta_ave_likes_first5_biz_202307',\n",
      "       'insta_ave_comments_first5_biz_202307',\n",
      "       'insta_ave_views_first5_biz_202306',\n",
      "       'insta_ave_likes_first5_biz_202306',\n",
      "       'insta_ave_comments_first5_biz_202306',\n",
      "       'insta_ave_views_first5_biz_202305',\n",
      "       'insta_ave_likes_first5_biz_202305',\n",
      "       'insta_ave_comments_first5_biz_202305',\n",
      "       'insta_ave_views_first5_biz_202304',\n",
      "       'insta_ave_likes_first5_biz_202304',\n",
      "       'insta_ave_comments_first5_biz_202304', 'fb_link', 'fb_followers',\n",
      "       'fb_ave_views_first5_biz_202309', 'fb_ave_likes_first5_biz_202309',\n",
      "       'fb_ave_comments_first5_biz_202309', 'fb_ave_views_first5_biz_202308',\n",
      "       'fb_ave_likes_first5_biz_202308', 'fb_ave_comments_first5_biz_202308',\n",
      "       'fb_ave_views_first5_biz_202307', 'fb_ave_likes_first5_biz_202307',\n",
      "       'fb_ave_comments_first5_biz_202307', 'fb_ave_views_first5_biz_202306',\n",
      "       'fb_ave_likes_first5_biz_202306', 'fb_ave_comments_first5_biz_202306',\n",
      "       'fb_ave_views_first5_biz_202305', 'fb_ave_likes_first5_biz_202305',\n",
      "       'fb_ave_comments_first5_biz_202305', 'fb_ave_views_first5_biz_202304',\n",
      "       'fb_ave_likes_first5_biz_202304', 'fb_ave_comments_first5_biz_202304',\n",
      "       'Unnamed: 41', 'insta_name', 'tiktok_link', 'tiktok_followers',\n",
      "       'tiktok_likes', 'tiktok_ave_views_first5_biz_202309',\n",
      "       'tiktok_ave_likes_first5_biz_202309',\n",
      "       'tiktok_ave_comments_first5_biz_202309',\n",
      "       'tiktok_ave_views_first5_biz_202308',\n",
      "       'tiktok_ave_likes_first5_biz_202308',\n",
      "       'tiktok_ave_comments_first5_biz_202308',\n",
      "       'tiktok_ave_views_first5_biz_202307',\n",
      "       'tiktok_ave_likes_first5_biz_202307',\n",
      "       'tiktok_ave_comments_first5_biz_202307',\n",
      "       'tiktok_ave_views_first5_biz_202306',\n",
      "       'tiktok_ave_likes_first5_biz_202306',\n",
      "       'tiktok_ave_comments_first5_biz_202306',\n",
      "       'tiktok_ave_views_first5_biz_202305',\n",
      "       'tiktok_ave_likes_first5_biz_202305',\n",
      "       'tiktok_ave_comments_first5_biz_202305',\n",
      "       'tiktok_ave_views_first5_biz_202304',\n",
      "       'tiktok_ave_likes_first5_biz_202304',\n",
      "       'tiktok_ave_comments_first5_biz_202304', 'insta_name.1',\n",
      "       'tiktok_ave_views_first5_nonbiz_202309',\n",
      "       'tiktok_ave_likes_first5_nonbiz_202309',\n",
      "       'tiktok_ave_comments_first5_nonbiz_202309',\n",
      "       'tiktok_ave_views_first5_nonbiz_202308',\n",
      "       'tiktok_ave_likes_first5_nonbiz_202308',\n",
      "       'tiktok_ave_comments_first5_nonbiz_202308',\n",
      "       'tiktok_ave_views_first5_nonbiz_202307',\n",
      "       'tiktok_ave_likes_first5_nonbiz_202307',\n",
      "       'tiktok_ave_comments_first5_nonbiz_202307',\n",
      "       'tiktok_ave_views_first5_nonbiz_202306',\n",
      "       'tiktok_ave_likes_first5_nonbiz_202306',\n",
      "       'tiktok_ave_comments_first5_nonbiz_202306',\n",
      "       'tiktok_ave_views_first5_nonbiz_202305',\n",
      "       'tiktok_ave_likes_first5_nonbiz_202305',\n",
      "       'tiktok_ave_comments_first5_nonbiz_202305',\n",
      "       'tiktok_ave_views_first5_nonbiz_202304',\n",
      "       'tiktok_ave_likes_first5_nonbiz_202304',\n",
      "       'tiktok_ave_comments_first5_nonbiz_202304'],\n",
      "      dtype='object')\n"
     ]
    }
   ],
   "source": [
    "print(smb.columns)"
   ]
  },
  {
   "cell_type": "markdown",
   "metadata": {},
   "source": [
    "## EDA: Get stacked cols of likes, comments and views for each platform"
   ]
  },
  {
   "cell_type": "code",
   "execution_count": 6,
   "metadata": {},
   "outputs": [],
   "source": [
    "# Drop rows of a df that are all 0s\n",
    "def drop_zero_rows(df):\n",
    "    return df.loc[~(df==0).all(axis=1)]\n",
    "\n",
    "# Get stacked columns of monthly likes, comments, and views\n",
    "def get_stacked_cols(smb, platform):\n",
    "    # Create dfs containing only columns with likes, comments, or views\n",
    "    # Stack the columns together\n",
    "    # Drop rows that are all 0s\n",
    "    likes_columns = drop_zero_rows(smb.filter(like=f'{platform}_ave_likes_first5_biz').filter(regex='^(?!.*quartile).*$')).stack().reset_index(drop=True)\n",
    "    comments_columns = drop_zero_rows(smb.filter(like=f'{platform}_ave_comments_first5_biz').filter(regex='^(?!.*quartile).*$')).stack().reset_index(drop=True)\n",
    "    views_columns = drop_zero_rows(smb.filter(like=f'{platform}_ave_views_first5_biz').filter(regex='^(?!.*quartile).*$')).stack().reset_index(drop=True)\n",
    "\n",
    "    return likes_columns, comments_columns, views_columns"
   ]
  },
  {
   "cell_type": "code",
   "execution_count": 7,
   "metadata": {},
   "outputs": [
    {
     "data": {
      "text/plain": [
       "0       0.0\n",
       "1       0.0\n",
       "2       0.0\n",
       "3       0.0\n",
       "4       0.0\n",
       "       ... \n",
       "511    39.0\n",
       "512    50.6\n",
       "513    47.5\n",
       "514    33.6\n",
       "515    40.0\n",
       "Length: 516, dtype: float64"
      ]
     },
     "execution_count": 7,
     "metadata": {},
     "output_type": "execute_result"
    }
   ],
   "source": [
    "likes_columns_insta, comments_columns_insta, views_columns_insta = get_stacked_cols(smb, 'insta')\n",
    "likes_columns_fb, comments_columns_fb, views_columns_fb = get_stacked_cols(smb, 'fb')\n",
    "likes_columns_tiktok, comments_columns_tiktok, views_columns_tiktok = get_stacked_cols(smb, 'tiktok')\n",
    "likes_columns_insta"
   ]
  },
  {
   "cell_type": "code",
   "execution_count": 8,
   "metadata": {},
   "outputs": [],
   "source": [
    "def plot_hist(fb, insta, tiktok, log, metric):\n",
    "    plt.figure(figsize=(6,4))\n",
    "    if log:\n",
    "        fb = np.log(fb+1)\n",
    "        insta = np.log(insta+1)\n",
    "        tiktok = np.log(tiktok+1)\n",
    "    plt.hist(fb, label='fb', alpha=0.5, bins=20)\n",
    "    plt.hist(insta, label='insta', alpha=0.5, bins=20)\n",
    "    plt.hist(tiktok, label='tiktok', alpha=0.5, bins=20)\n",
    "    plt.title(metric)\n",
    "    plt.legend()\n",
    "    plt.show()"
   ]
  },
  {
   "cell_type": "code",
   "execution_count": 9,
   "metadata": {},
   "outputs": [
    {
     "data": {
      "image/png": "[encoded data removed]",
      "text/plain": [
       "<Figure size 600x400 with 1 Axes>"
      ]
     },
     "metadata": {},
     "output_type": "display_data"
    },
    {
     "data": {
      "image/png": "[encoded data removed]",
      "text/plain": [
       "<Figure size 600x400 with 1 Axes>"
      ]
     },
     "metadata": {},
     "output_type": "display_data"
    },
    {
     "data": {
      "image/png": "[encoded data removed]",
      "text/plain": [
       "<Figure size 600x400 with 1 Axes>"
      ]
     },
     "metadata": {},
     "output_type": "display_data"
    },
    {
     "data": {
      "image/png": "[encoded data removed]",
      "text/plain": [
       "<Figure size 600x400 with 1 Axes>"
      ]
     },
     "metadata": {},
     "output_type": "display_data"
    },
    {
     "data": {
      "image/png": "[encoded data removed]",
      "text/plain": [
       "<Figure size 600x400 with 1 Axes>"
      ]
     },
     "metadata": {},
     "output_type": "display_data"
    },
    {
     "data": {
      "image/png": "[encoded data removed]",
      "text/plain": [
       "<Figure size 600x400 with 1 Axes>"
      ]
     },
     "metadata": {},
     "output_type": "display_data"
    }
   ],
   "source": [
    "plot_hist(comments_columns_fb, comments_columns_insta, comments_columns_tiktok, log=False, metric='comments')\n",
    "plot_hist(comments_columns_fb, comments_columns_insta, comments_columns_tiktok, log=True, metric='comments (log)')\n",
    "plot_hist(views_columns_fb, views_columns_insta, views_columns_tiktok, log=False, metric='views')\n",
    "plot_hist(views_columns_fb, views_columns_insta, views_columns_tiktok, log=True, metric='views (log)')\n",
    "plot_hist(likes_columns_fb, likes_columns_insta, likes_columns_tiktok, log=False, metric='likes')\n",
    "plot_hist(likes_columns_fb, likes_columns_insta, likes_columns_tiktok, log=True, metric='likes (log)')"
   ]
  },
  {
   "cell_type": "markdown",
   "metadata": {},
   "source": [
    "## Get overall engagement for each platform"
   ]
  },
  {
   "cell_type": "code",
   "execution_count": 10,
   "metadata": {},
   "outputs": [
    {
     "name": "stdout",
     "output_type": "stream",
     "text": [
      "Tiktok view to like ratio: 40.15629141323766\n",
      "Insta view to like ratio: 18.420619974741825\n",
      "Estimated FB view to like ratio: 29.288455693989743\n"
     ]
    }
   ],
   "source": [
    "# Get total number of likes and views for insta and tiktok\n",
    "tiktok_likes = drop_zero_rows(smb.filter(like=f'tiktok_ave_likes_first5_biz')).stack().reset_index(drop=True).sum()\n",
    "insta_likes = drop_zero_rows(smb.filter(like=f'insta_ave_likes_first5_biz')).stack().reset_index(drop=True).sum()\n",
    "fb_likes = drop_zero_rows(smb.filter(like=f'fb_ave_likes_first5_biz')).stack().reset_index(drop=True).sum()\n",
    "tiktok_views = drop_zero_rows(smb.filter(like=f'tiktok_ave_views_first5_biz')).stack().reset_index(drop=True).sum()\n",
    "insta_views = drop_zero_rows(smb.filter(like=f'insta_ave_views_first5_biz')).stack().reset_index(drop=True).sum()\n",
    "\n",
    "tiktok_view_to_like_ratio = tiktok_views/tiktok_likes\n",
    "insta_view_to_like_ratio = insta_views/insta_likes\n",
    "fb_view_to_like_ratio = 0.5*(tiktok_views/tiktok_likes+insta_views/insta_likes)\n",
    "\n",
    "print(\"Tiktok view to like ratio:\", tiktok_view_to_like_ratio)\n",
    "print(\"Insta view to like ratio:\", insta_view_to_like_ratio)\n",
    "print(\"Estimated FB view to like ratio:\", fb_view_to_like_ratio)"
   ]
  },
  {
   "cell_type": "code",
   "execution_count": 11,
   "metadata": {},
   "outputs": [],
   "source": [
    "def get_overall_engagement(smb, platform, fb_view_to_like_ratio):\n",
    "    months = ['202304', '202305', '202306', '202307', '202308', '202309']\n",
    "    # metrics = ['likes', 'comments', 'views']\n",
    "    \n",
    "    overall_engagement_stacked = pd.DataFrame()\n",
    "    for month in months:\n",
    "        # Get the views, likes and comments for a specific (platform, month)\n",
    "        views = f'{platform}_ave_views_first5_biz_{month}'\n",
    "        likes = f'{platform}_ave_likes_first5_biz_{month}'\n",
    "        comments = f'{platform}_ave_comments_first5_biz_{month}'\n",
    "        df_month_platform = smb[[views, likes, comments]]\n",
    "\n",
    "        # Calculate the overall engagement for a platform in a specific month\n",
    "        # log(views + 5*likes + 10*comments + 1) for insta and tiktok which have views, likes and comments\n",
    "        if platform != 'fb':\n",
    "            overall_engagement = np.log(df_month_platform[views] + 5*df_month_platform[likes] + 10*df_month_platform[comments] + 1)\n",
    "        # log(fb_view_to_like_ratio*likes + 5*likes + 10*comments + 1) for fb which has likes and comments but no views\n",
    "        else:\n",
    "            overall_engagement = np.log(fb_view_to_like_ratio * df_month_platform[likes] + 5*df_month_platform[likes] + 10*df_month_platform[comments] + 1)\n",
    "\n",
    "        # For a platform, concat the overall engagement across different months\n",
    "        overall_engagement_stacked = pd.concat([overall_engagement_stacked, overall_engagement], axis=1)\n",
    "\n",
    "    # Drop rows that are all 0s\n",
    "    overall_engagement_stacked = drop_zero_rows(overall_engagement_stacked)\n",
    "    # Stack the columns together\n",
    "    overall_engagement_stacked = pd.DataFrame(overall_engagement_stacked.stack().reset_index(drop=True), columns=['overall_engagement'])\n",
    "\n",
    "    return overall_engagement_stacked"
   ]
  },
  {
   "cell_type": "code",
   "execution_count": 12,
   "metadata": {},
   "outputs": [
    {
     "data": {
      "text/html": [
       "<div>\n",
       "<style scoped>\n",
       "    .dataframe tbody tr th:only-of-type {\n",
       "        vertical-align: middle;\n",
       "    }\n",
       "\n",
       "    .dataframe tbody tr th {\n",
       "        vertical-align: top;\n",
       "    }\n",
       "\n",
       "    .dataframe thead th {\n",
       "        text-align: right;\n",
       "    }\n",
       "</style>\n",
       "<table border=\"1\" class=\"dataframe\">\n",
       "  <thead>\n",
       "    <tr style=\"text-align: right;\">\n",
       "      <th></th>\n",
       "      <th>overall_engagement</th>\n",
       "    </tr>\n",
       "  </thead>\n",
       "  <tbody>\n",
       "    <tr>\n",
       "      <th>0</th>\n",
       "      <td>6.900731</td>\n",
       "    </tr>\n",
       "    <tr>\n",
       "      <th>1</th>\n",
       "      <td>0.000000</td>\n",
       "    </tr>\n",
       "    <tr>\n",
       "      <th>2</th>\n",
       "      <td>7.374002</td>\n",
       "    </tr>\n",
       "    <tr>\n",
       "      <th>3</th>\n",
       "      <td>10.329605</td>\n",
       "    </tr>\n",
       "    <tr>\n",
       "      <th>4</th>\n",
       "      <td>0.000000</td>\n",
       "    </tr>\n",
       "    <tr>\n",
       "      <th>...</th>\n",
       "      <td>...</td>\n",
       "    </tr>\n",
       "    <tr>\n",
       "      <th>163</th>\n",
       "      <td>3.672072</td>\n",
       "    </tr>\n",
       "    <tr>\n",
       "      <th>164</th>\n",
       "      <td>3.791737</td>\n",
       "    </tr>\n",
       "    <tr>\n",
       "      <th>165</th>\n",
       "      <td>5.609472</td>\n",
       "    </tr>\n",
       "    <tr>\n",
       "      <th>166</th>\n",
       "      <td>0.000000</td>\n",
       "    </tr>\n",
       "    <tr>\n",
       "      <th>167</th>\n",
       "      <td>0.000000</td>\n",
       "    </tr>\n",
       "  </tbody>\n",
       "</table>\n",
       "<p>168 rows × 1 columns</p>\n",
       "</div>"
      ],
      "text/plain": [
       "     overall_engagement\n",
       "0              6.900731\n",
       "1              0.000000\n",
       "2              7.374002\n",
       "3             10.329605\n",
       "4              0.000000\n",
       "..                  ...\n",
       "163            3.672072\n",
       "164            3.791737\n",
       "165            5.609472\n",
       "166            0.000000\n",
       "167            0.000000\n",
       "\n",
       "[168 rows x 1 columns]"
      ]
     },
     "execution_count": 12,
     "metadata": {},
     "output_type": "execute_result"
    }
   ],
   "source": [
    "overall_engagement_fb = get_overall_engagement(smb, 'fb', fb_view_to_like_ratio)\n",
    "overall_engagement_insta = get_overall_engagement(smb, 'insta', fb_view_to_like_ratio)\n",
    "overall_engagement_tiktok = get_overall_engagement(smb, 'tiktok', fb_view_to_like_ratio)\n",
    "overall_engagement_tiktok\n"
   ]
  },
  {
   "cell_type": "code",
   "execution_count": 13,
   "metadata": {},
   "outputs": [
    {
     "data": {
      "image/png": "[encoded data removed]",
      "text/plain": [
       "<Figure size 600x400 with 1 Axes>"
      ]
     },
     "metadata": {},
     "output_type": "display_data"
    }
   ],
   "source": [
    "plot_hist(overall_engagement_fb, overall_engagement_insta, overall_engagement_tiktok, log=False, metric='overall engagement')"
   ]
  },
  {
   "cell_type": "markdown",
   "metadata": {},
   "source": [
    "# Get overall engagement statistics (quantiles, SD)"
   ]
  },
  {
   "cell_type": "code",
   "execution_count": 14,
   "metadata": {},
   "outputs": [
    {
     "data": {
      "text/html": [
       "<div>\n",
       "<style scoped>\n",
       "    .dataframe tbody tr th:only-of-type {\n",
       "        vertical-align: middle;\n",
       "    }\n",
       "\n",
       "    .dataframe tbody tr th {\n",
       "        vertical-align: top;\n",
       "    }\n",
       "\n",
       "    .dataframe thead th {\n",
       "        text-align: right;\n",
       "    }\n",
       "</style>\n",
       "<table border=\"1\" class=\"dataframe\">\n",
       "  <thead>\n",
       "    <tr style=\"text-align: right;\">\n",
       "      <th></th>\n",
       "      <th>overall_engagement</th>\n",
       "      <th>quantile</th>\n",
       "    </tr>\n",
       "  </thead>\n",
       "  <tbody>\n",
       "    <tr>\n",
       "      <th>0</th>\n",
       "      <td>6.900731</td>\n",
       "      <td>1</td>\n",
       "    </tr>\n",
       "    <tr>\n",
       "      <th>1</th>\n",
       "      <td>0.000000</td>\n",
       "      <td>0</td>\n",
       "    </tr>\n",
       "    <tr>\n",
       "      <th>2</th>\n",
       "      <td>7.374002</td>\n",
       "      <td>2</td>\n",
       "    </tr>\n",
       "    <tr>\n",
       "      <th>3</th>\n",
       "      <td>10.329605</td>\n",
       "      <td>2</td>\n",
       "    </tr>\n",
       "    <tr>\n",
       "      <th>4</th>\n",
       "      <td>0.000000</td>\n",
       "      <td>0</td>\n",
       "    </tr>\n",
       "    <tr>\n",
       "      <th>...</th>\n",
       "      <td>...</td>\n",
       "      <td>...</td>\n",
       "    </tr>\n",
       "    <tr>\n",
       "      <th>163</th>\n",
       "      <td>3.672072</td>\n",
       "      <td>1</td>\n",
       "    </tr>\n",
       "    <tr>\n",
       "      <th>164</th>\n",
       "      <td>3.791737</td>\n",
       "      <td>1</td>\n",
       "    </tr>\n",
       "    <tr>\n",
       "      <th>165</th>\n",
       "      <td>5.609472</td>\n",
       "      <td>1</td>\n",
       "    </tr>\n",
       "    <tr>\n",
       "      <th>166</th>\n",
       "      <td>0.000000</td>\n",
       "      <td>0</td>\n",
       "    </tr>\n",
       "    <tr>\n",
       "      <th>167</th>\n",
       "      <td>0.000000</td>\n",
       "      <td>0</td>\n",
       "    </tr>\n",
       "  </tbody>\n",
       "</table>\n",
       "<p>168 rows × 2 columns</p>\n",
       "</div>"
      ],
      "text/plain": [
       "     overall_engagement  quantile\n",
       "0              6.900731         1\n",
       "1              0.000000         0\n",
       "2              7.374002         2\n",
       "3             10.329605         2\n",
       "4              0.000000         0\n",
       "..                  ...       ...\n",
       "163            3.672072         1\n",
       "164            3.791737         1\n",
       "165            5.609472         1\n",
       "166            0.000000         0\n",
       "167            0.000000         0\n",
       "\n",
       "[168 rows x 2 columns]"
      ]
     },
     "execution_count": 14,
     "metadata": {},
     "output_type": "execute_result"
    }
   ],
   "source": [
    "# Split overall engagement into 4 or 3 quantiles, depending on the platform\n",
    "overall_engagement_fb['quantile'] = pd.qcut(overall_engagement_fb['overall_engagement'], 4, labels=False)\n",
    "overall_engagement_insta['quantile'] = pd.qcut(overall_engagement_insta['overall_engagement'], 4, labels=False)\n",
    "overall_engagement_tiktok['quantile'] = pd.qcut(overall_engagement_tiktok['overall_engagement'], 3, labels=False)\n",
    "overall_engagement_tiktok"
   ]
  },
  {
   "cell_type": "code",
   "execution_count": 15,
   "metadata": {},
   "outputs": [
    {
     "data": {
      "text/html": [
       "<div>\n",
       "<style scoped>\n",
       "    .dataframe tbody tr th:only-of-type {\n",
       "        vertical-align: middle;\n",
       "    }\n",
       "\n",
       "    .dataframe tbody tr th {\n",
       "        vertical-align: top;\n",
       "    }\n",
       "\n",
       "    .dataframe thead th {\n",
       "        text-align: right;\n",
       "    }\n",
       "</style>\n",
       "<table border=\"1\" class=\"dataframe\">\n",
       "  <thead>\n",
       "    <tr style=\"text-align: right;\">\n",
       "      <th></th>\n",
       "      <th>min</th>\n",
       "    </tr>\n",
       "  </thead>\n",
       "  <tbody>\n",
       "    <tr>\n",
       "      <th>0</th>\n",
       "      <td>0.000000</td>\n",
       "    </tr>\n",
       "    <tr>\n",
       "      <th>1</th>\n",
       "      <td>2.104134</td>\n",
       "    </tr>\n",
       "    <tr>\n",
       "      <th>2</th>\n",
       "      <td>7.014814</td>\n",
       "    </tr>\n",
       "  </tbody>\n",
       "</table>\n",
       "</div>"
      ],
      "text/plain": [
       "        min\n",
       "0  0.000000\n",
       "1  2.104134\n",
       "2  7.014814"
      ]
     },
     "execution_count": 15,
     "metadata": {},
     "output_type": "execute_result"
    }
   ],
   "source": [
    "# Also get the intervals / quantiles\n",
    "overall_engagement_quantiles_fb = pd.DataFrame(overall_engagement_fb.groupby('quantile')['overall_engagement'].agg(['min', 'max']).reset_index()['min'])\n",
    "overall_engagement_quantiles_insta = pd.DataFrame(overall_engagement_insta.groupby('quantile')['overall_engagement'].agg(['min', 'max']).reset_index()['min'])\n",
    "overall_engagement_quantiles_tiktok = pd.DataFrame(overall_engagement_tiktok.groupby('quantile')['overall_engagement'].agg(['min', 'max']).reset_index()['min'])\n",
    "overall_engagement_quantiles_tiktok"
   ]
  },
  {
   "cell_type": "code",
   "execution_count": 16,
   "metadata": {},
   "outputs": [
    {
     "name": "stdout",
     "output_type": "stream",
     "text": [
      "FB std:           overall_engagement\n",
      "quantile                    \n",
      "0                   0.511627\n",
      "1                   0.630067\n",
      "2                   0.329281\n",
      "3                   0.935370\n",
      "Insta std:           overall_engagement\n",
      "quantile                    \n",
      "0                   2.422622\n",
      "1                   0.430157\n",
      "2                   0.436210\n",
      "3                   0.911331\n",
      "Tiktok std:           overall_engagement\n",
      "quantile                    \n",
      "0                   0.010000\n",
      "1                   1.065108\n",
      "2                   1.392384\n"
     ]
    }
   ],
   "source": [
    "# Get standard deviations by quantile using groupby function\n",
    "# Add 0.01 to everything so that Tiktok quantile 0 doesn't have std of 0 and it's possible to move out of overall_engagement=0\n",
    "overall_engagement_sd_fb = overall_engagement_fb.groupby('quantile').std() + 0.01\n",
    "overall_engagement_sd_insta = overall_engagement_insta.groupby('quantile').std() + 0.01\n",
    "overall_engagement_sd_tiktok = overall_engagement_tiktok.groupby('quantile').std() + 0.01\n",
    "overall_engagement_sd = [overall_engagement_sd_fb, overall_engagement_sd_insta, overall_engagement_sd_tiktok]\n",
    "print(\"FB std:\", overall_engagement_sd_fb)\n",
    "print(\"Insta std:\", overall_engagement_sd_insta)\n",
    "print(\"Tiktok std:\", overall_engagement_sd_tiktok)"
   ]
  },
  {
   "cell_type": "markdown",
   "metadata": {},
   "source": [
    "# Read in final predicted probabilities for month m+1"
   ]
  },
  {
   "cell_type": "code",
   "execution_count": 17,
   "metadata": {},
   "outputs": [
    {
     "data": {
      "text/html": [
       "<div>\n",
       "<style scoped>\n",
       "    .dataframe tbody tr th:only-of-type {\n",
       "        vertical-align: middle;\n",
       "    }\n",
       "\n",
       "    .dataframe tbody tr th {\n",
       "        vertical-align: top;\n",
       "    }\n",
       "\n",
       "    .dataframe thead th {\n",
       "        text-align: right;\n",
       "    }\n",
       "</style>\n",
       "<table border=\"1\" class=\"dataframe\">\n",
       "  <thead>\n",
       "    <tr style=\"text-align: right;\">\n",
       "      <th></th>\n",
       "      <th>insta_followers</th>\n",
       "      <th>fb_followers</th>\n",
       "      <th>tiktok_followers</th>\n",
       "      <th>tiktok_likes</th>\n",
       "      <th>insta_like_range_month_m_(-0.001, 13.95]</th>\n",
       "      <th>insta_like_range_month_m_(13.95, 67.2]</th>\n",
       "      <th>insta_like_range_month_m_(67.2, 181.1]</th>\n",
       "      <th>insta_like_range_month_m_(181.1, 7864.8]</th>\n",
       "      <th>insta_comment_range_month_m_(-0.001, 2.0]</th>\n",
       "      <th>insta_comment_range_month_m_(2.0, 7.0]</th>\n",
       "      <th>...</th>\n",
       "      <th>tiktok_biz_comment_range_month_m_(-0.001, 0.688]</th>\n",
       "      <th>tiktok_biz_comment_range_month_m_(0.688, 5562.6]</th>\n",
       "      <th>tiktok_nonbiz_like_range_month_m_(-0.001, 2.5]</th>\n",
       "      <th>tiktok_nonbiz_like_range_month_m_(2.5, 61.25]</th>\n",
       "      <th>tiktok_nonbiz_like_range_month_m_(61.25, 31200.0]</th>\n",
       "      <th>tiktok_nonbiz_comment_range_month_m_(-0.001, 2.0]</th>\n",
       "      <th>tiktok_nonbiz_comment_range_month_m_(2.0, 197.0]</th>\n",
       "      <th>tiktok_nonbiz_view_range_month_m_(-0.001, 256.625]</th>\n",
       "      <th>tiktok_nonbiz_view_range_month_m_(256.625, 1633.0]</th>\n",
       "      <th>tiktok_nonbiz_view_range_month_m_(1633.0, 408000.0]</th>\n",
       "    </tr>\n",
       "  </thead>\n",
       "  <tbody>\n",
       "    <tr>\n",
       "      <th>0</th>\n",
       "      <td>12000.0</td>\n",
       "      <td>1.0</td>\n",
       "      <td>0.0</td>\n",
       "      <td>0.0</td>\n",
       "      <td>0.207428</td>\n",
       "      <td>0.364735</td>\n",
       "      <td>0.240142</td>\n",
       "      <td>0.187694</td>\n",
       "      <td>0.444230</td>\n",
       "      <td>0.296899</td>\n",
       "      <td>...</td>\n",
       "      <td>0.675770</td>\n",
       "      <td>0.324230</td>\n",
       "      <td>0.449369</td>\n",
       "      <td>0.281155</td>\n",
       "      <td>0.269476</td>\n",
       "      <td>0.708067</td>\n",
       "      <td>0.291933</td>\n",
       "      <td>0.423313</td>\n",
       "      <td>0.298202</td>\n",
       "      <td>0.278484</td>\n",
       "    </tr>\n",
       "    <tr>\n",
       "      <th>1</th>\n",
       "      <td>27000.0</td>\n",
       "      <td>1000.0</td>\n",
       "      <td>23.0</td>\n",
       "      <td>287.0</td>\n",
       "      <td>0.131777</td>\n",
       "      <td>0.156244</td>\n",
       "      <td>0.234903</td>\n",
       "      <td>0.477076</td>\n",
       "      <td>0.256989</td>\n",
       "      <td>0.323119</td>\n",
       "      <td>...</td>\n",
       "      <td>0.591560</td>\n",
       "      <td>0.408440</td>\n",
       "      <td>0.314323</td>\n",
       "      <td>0.295128</td>\n",
       "      <td>0.390548</td>\n",
       "      <td>0.636178</td>\n",
       "      <td>0.363822</td>\n",
       "      <td>0.301879</td>\n",
       "      <td>0.304483</td>\n",
       "      <td>0.393637</td>\n",
       "    </tr>\n",
       "    <tr>\n",
       "      <th>2</th>\n",
       "      <td>2401.0</td>\n",
       "      <td>2600.0</td>\n",
       "      <td>0.0</td>\n",
       "      <td>0.0</td>\n",
       "      <td>0.284864</td>\n",
       "      <td>0.397061</td>\n",
       "      <td>0.180365</td>\n",
       "      <td>0.137710</td>\n",
       "      <td>0.632437</td>\n",
       "      <td>0.202711</td>\n",
       "      <td>...</td>\n",
       "      <td>0.661532</td>\n",
       "      <td>0.338468</td>\n",
       "      <td>0.560733</td>\n",
       "      <td>0.234622</td>\n",
       "      <td>0.204645</td>\n",
       "      <td>0.736452</td>\n",
       "      <td>0.263548</td>\n",
       "      <td>0.563704</td>\n",
       "      <td>0.247715</td>\n",
       "      <td>0.188581</td>\n",
       "    </tr>\n",
       "    <tr>\n",
       "      <th>3</th>\n",
       "      <td>1109.0</td>\n",
       "      <td>62.0</td>\n",
       "      <td>0.0</td>\n",
       "      <td>0.0</td>\n",
       "      <td>0.512172</td>\n",
       "      <td>0.220838</td>\n",
       "      <td>0.140300</td>\n",
       "      <td>0.126690</td>\n",
       "      <td>0.633143</td>\n",
       "      <td>0.202112</td>\n",
       "      <td>...</td>\n",
       "      <td>0.663182</td>\n",
       "      <td>0.336818</td>\n",
       "      <td>0.572912</td>\n",
       "      <td>0.222266</td>\n",
       "      <td>0.204822</td>\n",
       "      <td>0.739836</td>\n",
       "      <td>0.260164</td>\n",
       "      <td>0.574177</td>\n",
       "      <td>0.241797</td>\n",
       "      <td>0.184026</td>\n",
       "    </tr>\n",
       "    <tr>\n",
       "      <th>4</th>\n",
       "      <td>20500.0</td>\n",
       "      <td>5800.0</td>\n",
       "      <td>0.0</td>\n",
       "      <td>0.0</td>\n",
       "      <td>0.152420</td>\n",
       "      <td>0.235857</td>\n",
       "      <td>0.317424</td>\n",
       "      <td>0.294299</td>\n",
       "      <td>0.297141</td>\n",
       "      <td>0.323338</td>\n",
       "      <td>...</td>\n",
       "      <td>0.637996</td>\n",
       "      <td>0.362004</td>\n",
       "      <td>0.445924</td>\n",
       "      <td>0.277262</td>\n",
       "      <td>0.276814</td>\n",
       "      <td>0.668134</td>\n",
       "      <td>0.331866</td>\n",
       "      <td>0.452848</td>\n",
       "      <td>0.284994</td>\n",
       "      <td>0.262158</td>\n",
       "    </tr>\n",
       "    <tr>\n",
       "      <th>...</th>\n",
       "      <td>...</td>\n",
       "      <td>...</td>\n",
       "      <td>...</td>\n",
       "      <td>...</td>\n",
       "      <td>...</td>\n",
       "      <td>...</td>\n",
       "      <td>...</td>\n",
       "      <td>...</td>\n",
       "      <td>...</td>\n",
       "      <td>...</td>\n",
       "      <td>...</td>\n",
       "      <td>...</td>\n",
       "      <td>...</td>\n",
       "      <td>...</td>\n",
       "      <td>...</td>\n",
       "      <td>...</td>\n",
       "      <td>...</td>\n",
       "      <td>...</td>\n",
       "      <td>...</td>\n",
       "      <td>...</td>\n",
       "      <td>...</td>\n",
       "    </tr>\n",
       "    <tr>\n",
       "      <th>91</th>\n",
       "      <td>22000.0</td>\n",
       "      <td>3000.0</td>\n",
       "      <td>126.0</td>\n",
       "      <td>1578.0</td>\n",
       "      <td>0.134496</td>\n",
       "      <td>0.148350</td>\n",
       "      <td>0.257273</td>\n",
       "      <td>0.459881</td>\n",
       "      <td>0.253142</td>\n",
       "      <td>0.381770</td>\n",
       "      <td>...</td>\n",
       "      <td>0.606301</td>\n",
       "      <td>0.393699</td>\n",
       "      <td>0.283555</td>\n",
       "      <td>0.317674</td>\n",
       "      <td>0.398772</td>\n",
       "      <td>0.541229</td>\n",
       "      <td>0.458771</td>\n",
       "      <td>0.290468</td>\n",
       "      <td>0.324815</td>\n",
       "      <td>0.384717</td>\n",
       "    </tr>\n",
       "    <tr>\n",
       "      <th>92</th>\n",
       "      <td>1122.0</td>\n",
       "      <td>1900.0</td>\n",
       "      <td>0.0</td>\n",
       "      <td>0.0</td>\n",
       "      <td>0.475809</td>\n",
       "      <td>0.236920</td>\n",
       "      <td>0.151197</td>\n",
       "      <td>0.136073</td>\n",
       "      <td>0.618108</td>\n",
       "      <td>0.211114</td>\n",
       "      <td>...</td>\n",
       "      <td>0.632611</td>\n",
       "      <td>0.367389</td>\n",
       "      <td>0.451893</td>\n",
       "      <td>0.319501</td>\n",
       "      <td>0.228605</td>\n",
       "      <td>0.693334</td>\n",
       "      <td>0.306666</td>\n",
       "      <td>0.481776</td>\n",
       "      <td>0.290225</td>\n",
       "      <td>0.227999</td>\n",
       "    </tr>\n",
       "    <tr>\n",
       "      <th>93</th>\n",
       "      <td>16000.0</td>\n",
       "      <td>1500.0</td>\n",
       "      <td>36.0</td>\n",
       "      <td>358.0</td>\n",
       "      <td>0.153526</td>\n",
       "      <td>0.235912</td>\n",
       "      <td>0.298360</td>\n",
       "      <td>0.312202</td>\n",
       "      <td>0.317622</td>\n",
       "      <td>0.354584</td>\n",
       "      <td>...</td>\n",
       "      <td>0.658622</td>\n",
       "      <td>0.341378</td>\n",
       "      <td>0.278206</td>\n",
       "      <td>0.309426</td>\n",
       "      <td>0.412368</td>\n",
       "      <td>0.599283</td>\n",
       "      <td>0.400717</td>\n",
       "      <td>0.271581</td>\n",
       "      <td>0.288492</td>\n",
       "      <td>0.439928</td>\n",
       "    </tr>\n",
       "    <tr>\n",
       "      <th>94</th>\n",
       "      <td>4140.0</td>\n",
       "      <td>3200.0</td>\n",
       "      <td>0.0</td>\n",
       "      <td>0.0</td>\n",
       "      <td>0.486501</td>\n",
       "      <td>0.233261</td>\n",
       "      <td>0.150778</td>\n",
       "      <td>0.129460</td>\n",
       "      <td>0.624394</td>\n",
       "      <td>0.204841</td>\n",
       "      <td>...</td>\n",
       "      <td>0.660961</td>\n",
       "      <td>0.339039</td>\n",
       "      <td>0.556542</td>\n",
       "      <td>0.232583</td>\n",
       "      <td>0.210875</td>\n",
       "      <td>0.733483</td>\n",
       "      <td>0.266517</td>\n",
       "      <td>0.555988</td>\n",
       "      <td>0.251853</td>\n",
       "      <td>0.192159</td>\n",
       "    </tr>\n",
       "    <tr>\n",
       "      <th>95</th>\n",
       "      <td>18.0</td>\n",
       "      <td>37.0</td>\n",
       "      <td>0.0</td>\n",
       "      <td>0.0</td>\n",
       "      <td>0.512172</td>\n",
       "      <td>0.220838</td>\n",
       "      <td>0.140300</td>\n",
       "      <td>0.126690</td>\n",
       "      <td>0.633143</td>\n",
       "      <td>0.202112</td>\n",
       "      <td>...</td>\n",
       "      <td>0.663182</td>\n",
       "      <td>0.336818</td>\n",
       "      <td>0.580567</td>\n",
       "      <td>0.217485</td>\n",
       "      <td>0.201947</td>\n",
       "      <td>0.740109</td>\n",
       "      <td>0.259891</td>\n",
       "      <td>0.577687</td>\n",
       "      <td>0.239480</td>\n",
       "      <td>0.182833</td>\n",
       "    </tr>\n",
       "  </tbody>\n",
       "</table>\n",
       "<p>96 rows × 31 columns</p>\n",
       "</div>"
      ],
      "text/plain": [
       "    insta_followers  fb_followers  tiktok_followers  tiktok_likes  \\\n",
       "0           12000.0           1.0               0.0           0.0   \n",
       "1           27000.0        1000.0              23.0         287.0   \n",
       "2            2401.0        2600.0               0.0           0.0   \n",
       "3            1109.0          62.0               0.0           0.0   \n",
       "4           20500.0        5800.0               0.0           0.0   \n",
       "..              ...           ...               ...           ...   \n",
       "91          22000.0        3000.0             126.0        1578.0   \n",
       "92           1122.0        1900.0               0.0           0.0   \n",
       "93          16000.0        1500.0              36.0         358.0   \n",
       "94           4140.0        3200.0               0.0           0.0   \n",
       "95             18.0          37.0               0.0           0.0   \n",
       "\n",
       "    insta_like_range_month_m_(-0.001, 13.95]  \\\n",
       "0                                   0.207428   \n",
       "1                                   0.131777   \n",
       "2                                   0.284864   \n",
       "3                                   0.512172   \n",
       "4                                   0.152420   \n",
       "..                                       ...   \n",
       "91                                  0.134496   \n",
       "92                                  0.475809   \n",
       "93                                  0.153526   \n",
       "94                                  0.486501   \n",
       "95                                  0.512172   \n",
       "\n",
       "    insta_like_range_month_m_(13.95, 67.2]  \\\n",
       "0                                 0.364735   \n",
       "1                                 0.156244   \n",
       "2                                 0.397061   \n",
       "3                                 0.220838   \n",
       "4                                 0.235857   \n",
       "..                                     ...   \n",
       "91                                0.148350   \n",
       "92                                0.236920   \n",
       "93                                0.235912   \n",
       "94                                0.233261   \n",
       "95                                0.220838   \n",
       "\n",
       "    insta_like_range_month_m_(67.2, 181.1]  \\\n",
       "0                                 0.240142   \n",
       "1                                 0.234903   \n",
       "2                                 0.180365   \n",
       "3                                 0.140300   \n",
       "4                                 0.317424   \n",
       "..                                     ...   \n",
       "91                                0.257273   \n",
       "92                                0.151197   \n",
       "93                                0.298360   \n",
       "94                                0.150778   \n",
       "95                                0.140300   \n",
       "\n",
       "    insta_like_range_month_m_(181.1, 7864.8]  \\\n",
       "0                                   0.187694   \n",
       "1                                   0.477076   \n",
       "2                                   0.137710   \n",
       "3                                   0.126690   \n",
       "4                                   0.294299   \n",
       "..                                       ...   \n",
       "91                                  0.459881   \n",
       "92                                  0.136073   \n",
       "93                                  0.312202   \n",
       "94                                  0.129460   \n",
       "95                                  0.126690   \n",
       "\n",
       "    insta_comment_range_month_m_(-0.001, 2.0]  \\\n",
       "0                                    0.444230   \n",
       "1                                    0.256989   \n",
       "2                                    0.632437   \n",
       "3                                    0.633143   \n",
       "4                                    0.297141   \n",
       "..                                        ...   \n",
       "91                                   0.253142   \n",
       "92                                   0.618108   \n",
       "93                                   0.317622   \n",
       "94                                   0.624394   \n",
       "95                                   0.633143   \n",
       "\n",
       "    insta_comment_range_month_m_(2.0, 7.0]  ...  \\\n",
       "0                                 0.296899  ...   \n",
       "1                                 0.323119  ...   \n",
       "2                                 0.202711  ...   \n",
       "3                                 0.202112  ...   \n",
       "4                                 0.323338  ...   \n",
       "..                                     ...  ...   \n",
       "91                                0.381770  ...   \n",
       "92                                0.211114  ...   \n",
       "93                                0.354584  ...   \n",
       "94                                0.204841  ...   \n",
       "95                                0.202112  ...   \n",
       "\n",
       "    tiktok_biz_comment_range_month_m_(-0.001, 0.688]  \\\n",
       "0                                           0.675770   \n",
       "1                                           0.591560   \n",
       "2                                           0.661532   \n",
       "3                                           0.663182   \n",
       "4                                           0.637996   \n",
       "..                                               ...   \n",
       "91                                          0.606301   \n",
       "92                                          0.632611   \n",
       "93                                          0.658622   \n",
       "94                                          0.660961   \n",
       "95                                          0.663182   \n",
       "\n",
       "    tiktok_biz_comment_range_month_m_(0.688, 5562.6]  \\\n",
       "0                                           0.324230   \n",
       "1                                           0.408440   \n",
       "2                                           0.338468   \n",
       "3                                           0.336818   \n",
       "4                                           0.362004   \n",
       "..                                               ...   \n",
       "91                                          0.393699   \n",
       "92                                          0.367389   \n",
       "93                                          0.341378   \n",
       "94                                          0.339039   \n",
       "95                                          0.336818   \n",
       "\n",
       "    tiktok_nonbiz_like_range_month_m_(-0.001, 2.5]  \\\n",
       "0                                         0.449369   \n",
       "1                                         0.314323   \n",
       "2                                         0.560733   \n",
       "3                                         0.572912   \n",
       "4                                         0.445924   \n",
       "..                                             ...   \n",
       "91                                        0.283555   \n",
       "92                                        0.451893   \n",
       "93                                        0.278206   \n",
       "94                                        0.556542   \n",
       "95                                        0.580567   \n",
       "\n",
       "    tiktok_nonbiz_like_range_month_m_(2.5, 61.25]  \\\n",
       "0                                        0.281155   \n",
       "1                                        0.295128   \n",
       "2                                        0.234622   \n",
       "3                                        0.222266   \n",
       "4                                        0.277262   \n",
       "..                                            ...   \n",
       "91                                       0.317674   \n",
       "92                                       0.319501   \n",
       "93                                       0.309426   \n",
       "94                                       0.232583   \n",
       "95                                       0.217485   \n",
       "\n",
       "    tiktok_nonbiz_like_range_month_m_(61.25, 31200.0]  \\\n",
       "0                                            0.269476   \n",
       "1                                            0.390548   \n",
       "2                                            0.204645   \n",
       "3                                            0.204822   \n",
       "4                                            0.276814   \n",
       "..                                                ...   \n",
       "91                                           0.398772   \n",
       "92                                           0.228605   \n",
       "93                                           0.412368   \n",
       "94                                           0.210875   \n",
       "95                                           0.201947   \n",
       "\n",
       "    tiktok_nonbiz_comment_range_month_m_(-0.001, 2.0]  \\\n",
       "0                                            0.708067   \n",
       "1                                            0.636178   \n",
       "2                                            0.736452   \n",
       "3                                            0.739836   \n",
       "4                                            0.668134   \n",
       "..                                                ...   \n",
       "91                                           0.541229   \n",
       "92                                           0.693334   \n",
       "93                                           0.599283   \n",
       "94                                           0.733483   \n",
       "95                                           0.740109   \n",
       "\n",
       "    tiktok_nonbiz_comment_range_month_m_(2.0, 197.0]  \\\n",
       "0                                           0.291933   \n",
       "1                                           0.363822   \n",
       "2                                           0.263548   \n",
       "3                                           0.260164   \n",
       "4                                           0.331866   \n",
       "..                                               ...   \n",
       "91                                          0.458771   \n",
       "92                                          0.306666   \n",
       "93                                          0.400717   \n",
       "94                                          0.266517   \n",
       "95                                          0.259891   \n",
       "\n",
       "    tiktok_nonbiz_view_range_month_m_(-0.001, 256.625]  \\\n",
       "0                                            0.423313    \n",
       "1                                            0.301879    \n",
       "2                                            0.563704    \n",
       "3                                            0.574177    \n",
       "4                                            0.452848    \n",
       "..                                                ...    \n",
       "91                                           0.290468    \n",
       "92                                           0.481776    \n",
       "93                                           0.271581    \n",
       "94                                           0.555988    \n",
       "95                                           0.577687    \n",
       "\n",
       "    tiktok_nonbiz_view_range_month_m_(256.625, 1633.0]  \\\n",
       "0                                            0.298202    \n",
       "1                                            0.304483    \n",
       "2                                            0.247715    \n",
       "3                                            0.241797    \n",
       "4                                            0.284994    \n",
       "..                                                ...    \n",
       "91                                           0.324815    \n",
       "92                                           0.290225    \n",
       "93                                           0.288492    \n",
       "94                                           0.251853    \n",
       "95                                           0.239480    \n",
       "\n",
       "    tiktok_nonbiz_view_range_month_m_(1633.0, 408000.0]  \n",
       "0                                            0.278484    \n",
       "1                                            0.393637    \n",
       "2                                            0.188581    \n",
       "3                                            0.184026    \n",
       "4                                            0.262158    \n",
       "..                                                ...    \n",
       "91                                           0.384717    \n",
       "92                                           0.227999    \n",
       "93                                           0.439928    \n",
       "94                                           0.192159    \n",
       "95                                           0.182833    \n",
       "\n",
       "[96 rows x 31 columns]"
      ]
     },
     "execution_count": 17,
     "metadata": {},
     "output_type": "execute_result"
    }
   ],
   "source": [
    "# Read in final predictions\n",
    "final_prediction_prob = pd.read_csv('final_prediction_prob_all.csv')\n",
    "num_biz = final_prediction_prob.shape[0]\n",
    "final_prediction_prob"
   ]
  },
  {
   "cell_type": "code",
   "execution_count": 18,
   "metadata": {},
   "outputs": [],
   "source": [
    "# Get quantiles for business engagements using likes\n",
    "final_prediction_prob['insta_business_engagement_q1'] = final_prediction_prob['insta_like_range_month_m_(-0.001, 13.95]']\n",
    "final_prediction_prob['insta_business_engagement_q2'] = final_prediction_prob['insta_like_range_month_m_(13.95, 67.2]']\n",
    "final_prediction_prob['insta_business_engagement_q3'] = final_prediction_prob['insta_like_range_month_m_(67.2, 181.1]']\n",
    "final_prediction_prob['insta_business_engagement_q4'] = final_prediction_prob['insta_like_range_month_m_(181.1, 7864.8]']\n",
    "final_prediction_prob['fb_business_engagement_q1'] = final_prediction_prob['fb_like_range_month_m_(-0.001, 0.4]']\n",
    "final_prediction_prob['fb_business_engagement_q2'] = final_prediction_prob['fb_like_range_month_m_(0.4, 6.2]']\n",
    "final_prediction_prob['fb_business_engagement_q3'] = final_prediction_prob['fb_like_range_month_m_(6.2, 4610.6]']\n",
    "final_prediction_prob['tiktok_business_engagement_q1'] = final_prediction_prob['tiktok_biz_like_range_month_m_(-0.001, 11.3]']\n",
    "final_prediction_prob['tiktok_business_engagement_q2'] = final_prediction_prob['tiktok_biz_like_range_month_m_(11.3, 47.312]']\n",
    "final_prediction_prob['tiktok_business_engagement_q3'] = final_prediction_prob['tiktok_biz_like_range_month_m_(47.312, 3329.6]']"
   ]
  },
  {
   "cell_type": "code",
   "execution_count": 19,
   "metadata": {},
   "outputs": [
    {
     "data": {
      "text/html": [
       "<div>\n",
       "<style scoped>\n",
       "    .dataframe tbody tr th:only-of-type {\n",
       "        vertical-align: middle;\n",
       "    }\n",
       "\n",
       "    .dataframe tbody tr th {\n",
       "        vertical-align: top;\n",
       "    }\n",
       "\n",
       "    .dataframe thead th {\n",
       "        text-align: right;\n",
       "    }\n",
       "</style>\n",
       "<table border=\"1\" class=\"dataframe\">\n",
       "  <thead>\n",
       "    <tr style=\"text-align: right;\">\n",
       "      <th></th>\n",
       "      <th>fb_business_engagement_q1</th>\n",
       "      <th>fb_business_engagement_q2</th>\n",
       "      <th>fb_business_engagement_q3</th>\n",
       "    </tr>\n",
       "  </thead>\n",
       "  <tbody>\n",
       "    <tr>\n",
       "      <th>0</th>\n",
       "      <td>0.772651</td>\n",
       "      <td>0.137419</td>\n",
       "      <td>0.089930</td>\n",
       "    </tr>\n",
       "    <tr>\n",
       "      <th>1</th>\n",
       "      <td>0.663416</td>\n",
       "      <td>0.195530</td>\n",
       "      <td>0.141054</td>\n",
       "    </tr>\n",
       "    <tr>\n",
       "      <th>2</th>\n",
       "      <td>0.729902</td>\n",
       "      <td>0.161598</td>\n",
       "      <td>0.108500</td>\n",
       "    </tr>\n",
       "    <tr>\n",
       "      <th>3</th>\n",
       "      <td>0.793641</td>\n",
       "      <td>0.126095</td>\n",
       "      <td>0.080264</td>\n",
       "    </tr>\n",
       "    <tr>\n",
       "      <th>4</th>\n",
       "      <td>0.223971</td>\n",
       "      <td>0.519367</td>\n",
       "      <td>0.256662</td>\n",
       "    </tr>\n",
       "    <tr>\n",
       "      <th>...</th>\n",
       "      <td>...</td>\n",
       "      <td>...</td>\n",
       "      <td>...</td>\n",
       "    </tr>\n",
       "    <tr>\n",
       "      <th>91</th>\n",
       "      <td>0.179623</td>\n",
       "      <td>0.204960</td>\n",
       "      <td>0.615417</td>\n",
       "    </tr>\n",
       "    <tr>\n",
       "      <th>92</th>\n",
       "      <td>0.289206</td>\n",
       "      <td>0.552806</td>\n",
       "      <td>0.157988</td>\n",
       "    </tr>\n",
       "    <tr>\n",
       "      <th>93</th>\n",
       "      <td>0.666883</td>\n",
       "      <td>0.198985</td>\n",
       "      <td>0.134132</td>\n",
       "    </tr>\n",
       "    <tr>\n",
       "      <th>94</th>\n",
       "      <td>0.731130</td>\n",
       "      <td>0.157706</td>\n",
       "      <td>0.111164</td>\n",
       "    </tr>\n",
       "    <tr>\n",
       "      <th>95</th>\n",
       "      <td>0.796526</td>\n",
       "      <td>0.124151</td>\n",
       "      <td>0.079322</td>\n",
       "    </tr>\n",
       "  </tbody>\n",
       "</table>\n",
       "<p>96 rows × 3 columns</p>\n",
       "</div>"
      ],
      "text/plain": [
       "    fb_business_engagement_q1  fb_business_engagement_q2  \\\n",
       "0                    0.772651                   0.137419   \n",
       "1                    0.663416                   0.195530   \n",
       "2                    0.729902                   0.161598   \n",
       "3                    0.793641                   0.126095   \n",
       "4                    0.223971                   0.519367   \n",
       "..                        ...                        ...   \n",
       "91                   0.179623                   0.204960   \n",
       "92                   0.289206                   0.552806   \n",
       "93                   0.666883                   0.198985   \n",
       "94                   0.731130                   0.157706   \n",
       "95                   0.796526                   0.124151   \n",
       "\n",
       "    fb_business_engagement_q3  \n",
       "0                    0.089930  \n",
       "1                    0.141054  \n",
       "2                    0.108500  \n",
       "3                    0.080264  \n",
       "4                    0.256662  \n",
       "..                        ...  \n",
       "91                   0.615417  \n",
       "92                   0.157988  \n",
       "93                   0.134132  \n",
       "94                   0.111164  \n",
       "95                   0.079322  \n",
       "\n",
       "[96 rows x 3 columns]"
      ]
     },
     "execution_count": 19,
     "metadata": {},
     "output_type": "execute_result"
    }
   ],
   "source": [
    "# Get predicted probabilities of being in each quantile, for each social media platform (to use as initial probs)\n",
    "predicted_probs_fb_df = final_prediction_prob[['fb_business_engagement_q1', 'fb_business_engagement_q2', 'fb_business_engagement_q3']]\n",
    "predicted_probs_insta_df = final_prediction_prob[['insta_business_engagement_q1', 'insta_business_engagement_q2', 'insta_business_engagement_q3', 'insta_business_engagement_q4']]\n",
    "predicted_probs_tiktok_df = final_prediction_prob[['tiktok_business_engagement_q1', 'tiktok_business_engagement_q2', 'tiktok_business_engagement_q3']]\n",
    "predicted_probs_fb_df"
   ]
  },
  {
   "cell_type": "markdown",
   "metadata": {},
   "source": [
    "# Helper functions for quantiles and overall engagement values"
   ]
  },
  {
   "cell_type": "code",
   "execution_count": 20,
   "metadata": {},
   "outputs": [],
   "source": [
    "# Draw a quantile from the predicted probabilities\n",
    "def draw_quantile(predicted_probs):\n",
    "    sample_quantile = np.random.choice(np.arange(len(predicted_probs)), p=predicted_probs)\n",
    "    return sample_quantile\n",
    "\n",
    "# Draw an overall engagement value from a quantile\n",
    "def draw_overall_engagement(sample_quantile, overall_engagement):\n",
    "    overall_engagement_quantile = overall_engagement[overall_engagement['quantile']==sample_quantile]['overall_engagement']\n",
    "    sample_overall_engagement = overall_engagement_quantile.sample().values[0]\n",
    "    return sample_overall_engagement\n",
    "\n",
    "# Given a number, identify which quantile it belongs to\n",
    "def get_quantile(number, quantiles):\n",
    "    quantiles = quantiles.iloc[:,0]\n",
    "    return (quantiles <= number).to_numpy().nonzero()[0].max()"
   ]
  },
  {
   "cell_type": "markdown",
   "metadata": {},
   "source": [
    "## Tests"
   ]
  },
  {
   "cell_type": "code",
   "execution_count": 21,
   "metadata": {},
   "outputs": [
    {
     "data": {
      "text/plain": [
       "1"
      ]
     },
     "execution_count": 21,
     "metadata": {},
     "output_type": "execute_result"
    }
   ],
   "source": [
    "get_quantile(6, overall_engagement_quantiles_tiktok)"
   ]
  },
  {
   "cell_type": "code",
   "execution_count": 22,
   "metadata": {},
   "outputs": [
    {
     "data": {
      "image/png": "[encoded data removed]",
      "text/plain": [
       "<Figure size 640x480 with 1 Axes>"
      ]
     },
     "metadata": {},
     "output_type": "display_data"
    },
    {
     "data": {
      "image/png": "[encoded data removed]",
      "text/plain": [
       "<Figure size 640x480 with 1 Axes>"
      ]
     },
     "metadata": {},
     "output_type": "display_data"
    }
   ],
   "source": [
    "# Tests\n",
    "sample_quantile_list = []\n",
    "sample_overall_engagement_list = []\n",
    "for i in range(1000):\n",
    "    sample_quantile = draw_quantile([0.6, 0.3, 0.1])\n",
    "    sample_overall_engagement = draw_overall_engagement(sample_quantile, overall_engagement_tiktok)\n",
    "    sample_quantile_list.append(sample_quantile)\n",
    "    sample_overall_engagement_list.append(sample_overall_engagement)\n",
    "plt.hist(sample_quantile_list)\n",
    "plt.title(\"Sampled quantiles\")\n",
    "plt.show()\n",
    "plt.hist(sample_overall_engagement_list)\n",
    "plt.title(\"Sampled overall engagements\")\n",
    "plt.show()"
   ]
  },
  {
   "cell_type": "markdown",
   "metadata": {},
   "source": [
    "# Multi-armed bandits (Epsilon-greedy vs baseline)"
   ]
  },
  {
   "cell_type": "code",
   "execution_count": 23,
   "metadata": {},
   "outputs": [],
   "source": [
    "class Bandit:\n",
    "    # @k_arm: # of arms (3 - FB, Insta, Tiktok)\n",
    "    # @epsilon: probability for exploration in epsilon-greedy algorithm\n",
    "    # @step_size: constant step size for updating estimations\n",
    "    # @sample_averages: if True, use sample averages to update estimations instead of constant step size\n",
    "    # @stationary: False, the reward probability distribution changes over time\n",
    "    # @initial: initial estimation for each action\n",
    "    def __init__(\n",
    "        self,\n",
    "        k_arm=3,\n",
    "        epsilon=0.0,\n",
    "        step_size=0.1,\n",
    "        sample_averages=False,\n",
    "        stationary=False,\n",
    "        initial=0.0,\n",
    "        predicted_probs=[[0.25, 0.25, 0.25, 0.25], [0.25, 0.25, 0.25, 0.25], [0.34, 0.33, 0.33]],\n",
    "        overall_engagement=[pd.DataFrame(np.zeros((100, 2))) for i in range(3)],\n",
    "        overall_engagement_quantiles=[pd.DataFrame(np.zeros((4, 1))), pd.DataFrame(np.zeros((4, 1))), pd.DataFrame(np.zeros((3, 1)))],\n",
    "        overall_engagement_sd=[pd.DataFrame(np.zeros((4, 2))), pd.DataFrame(np.zeros((4, 2))), pd.DataFrame(np.zeros((3, 2)))],\n",
    "        strategy='epsilon_greedy',\n",
    "    ):\n",
    "        self.k = k_arm\n",
    "        self.step_size = step_size\n",
    "        self.sample_averages = sample_averages\n",
    "        self.indices = np.arange(self.k)\n",
    "        self.time = 0\n",
    "        self.epsilon = epsilon\n",
    "        self.stationary = stationary\n",
    "        self.initial = initial\n",
    "        self.predicted_probs_fb = predicted_probs[0]\n",
    "        self.predicted_probs_insta = predicted_probs[1]\n",
    "        self.predicted_probs_tiktok = predicted_probs[2]\n",
    "        self.overall_engagement_fb = overall_engagement[0]\n",
    "        self.overall_engagement_insta = overall_engagement[1]\n",
    "        self.overall_engagement_tiktok = overall_engagement[2]\n",
    "        self.overall_engagement_sd = overall_engagement_sd\n",
    "        self.overall_engagement_quantiles = overall_engagement_quantiles\n",
    "        self.strategy = strategy\n",
    "\n",
    "    # Methods: reset, act, step(action)\n",
    "    # Resets the bandit, including the real reward distribution, estimation, and action counts.\n",
    "    def reset(self):\n",
    "        # reset real reward for each action\n",
    "        # (recall that this depends on self.stationary)\n",
    "        # if stationary, different stationary true reward\n",
    "        # self.q_true = np.random.randn(self.k)\n",
    "        # if nonstationary, started out same reward\n",
    "\n",
    "        # Draw sample quantile based on predicted probabilities\n",
    "        self.quantile = np.array([draw_quantile(self.predicted_probs_fb), \n",
    "                                  draw_quantile(self.predicted_probs_insta),\n",
    "                                  draw_quantile(self.predicted_probs_tiktok)])\n",
    "\n",
    "        # Draw sample overall engagement based on sample quantile\n",
    "        # This will be the initial action value\n",
    "        self.sample_overall_engagement_fb = draw_overall_engagement(self.quantile[0], self.overall_engagement_fb)\n",
    "        self.sample_overall_engagement_insta = draw_overall_engagement(self.quantile[1], self.overall_engagement_insta)\n",
    "        self.sample_overall_engagement_tiktok = draw_overall_engagement(self.quantile[2], self.overall_engagement_tiktok)\n",
    "\n",
    "        self.q_true = np.array([self.sample_overall_engagement_fb, self.sample_overall_engagement_insta, self.sample_overall_engagement_tiktok])\n",
    "\n",
    "        # reset estimation for each action\n",
    "        self.q_estimation = np.zeros(self.k) + self.initial\n",
    "\n",
    "        # number of chosen times for each action\n",
    "        self.action_count = np.zeros(self.k)\n",
    "        self.time = 0\n",
    "\n",
    "    # get an action for this bandit based on strategy (epsilon_greedy, predetermined_path)\n",
    "    def act(self):\n",
    "        if self.strategy == 'epsilon_greedy':\n",
    "            # implement the epsilon exploration strategy:\n",
    "            # with P = epsilon, choose a random action\n",
    "            if np.random.rand() < self.epsilon:\n",
    "                # return a random action\n",
    "                return np.random.choice(self.indices)\n",
    "            # with P = (1-epsilon), choose best action\n",
    "            else:\n",
    "                # Get best action value based on current estimation\n",
    "                q_best = np.max(self.q_estimation)\n",
    "                # Choose best action, break ties randomly\n",
    "                return np.random.choice(np.where(self.q_estimation == q_best)[0])\n",
    "        else:\n",
    "            return np.random.choice(np.arange(self.k), p=[0.3,0.6,0.1])\n",
    "\n",
    "    # take an action, update estimation for this action\n",
    "    def step(self, action):\n",
    "        # generate the reward under N(real reward, 1)\n",
    "        # np.random.randn() generates random numbers from a standard normal distribution (mean = 0, sd = 1)\n",
    "        \n",
    "        # Pick a random number in the range [4.5312, 9.324]\n",
    "        self.time += 1\n",
    "        self.action_count[action] += 1\n",
    "\n",
    "        # Identify the quantile and get the sd\n",
    "        # print(self.q_true[action])\n",
    "        self.quantile[action] = get_quantile(self.q_true[action], self.overall_engagement_quantiles[action])\n",
    "        action_sd = self.overall_engagement_sd[action].iloc[self.quantile[action], 0]\n",
    "\n",
    "        reward = np.random.uniform(self.q_true[action]-action_sd/2, self.q_true[action]+action_sd/2)\n",
    "        reward = max(reward, 0)\n",
    "\n",
    "        # Update true action value\n",
    "        self.q_true[action] = reward\n",
    "\n",
    "        if self.sample_averages:\n",
    "            # update estimation using sample averages\n",
    "            # Q_{n+1} = Q_{n} + 1/n * (R_{n} − Q_{n})\n",
    "            self.q_estimation[action] += 1 / self.action_count[action] * (reward - self.q_estimation[action]) \n",
    "        else:\n",
    "            # update estimation with constant step size\n",
    "            # Q_{n+1} = Q_{n} + alpha * (R_{n} − Q_{n})\n",
    "            self.q_estimation[action] += self.step_size * (reward - self.q_estimation[action])        \n",
    "        return reward\n",
    "\n",
    "def simulate(runs, time, bandits):\n",
    "    rewards = np.zeros((len(bandits), runs, time))\n",
    "    actions = np.zeros((len(bandits), runs, time))\n",
    "    for i, bandit in enumerate(bandits):\n",
    "        for r in trange(runs):\n",
    "            bandit.reset() # Reset bandit before each run\n",
    "            for t in range(time):\n",
    "                action = bandit.act()\n",
    "                reward = bandit.step(action)\n",
    "                rewards[i, r, t] = reward\n",
    "                actions[i, r, t] = action\n",
    "    # Get mean rewards for each (bandit, time); gets average across runs\n",
    "    mean_rewards = rewards.mean(axis=1)\n",
    "    return mean_rewards, actions\n",
    "\n",
    "def epsilon_greedy(predicted_probs_fb, predicted_probs_insta, predicted_probs_tiktok, i, runs=500, time=100):\n",
    "    epsilons = [0, 0.05, 0.1, 0.15, 0.2]\n",
    "    bandits = [Bandit(epsilon=eps, step_size=0.1, \n",
    "                      predicted_probs=[predicted_probs_fb, predicted_probs_insta, predicted_probs_tiktok],\n",
    "                      overall_engagement=[overall_engagement_fb, overall_engagement_insta, overall_engagement_tiktok],\n",
    "                      overall_engagement_quantiles=[overall_engagement_quantiles_fb, overall_engagement_quantiles_insta, overall_engagement_quantiles_tiktok],\n",
    "                      overall_engagement_sd=overall_engagement_sd,\n",
    "                      strategy='epsilon_greedy')\n",
    "                      for eps in epsilons]\n",
    "    rewards, actions = simulate(runs, time, bandits)\n",
    "    plt.figure(figsize=(20, 8))\n",
    "    for eps, reward in zip(epsilons, rewards):\n",
    "        plt.plot(reward, label=\"$\\epsilon = %.02f$\" % (eps))\n",
    "    plt.xlabel(\"steps\", fontsize=20)\n",
    "    plt.ylabel(\"average reward\", fontsize=20)\n",
    "    plt.legend(fontsize=20)\n",
    "    plt.savefig(f\"output/epsilon_greedy_biz_{i}.png\")\n",
    "    plt.close()\n",
    "\n",
    "    # Get index of best epsilon, defined as the epsilon with the highest average reward at the last time step\n",
    "    last_reward_epsilon = [rewards_epsilon[-1] for rewards_epsilon in rewards]\n",
    "    max_reward = max(last_reward_epsilon)\n",
    "    best_epsilon_index = last_reward_epsilon.index(max_reward)\n",
    "    best_epsilon = epsilons[best_epsilon_index]\n",
    "    print(f\"Under epsilon-greedy, max reward is {max_reward}, chosen by epsilon = {best_epsilon}\")\n",
    "\n",
    "    # Get the actions of the index of the best epsilon\n",
    "    best_epsilon_actions = pd.DataFrame(np.hstack(actions[best_epsilon_index]))\n",
    "    # Get the number of times each action was chosen across all runs and time steps\n",
    "    best_epsilon_actions_counts = best_epsilon_actions.value_counts().reset_index()\n",
    "    best_epsilon_actions_counts.columns = ['action', 'count']\n",
    "    best_epsilon_actions_counts = best_epsilon_actions_counts.sort_values(by='action').reset_index(drop=True)\n",
    "    # Get the percentage of times each action was chosen across all runs and time steps\n",
    "    best_epsilon_actions_counts['percentage'] = best_epsilon_actions_counts['count']/best_epsilon_actions_counts['count'].sum()\n",
    "    # print(best_epsilon_actions_counts)\n",
    "    return max_reward, best_epsilon_actions_counts\n",
    "\n",
    "def baseline(predicted_probs_fb, predicted_probs_insta, predicted_probs_tiktok, i, runs=500, time=100):\n",
    "    bandits = [Bandit(step_size=0.1, \n",
    "                      predicted_probs=[predicted_probs_fb, predicted_probs_insta, predicted_probs_tiktok],\n",
    "                      overall_engagement=[overall_engagement_fb, overall_engagement_insta, overall_engagement_tiktok],\n",
    "                      overall_engagement_quantiles=[overall_engagement_quantiles_fb, overall_engagement_quantiles_insta, overall_engagement_quantiles_tiktok],\n",
    "                      overall_engagement_sd=overall_engagement_sd,\n",
    "                      strategy='predefined_path')]\n",
    "    rewards, actions = simulate(runs, time, bandits)\n",
    "    rewards = rewards[0]\n",
    "    actions = actions[0]\n",
    "    plt.figure(figsize=(20, 8))\n",
    "    plt.plot(rewards, label=\"baseline\")\n",
    "    plt.xlabel(\"steps\", fontsize=20)\n",
    "    plt.ylabel(\"average reward\", fontsize=20)\n",
    "    plt.legend(fontsize=20)\n",
    "    plt.savefig(f\"output/baseline_biz_{i}.png\")\n",
    "    plt.close()\n",
    "\n",
    "    # Get index of best epsilon, defined as the epsilon with the highest average reward at the last time step\n",
    "    reward = rewards[-1]\n",
    "    print(f\"Under baseline, reward is {reward}\")\n",
    "\n",
    "    # Get the actions of the index of the best epsilon\n",
    "    actions = pd.DataFrame(np.hstack(actions))\n",
    "    # Get the number of times each action was chosen across all runs and time steps\n",
    "    actions_counts = actions.value_counts().reset_index()\n",
    "    actions_counts.columns = ['action', 'count']\n",
    "    actions_counts = actions_counts.sort_values(by='action').reset_index(drop=True)\n",
    "    # Get the percentage of times each action was chosen across all runs and time steps\n",
    "    actions_counts['percentage'] = actions_counts['count']/actions_counts['count'].sum()\n",
    "    # print(actions_counts)\n",
    "    return reward, actions_counts\n"
   ]
  },
  {
   "cell_type": "code",
   "execution_count": 24,
   "metadata": {},
   "outputs": [],
   "source": [
    "def main(num_biz, predicted_probs_fb_df, predicted_probs_insta_df, predicted_probs_tiktok_df):\n",
    "    actions_counts_epsilon_greedy_list = []\n",
    "    actions_counts_baseline_list = []\n",
    "    improvement_list = []\n",
    "\n",
    "    for i in range(num_biz):\n",
    "        print(f\"Business {i+1}\")\n",
    "        # Get predicted probabilities of being in each quantile, for each social media platform\n",
    "        predicted_probs_fb = predicted_probs_fb_df.iloc[i,:].tolist()\n",
    "        predicted_probs_insta = predicted_probs_insta_df.iloc[i,:].tolist()\n",
    "        predicted_probs_tiktok = predicted_probs_tiktok_df.iloc[i,:].tolist()\n",
    "                \n",
    "        # Run simulations\n",
    "        print(\"Epsilon-greedy:\")\n",
    "        reward_epsilon_greedy, actions_counts_epsilon_greedy = epsilon_greedy(predicted_probs_fb, predicted_probs_insta, predicted_probs_tiktok, i)\n",
    "        print(\"Baseline:\")\n",
    "        reward_baseline, action_counts_baseline = baseline(predicted_probs_fb, predicted_probs_insta, predicted_probs_tiktok, i)\n",
    "        \n",
    "        # Record actions\n",
    "        actions_counts_epsilon_greedy_list.append(actions_counts_epsilon_greedy)\n",
    "        actions_counts_baseline_list.append(action_counts_baseline)\n",
    "\n",
    "        # Record % improvement\n",
    "        improvement = (reward_epsilon_greedy-reward_baseline)/reward_baseline*100\n",
    "        print(\"% improvement:\", improvement, \"\\n\")\n",
    "        improvement_list.append(improvement)\n",
    "\n",
    "    return actions_counts_epsilon_greedy_list, actions_counts_baseline_list, improvement_list"
   ]
  },
  {
   "cell_type": "code",
   "execution_count": 25,
   "metadata": {},
   "outputs": [
    {
     "name": "stdout",
     "output_type": "stream",
     "text": [
      "Business 1\n",
      "Epsilon-greedy:\n"
     ]
    },
    {
     "name": "stderr",
     "output_type": "stream",
     "text": [
      "100%|██████████| 500/500 [00:10<00:00, 47.35it/s]\n",
      "100%|██████████| 500/500 [00:09<00:00, 53.09it/s]\n",
      "100%|██████████| 500/500 [00:10<00:00, 47.85it/s]\n",
      "100%|██████████| 500/500 [00:10<00:00, 49.23it/s]\n",
      "100%|██████████| 500/500 [00:08<00:00, 57.83it/s]\n"
     ]
    },
    {
     "name": "stdout",
     "output_type": "stream",
     "text": [
      "Under epsilon-greedy, max reward is 6.4893090314026365, chosen by epsilon = 0.15\n",
      "Baseline:\n"
     ]
    },
    {
     "name": "stderr",
     "output_type": "stream",
     "text": [
      "100%|██████████| 500/500 [00:09<00:00, 51.72it/s]\n"
     ]
    },
    {
     "name": "stdout",
     "output_type": "stream",
     "text": [
      "Under baseline, reward is 4.831429756945883\n",
      "% improvement: 34.31446503125314 \n",
      "\n",
      "Business 2\n",
      "Epsilon-greedy:\n"
     ]
    },
    {
     "name": "stderr",
     "output_type": "stream",
     "text": [
      "100%|██████████| 500/500 [00:10<00:00, 47.37it/s]\n",
      "100%|██████████| 500/500 [00:10<00:00, 45.50it/s]\n",
      "100%|██████████| 500/500 [00:09<00:00, 50.69it/s]\n",
      "100%|██████████| 500/500 [00:09<00:00, 51.60it/s]\n",
      "100%|██████████| 500/500 [00:08<00:00, 55.73it/s]\n"
     ]
    },
    {
     "name": "stdout",
     "output_type": "stream",
     "text": [
      "Under epsilon-greedy, max reward is 7.535151450507555, chosen by epsilon = 0.2\n",
      "Baseline:\n"
     ]
    },
    {
     "name": "stderr",
     "output_type": "stream",
     "text": [
      "100%|██████████| 500/500 [00:13<00:00, 37.79it/s]\n"
     ]
    },
    {
     "name": "stdout",
     "output_type": "stream",
     "text": [
      "Under baseline, reward is 5.3799114796084675\n",
      "% improvement: 40.060881653315576 \n",
      "\n",
      "Business 3\n",
      "Epsilon-greedy:\n"
     ]
    },
    {
     "name": "stderr",
     "output_type": "stream",
     "text": [
      "100%|██████████| 500/500 [00:10<00:00, 47.57it/s]\n",
      "100%|██████████| 500/500 [00:10<00:00, 46.47it/s]\n",
      "100%|██████████| 500/500 [00:10<00:00, 48.08it/s]\n",
      "100%|██████████| 500/500 [00:08<00:00, 57.33it/s]\n",
      "100%|██████████| 500/500 [00:08<00:00, 61.14it/s]\n"
     ]
    },
    {
     "name": "stdout",
     "output_type": "stream",
     "text": [
      "Under epsilon-greedy, max reward is 6.335850190308798, chosen by epsilon = 0.15\n",
      "Baseline:\n"
     ]
    },
    {
     "name": "stderr",
     "output_type": "stream",
     "text": [
      "100%|██████████| 500/500 [00:10<00:00, 49.91it/s]\n"
     ]
    },
    {
     "name": "stdout",
     "output_type": "stream",
     "text": [
      "Under baseline, reward is 4.60182966732282\n",
      "% improvement: 37.681110522171274 \n",
      "\n",
      "Business 4\n",
      "Epsilon-greedy:\n"
     ]
    },
    {
     "name": "stderr",
     "output_type": "stream",
     "text": [
      "100%|██████████| 500/500 [00:10<00:00, 45.89it/s]\n",
      "100%|██████████| 500/500 [00:10<00:00, 46.30it/s]\n",
      "100%|██████████| 500/500 [00:09<00:00, 53.64it/s]\n",
      "100%|██████████| 500/500 [00:08<00:00, 56.45it/s]\n",
      "100%|██████████| 500/500 [00:08<00:00, 59.81it/s]\n"
     ]
    },
    {
     "name": "stdout",
     "output_type": "stream",
     "text": [
      "Under epsilon-greedy, max reward is 6.210760525316861, chosen by epsilon = 0.15\n",
      "Baseline:\n"
     ]
    },
    {
     "name": "stderr",
     "output_type": "stream",
     "text": [
      "100%|██████████| 500/500 [00:11<00:00, 45.22it/s]\n"
     ]
    },
    {
     "name": "stdout",
     "output_type": "stream",
     "text": [
      "Under baseline, reward is 4.247162431663777\n",
      "% improvement: 46.233176273502366 \n",
      "\n",
      "Business 5\n",
      "Epsilon-greedy:\n"
     ]
    },
    {
     "name": "stderr",
     "output_type": "stream",
     "text": [
      "100%|██████████| 500/500 [00:10<00:00, 46.31it/s]\n",
      "100%|██████████| 500/500 [00:10<00:00, 47.56it/s]\n",
      "100%|██████████| 500/500 [00:10<00:00, 47.66it/s]\n",
      "100%|██████████| 500/500 [00:09<00:00, 53.70it/s]\n",
      "100%|██████████| 500/500 [00:08<00:00, 60.10it/s]\n"
     ]
    },
    {
     "name": "stdout",
     "output_type": "stream",
     "text": [
      "Under epsilon-greedy, max reward is 6.7338365868210275, chosen by epsilon = 0.2\n",
      "Baseline:\n"
     ]
    },
    {
     "name": "stderr",
     "output_type": "stream",
     "text": [
      "100%|██████████| 500/500 [00:09<00:00, 50.65it/s]\n"
     ]
    },
    {
     "name": "stdout",
     "output_type": "stream",
     "text": [
      "Under baseline, reward is 5.971855323404112\n",
      "% improvement: 12.759539910999825 \n",
      "\n",
      "Business 6\n",
      "Epsilon-greedy:\n"
     ]
    },
    {
     "name": "stderr",
     "output_type": "stream",
     "text": [
      "100%|██████████| 500/500 [00:12<00:00, 39.91it/s]\n",
      "100%|██████████| 500/500 [00:12<00:00, 40.94it/s]\n",
      "100%|██████████| 500/500 [00:13<00:00, 36.56it/s]\n",
      "100%|██████████| 500/500 [00:11<00:00, 43.84it/s]\n",
      "100%|██████████| 500/500 [00:09<00:00, 52.12it/s]\n"
     ]
    },
    {
     "name": "stdout",
     "output_type": "stream",
     "text": [
      "Under epsilon-greedy, max reward is 6.0727803363351365, chosen by epsilon = 0.15\n",
      "Baseline:\n"
     ]
    },
    {
     "name": "stderr",
     "output_type": "stream",
     "text": [
      "100%|██████████| 500/500 [00:09<00:00, 52.50it/s]\n"
     ]
    },
    {
     "name": "stdout",
     "output_type": "stream",
     "text": [
      "Under baseline, reward is 4.707547493968604\n",
      "% improvement: 29.00093613746211 \n",
      "\n",
      "Business 7\n",
      "Epsilon-greedy:\n"
     ]
    },
    {
     "name": "stderr",
     "output_type": "stream",
     "text": [
      "100%|██████████| 500/500 [00:11<00:00, 42.45it/s]\n",
      "100%|██████████| 500/500 [00:08<00:00, 55.96it/s]\n",
      "100%|██████████| 500/500 [00:07<00:00, 69.41it/s]\n",
      "100%|██████████| 500/500 [00:08<00:00, 59.24it/s]\n",
      "100%|██████████| 500/500 [00:09<00:00, 51.66it/s]\n"
     ]
    },
    {
     "name": "stdout",
     "output_type": "stream",
     "text": [
      "Under epsilon-greedy, max reward is 6.91821303639164, chosen by epsilon = 0.2\n",
      "Baseline:\n"
     ]
    },
    {
     "name": "stderr",
     "output_type": "stream",
     "text": [
      "100%|██████████| 500/500 [00:10<00:00, 48.21it/s]\n"
     ]
    },
    {
     "name": "stdout",
     "output_type": "stream",
     "text": [
      "Under baseline, reward is 6.007551155714466\n",
      "% improvement: 15.158620493991798 \n",
      "\n",
      "Business 8\n",
      "Epsilon-greedy:\n"
     ]
    },
    {
     "name": "stderr",
     "output_type": "stream",
     "text": [
      "100%|██████████| 500/500 [00:11<00:00, 42.93it/s]\n",
      "100%|██████████| 500/500 [00:12<00:00, 39.11it/s]\n",
      "100%|██████████| 500/500 [00:10<00:00, 47.51it/s]\n",
      "100%|██████████| 500/500 [00:09<00:00, 52.96it/s]\n",
      "100%|██████████| 500/500 [00:09<00:00, 50.58it/s]\n"
     ]
    },
    {
     "name": "stdout",
     "output_type": "stream",
     "text": [
      "Under epsilon-greedy, max reward is 6.3800898029952045, chosen by epsilon = 0.05\n",
      "Baseline:\n"
     ]
    },
    {
     "name": "stderr",
     "output_type": "stream",
     "text": [
      "100%|██████████| 500/500 [00:10<00:00, 45.91it/s]\n"
     ]
    },
    {
     "name": "stdout",
     "output_type": "stream",
     "text": [
      "Under baseline, reward is 4.596414731268945\n",
      "% improvement: 38.8057905130296 \n",
      "\n",
      "Business 9\n",
      "Epsilon-greedy:\n"
     ]
    },
    {
     "name": "stderr",
     "output_type": "stream",
     "text": [
      "100%|██████████| 500/500 [00:11<00:00, 43.31it/s]\n",
      "100%|██████████| 500/500 [00:11<00:00, 43.82it/s]\n",
      "100%|██████████| 500/500 [00:14<00:00, 35.15it/s]\n",
      "100%|██████████| 500/500 [00:09<00:00, 52.29it/s]\n",
      "100%|██████████| 500/500 [00:10<00:00, 48.84it/s]\n"
     ]
    },
    {
     "name": "stdout",
     "output_type": "stream",
     "text": [
      "Under epsilon-greedy, max reward is 6.498931368699359, chosen by epsilon = 0.2\n",
      "Baseline:\n"
     ]
    },
    {
     "name": "stderr",
     "output_type": "stream",
     "text": [
      "100%|██████████| 500/500 [00:11<00:00, 44.91it/s]\n"
     ]
    },
    {
     "name": "stdout",
     "output_type": "stream",
     "text": [
      "Under baseline, reward is 4.770609146686575\n",
      "% improvement: 36.22854375343638 \n",
      "\n",
      "Business 10\n",
      "Epsilon-greedy:\n"
     ]
    },
    {
     "name": "stderr",
     "output_type": "stream",
     "text": [
      "100%|██████████| 500/500 [00:10<00:00, 47.40it/s]\n",
      "100%|██████████| 500/500 [00:11<00:00, 43.87it/s]\n",
      "100%|██████████| 500/500 [00:10<00:00, 46.48it/s]\n",
      "100%|██████████| 500/500 [00:11<00:00, 42.78it/s]\n",
      "100%|██████████| 500/500 [00:09<00:00, 51.23it/s]\n"
     ]
    },
    {
     "name": "stdout",
     "output_type": "stream",
     "text": [
      "Under epsilon-greedy, max reward is 6.797365040388125, chosen by epsilon = 0.15\n",
      "Baseline:\n"
     ]
    },
    {
     "name": "stderr",
     "output_type": "stream",
     "text": [
      "100%|██████████| 500/500 [00:09<00:00, 50.29it/s]\n"
     ]
    },
    {
     "name": "stdout",
     "output_type": "stream",
     "text": [
      "Under baseline, reward is 5.746551218837422\n",
      "% improvement: 18.28599070179856 \n",
      "\n",
      "Business 11\n",
      "Epsilon-greedy:\n"
     ]
    },
    {
     "name": "stderr",
     "output_type": "stream",
     "text": [
      "100%|██████████| 500/500 [00:10<00:00, 45.91it/s]\n",
      "100%|██████████| 500/500 [00:10<00:00, 47.22it/s]\n",
      "100%|██████████| 500/500 [00:11<00:00, 44.40it/s]\n",
      "100%|██████████| 500/500 [00:10<00:00, 47.21it/s]\n",
      "100%|██████████| 500/500 [00:10<00:00, 45.97it/s]\n"
     ]
    },
    {
     "name": "stdout",
     "output_type": "stream",
     "text": [
      "Under epsilon-greedy, max reward is 6.563170170193842, chosen by epsilon = 0.1\n",
      "Baseline:\n"
     ]
    },
    {
     "name": "stderr",
     "output_type": "stream",
     "text": [
      "100%|██████████| 500/500 [00:10<00:00, 45.69it/s]\n"
     ]
    },
    {
     "name": "stdout",
     "output_type": "stream",
     "text": [
      "Under baseline, reward is 5.0885052125531995\n",
      "% improvement: 28.980317323890816 \n",
      "\n",
      "Business 12\n",
      "Epsilon-greedy:\n"
     ]
    },
    {
     "name": "stderr",
     "output_type": "stream",
     "text": [
      "100%|██████████| 500/500 [00:10<00:00, 45.73it/s]\n",
      "100%|██████████| 500/500 [00:10<00:00, 48.39it/s]\n",
      "100%|██████████| 500/500 [00:10<00:00, 49.14it/s]\n",
      "100%|██████████| 500/500 [00:08<00:00, 56.30it/s]\n",
      "100%|██████████| 500/500 [00:10<00:00, 47.25it/s]\n"
     ]
    },
    {
     "name": "stdout",
     "output_type": "stream",
     "text": [
      "Under epsilon-greedy, max reward is 7.165015383278236, chosen by epsilon = 0.15\n",
      "Baseline:\n"
     ]
    },
    {
     "name": "stderr",
     "output_type": "stream",
     "text": [
      "100%|██████████| 500/500 [00:10<00:00, 49.89it/s]\n"
     ]
    },
    {
     "name": "stdout",
     "output_type": "stream",
     "text": [
      "Under baseline, reward is 5.3828578485423835\n",
      "% improvement: 33.10801780170436 \n",
      "\n",
      "Business 13\n",
      "Epsilon-greedy:\n"
     ]
    },
    {
     "name": "stderr",
     "output_type": "stream",
     "text": [
      "100%|██████████| 500/500 [00:09<00:00, 53.53it/s]\n",
      "100%|██████████| 500/500 [00:09<00:00, 53.22it/s]\n",
      "100%|██████████| 500/500 [00:06<00:00, 81.88it/s]\n",
      "100%|██████████| 500/500 [00:05<00:00, 96.82it/s]\n",
      "100%|██████████| 500/500 [00:05<00:00, 95.67it/s]\n"
     ]
    },
    {
     "name": "stdout",
     "output_type": "stream",
     "text": [
      "Under epsilon-greedy, max reward is 6.9456722691461685, chosen by epsilon = 0.1\n",
      "Baseline:\n"
     ]
    },
    {
     "name": "stderr",
     "output_type": "stream",
     "text": [
      "100%|██████████| 500/500 [00:09<00:00, 52.65it/s]\n"
     ]
    },
    {
     "name": "stdout",
     "output_type": "stream",
     "text": [
      "Under baseline, reward is 4.980536820277282\n",
      "% improvement: 39.456297981137716 \n",
      "\n",
      "Business 14\n",
      "Epsilon-greedy:\n"
     ]
    },
    {
     "name": "stderr",
     "output_type": "stream",
     "text": [
      "100%|██████████| 500/500 [00:07<00:00, 62.64it/s]\n",
      "100%|██████████| 500/500 [00:07<00:00, 62.79it/s]\n",
      "100%|██████████| 500/500 [00:06<00:00, 72.33it/s]\n",
      "100%|██████████| 500/500 [00:05<00:00, 89.63it/s]\n",
      "100%|██████████| 500/500 [00:05<00:00, 95.34it/s]\n"
     ]
    },
    {
     "name": "stdout",
     "output_type": "stream",
     "text": [
      "Under epsilon-greedy, max reward is 7.227944878299051, chosen by epsilon = 0.2\n",
      "Baseline:\n"
     ]
    },
    {
     "name": "stderr",
     "output_type": "stream",
     "text": [
      "100%|██████████| 500/500 [00:05<00:00, 95.34it/s]\n"
     ]
    },
    {
     "name": "stdout",
     "output_type": "stream",
     "text": [
      "Under baseline, reward is 6.393825565965322\n",
      "% improvement: 13.04570016382353 \n",
      "\n",
      "Business 15\n",
      "Epsilon-greedy:\n"
     ]
    },
    {
     "name": "stderr",
     "output_type": "stream",
     "text": [
      "100%|██████████| 500/500 [00:05<00:00, 94.88it/s]\n",
      "100%|██████████| 500/500 [00:05<00:00, 84.07it/s]\n",
      "100%|██████████| 500/500 [00:09<00:00, 54.90it/s]\n",
      "100%|██████████| 500/500 [00:06<00:00, 78.60it/s]\n",
      "100%|██████████| 500/500 [00:06<00:00, 72.36it/s]\n"
     ]
    },
    {
     "name": "stdout",
     "output_type": "stream",
     "text": [
      "Under epsilon-greedy, max reward is 6.348353057254289, chosen by epsilon = 0.1\n",
      "Baseline:\n"
     ]
    },
    {
     "name": "stderr",
     "output_type": "stream",
     "text": [
      "100%|██████████| 500/500 [00:05<00:00, 90.65it/s]\n"
     ]
    },
    {
     "name": "stdout",
     "output_type": "stream",
     "text": [
      "Under baseline, reward is 4.519046896387547\n",
      "% improvement: 40.47991098142973 \n",
      "\n",
      "Business 16\n",
      "Epsilon-greedy:\n"
     ]
    },
    {
     "name": "stderr",
     "output_type": "stream",
     "text": [
      "100%|██████████| 500/500 [00:05<00:00, 88.29it/s]\n",
      "100%|██████████| 500/500 [00:06<00:00, 72.81it/s]\n",
      "100%|██████████| 500/500 [00:08<00:00, 61.62it/s]\n",
      "100%|██████████| 500/500 [00:05<00:00, 83.37it/s]\n",
      "100%|██████████| 500/500 [00:05<00:00, 94.77it/s]\n"
     ]
    },
    {
     "name": "stdout",
     "output_type": "stream",
     "text": [
      "Under epsilon-greedy, max reward is 6.568872460697028, chosen by epsilon = 0.15\n",
      "Baseline:\n"
     ]
    },
    {
     "name": "stderr",
     "output_type": "stream",
     "text": [
      "100%|██████████| 500/500 [00:05<00:00, 94.53it/s]\n"
     ]
    },
    {
     "name": "stdout",
     "output_type": "stream",
     "text": [
      "Under baseline, reward is 5.730083883759522\n",
      "% improvement: 14.638329803771994 \n",
      "\n",
      "Business 17\n",
      "Epsilon-greedy:\n"
     ]
    },
    {
     "name": "stderr",
     "output_type": "stream",
     "text": [
      "100%|██████████| 500/500 [00:05<00:00, 93.51it/s]\n",
      "100%|██████████| 500/500 [00:05<00:00, 89.00it/s]\n",
      "100%|██████████| 500/500 [00:07<00:00, 69.26it/s]\n",
      "100%|██████████| 500/500 [00:08<00:00, 62.38it/s]\n",
      "100%|██████████| 500/500 [00:06<00:00, 80.55it/s]\n"
     ]
    },
    {
     "name": "stdout",
     "output_type": "stream",
     "text": [
      "Under epsilon-greedy, max reward is 6.604473688991837, chosen by epsilon = 0.15\n",
      "Baseline:\n"
     ]
    },
    {
     "name": "stderr",
     "output_type": "stream",
     "text": [
      "100%|██████████| 500/500 [00:07<00:00, 63.87it/s]\n"
     ]
    },
    {
     "name": "stdout",
     "output_type": "stream",
     "text": [
      "Under baseline, reward is 4.834490311531033\n",
      "% improvement: 36.61158185050265 \n",
      "\n",
      "Business 18\n",
      "Epsilon-greedy:\n"
     ]
    },
    {
     "name": "stderr",
     "output_type": "stream",
     "text": [
      "100%|██████████| 500/500 [00:05<00:00, 87.66it/s]\n",
      "100%|██████████| 500/500 [00:05<00:00, 91.78it/s]\n",
      "100%|██████████| 500/500 [00:08<00:00, 57.16it/s]\n",
      "100%|██████████| 500/500 [00:07<00:00, 67.74it/s]\n",
      "100%|██████████| 500/500 [00:05<00:00, 96.01it/s]\n"
     ]
    },
    {
     "name": "stdout",
     "output_type": "stream",
     "text": [
      "Under epsilon-greedy, max reward is 7.085115444637516, chosen by epsilon = 0.15\n",
      "Baseline:\n"
     ]
    },
    {
     "name": "stderr",
     "output_type": "stream",
     "text": [
      "100%|██████████| 500/500 [00:05<00:00, 95.22it/s]\n"
     ]
    },
    {
     "name": "stdout",
     "output_type": "stream",
     "text": [
      "Under baseline, reward is 6.050059360251519\n",
      "% improvement: 17.108197172183885 \n",
      "\n",
      "Business 19\n",
      "Epsilon-greedy:\n"
     ]
    },
    {
     "name": "stderr",
     "output_type": "stream",
     "text": [
      "100%|██████████| 500/500 [00:05<00:00, 95.12it/s]\n",
      "100%|██████████| 500/500 [00:05<00:00, 92.11it/s]\n",
      "100%|██████████| 500/500 [00:06<00:00, 78.02it/s]\n",
      "100%|██████████| 500/500 [00:05<00:00, 94.80it/s]\n",
      "100%|██████████| 500/500 [00:05<00:00, 92.67it/s]\n"
     ]
    },
    {
     "name": "stdout",
     "output_type": "stream",
     "text": [
      "Under epsilon-greedy, max reward is 7.218486331828589, chosen by epsilon = 0.15\n",
      "Baseline:\n"
     ]
    },
    {
     "name": "stderr",
     "output_type": "stream",
     "text": [
      "100%|██████████| 500/500 [00:05<00:00, 84.85it/s]\n"
     ]
    },
    {
     "name": "stdout",
     "output_type": "stream",
     "text": [
      "Under baseline, reward is 5.6088608602997745\n",
      "% improvement: 28.697903399992448 \n",
      "\n",
      "Business 20\n",
      "Epsilon-greedy:\n"
     ]
    },
    {
     "name": "stderr",
     "output_type": "stream",
     "text": [
      "100%|██████████| 500/500 [00:05<00:00, 91.01it/s]\n",
      "100%|██████████| 500/500 [00:08<00:00, 62.01it/s]\n",
      "100%|██████████| 500/500 [00:07<00:00, 70.93it/s]\n",
      "100%|██████████| 500/500 [00:06<00:00, 80.91it/s]\n",
      "100%|██████████| 500/500 [00:05<00:00, 92.75it/s]\n"
     ]
    },
    {
     "name": "stdout",
     "output_type": "stream",
     "text": [
      "Under epsilon-greedy, max reward is 7.137434191882367, chosen by epsilon = 0.2\n",
      "Baseline:\n"
     ]
    },
    {
     "name": "stderr",
     "output_type": "stream",
     "text": [
      "100%|██████████| 500/500 [00:07<00:00, 65.99it/s]\n"
     ]
    },
    {
     "name": "stdout",
     "output_type": "stream",
     "text": [
      "Under baseline, reward is 5.931395434140685\n",
      "% improvement: 20.333136968070097 \n",
      "\n",
      "Business 21\n",
      "Epsilon-greedy:\n"
     ]
    },
    {
     "name": "stderr",
     "output_type": "stream",
     "text": [
      "100%|██████████| 500/500 [00:09<00:00, 51.63it/s]\n",
      "100%|██████████| 500/500 [00:10<00:00, 46.87it/s]\n",
      "100%|██████████| 500/500 [00:10<00:00, 48.57it/s]\n",
      "100%|██████████| 500/500 [00:09<00:00, 55.10it/s]\n",
      "100%|██████████| 500/500 [00:07<00:00, 67.47it/s]\n"
     ]
    },
    {
     "name": "stdout",
     "output_type": "stream",
     "text": [
      "Under epsilon-greedy, max reward is 7.229366817382117, chosen by epsilon = 0.2\n",
      "Baseline:\n"
     ]
    },
    {
     "name": "stderr",
     "output_type": "stream",
     "text": [
      "100%|██████████| 500/500 [00:07<00:00, 65.96it/s]\n"
     ]
    },
    {
     "name": "stdout",
     "output_type": "stream",
     "text": [
      "Under baseline, reward is 6.104077422305735\n",
      "% improvement: 18.435044597637486 \n",
      "\n",
      "Business 22\n",
      "Epsilon-greedy:\n"
     ]
    },
    {
     "name": "stderr",
     "output_type": "stream",
     "text": [
      "100%|██████████| 500/500 [00:08<00:00, 59.35it/s]\n",
      "100%|██████████| 500/500 [00:09<00:00, 50.54it/s]\n",
      "100%|██████████| 500/500 [00:12<00:00, 39.78it/s]\n",
      "100%|██████████| 500/500 [00:05<00:00, 83.66it/s]\n",
      "100%|██████████| 500/500 [00:05<00:00, 84.33it/s]\n"
     ]
    },
    {
     "name": "stdout",
     "output_type": "stream",
     "text": [
      "Under epsilon-greedy, max reward is 5.83405877460672, chosen by epsilon = 0.2\n",
      "Baseline:\n"
     ]
    },
    {
     "name": "stderr",
     "output_type": "stream",
     "text": [
      "100%|██████████| 500/500 [00:06<00:00, 78.18it/s]\n"
     ]
    },
    {
     "name": "stdout",
     "output_type": "stream",
     "text": [
      "Under baseline, reward is 4.475181401764818\n",
      "% improvement: 30.36474392537517 \n",
      "\n",
      "Business 23\n",
      "Epsilon-greedy:\n"
     ]
    },
    {
     "name": "stderr",
     "output_type": "stream",
     "text": [
      "100%|██████████| 500/500 [00:07<00:00, 63.27it/s]\n",
      "100%|██████████| 500/500 [00:09<00:00, 53.34it/s]\n",
      "100%|██████████| 500/500 [00:06<00:00, 75.93it/s]\n",
      "100%|██████████| 500/500 [00:05<00:00, 92.86it/s]\n",
      "100%|██████████| 500/500 [00:05<00:00, 96.96it/s]\n"
     ]
    },
    {
     "name": "stdout",
     "output_type": "stream",
     "text": [
      "Under epsilon-greedy, max reward is 6.529078251293197, chosen by epsilon = 0.2\n",
      "Baseline:\n"
     ]
    },
    {
     "name": "stderr",
     "output_type": "stream",
     "text": [
      "100%|██████████| 500/500 [00:05<00:00, 84.72it/s]\n"
     ]
    },
    {
     "name": "stdout",
     "output_type": "stream",
     "text": [
      "Under baseline, reward is 5.692372144265527\n",
      "% improvement: 14.698724641019195 \n",
      "\n",
      "Business 24\n",
      "Epsilon-greedy:\n"
     ]
    },
    {
     "name": "stderr",
     "output_type": "stream",
     "text": [
      "100%|██████████| 500/500 [00:06<00:00, 72.08it/s]\n",
      "100%|██████████| 500/500 [00:09<00:00, 55.39it/s]\n",
      "100%|██████████| 500/500 [00:07<00:00, 67.62it/s]\n",
      "100%|██████████| 500/500 [00:06<00:00, 74.69it/s]\n",
      "100%|██████████| 500/500 [00:05<00:00, 95.31it/s]\n"
     ]
    },
    {
     "name": "stdout",
     "output_type": "stream",
     "text": [
      "Under epsilon-greedy, max reward is 6.121397268082698, chosen by epsilon = 0.1\n",
      "Baseline:\n"
     ]
    },
    {
     "name": "stderr",
     "output_type": "stream",
     "text": [
      "100%|██████████| 500/500 [00:05<00:00, 93.65it/s]\n"
     ]
    },
    {
     "name": "stdout",
     "output_type": "stream",
     "text": [
      "Under baseline, reward is 4.556427902010378\n",
      "% improvement: 34.346409067107764 \n",
      "\n",
      "Business 25\n",
      "Epsilon-greedy:\n"
     ]
    },
    {
     "name": "stderr",
     "output_type": "stream",
     "text": [
      "100%|██████████| 500/500 [00:10<00:00, 47.08it/s]\n",
      "100%|██████████| 500/500 [00:08<00:00, 58.48it/s]\n",
      "100%|██████████| 500/500 [00:06<00:00, 79.81it/s]\n",
      "100%|██████████| 500/500 [00:05<00:00, 94.32it/s]\n",
      "100%|██████████| 500/500 [00:05<00:00, 95.18it/s]\n"
     ]
    },
    {
     "name": "stdout",
     "output_type": "stream",
     "text": [
      "Under epsilon-greedy, max reward is 6.533771474814822, chosen by epsilon = 0.1\n",
      "Baseline:\n"
     ]
    },
    {
     "name": "stderr",
     "output_type": "stream",
     "text": [
      "100%|██████████| 500/500 [00:05<00:00, 92.56it/s]\n"
     ]
    },
    {
     "name": "stdout",
     "output_type": "stream",
     "text": [
      "Under baseline, reward is 5.623538887866764\n",
      "% improvement: 16.186117053657398 \n",
      "\n",
      "Business 26\n",
      "Epsilon-greedy:\n"
     ]
    },
    {
     "name": "stderr",
     "output_type": "stream",
     "text": [
      "100%|██████████| 500/500 [00:07<00:00, 65.36it/s]\n",
      "100%|██████████| 500/500 [00:08<00:00, 60.57it/s]\n",
      "100%|██████████| 500/500 [00:07<00:00, 64.32it/s]\n",
      "100%|██████████| 500/500 [00:09<00:00, 55.50it/s]\n",
      "100%|██████████| 500/500 [00:06<00:00, 81.09it/s]\n"
     ]
    },
    {
     "name": "stdout",
     "output_type": "stream",
     "text": [
      "Under epsilon-greedy, max reward is 6.237820298591918, chosen by epsilon = 0.2\n",
      "Baseline:\n"
     ]
    },
    {
     "name": "stderr",
     "output_type": "stream",
     "text": [
      "100%|██████████| 500/500 [00:06<00:00, 77.62it/s]\n"
     ]
    },
    {
     "name": "stdout",
     "output_type": "stream",
     "text": [
      "Under baseline, reward is 4.972822677265856\n",
      "% improvement: 25.438220974763965 \n",
      "\n",
      "Business 27\n",
      "Epsilon-greedy:\n"
     ]
    },
    {
     "name": "stderr",
     "output_type": "stream",
     "text": [
      "100%|██████████| 500/500 [00:09<00:00, 50.15it/s]\n",
      "100%|██████████| 500/500 [00:07<00:00, 65.28it/s]\n",
      "100%|██████████| 500/500 [00:06<00:00, 72.23it/s]\n",
      "100%|██████████| 500/500 [00:05<00:00, 93.71it/s]\n",
      "100%|██████████| 500/500 [00:05<00:00, 96.84it/s]\n"
     ]
    },
    {
     "name": "stdout",
     "output_type": "stream",
     "text": [
      "Under epsilon-greedy, max reward is 6.561223832151166, chosen by epsilon = 0.15\n",
      "Baseline:\n"
     ]
    },
    {
     "name": "stderr",
     "output_type": "stream",
     "text": [
      "100%|██████████| 500/500 [00:05<00:00, 92.15it/s]\n"
     ]
    },
    {
     "name": "stdout",
     "output_type": "stream",
     "text": [
      "Under baseline, reward is 5.481643857788206\n",
      "% improvement: 19.694456669765493 \n",
      "\n",
      "Business 28\n",
      "Epsilon-greedy:\n"
     ]
    },
    {
     "name": "stderr",
     "output_type": "stream",
     "text": [
      "100%|██████████| 500/500 [00:09<00:00, 50.39it/s]\n",
      "100%|██████████| 500/500 [00:08<00:00, 59.87it/s]\n",
      "100%|██████████| 500/500 [00:07<00:00, 68.74it/s]\n",
      "100%|██████████| 500/500 [00:07<00:00, 68.80it/s]\n",
      "100%|██████████| 500/500 [00:05<00:00, 96.99it/s]\n"
     ]
    },
    {
     "name": "stdout",
     "output_type": "stream",
     "text": [
      "Under epsilon-greedy, max reward is 6.719793627841002, chosen by epsilon = 0.1\n",
      "Baseline:\n"
     ]
    },
    {
     "name": "stderr",
     "output_type": "stream",
     "text": [
      "100%|██████████| 500/500 [00:05<00:00, 94.86it/s]\n"
     ]
    },
    {
     "name": "stdout",
     "output_type": "stream",
     "text": [
      "Under baseline, reward is 6.020118174793661\n",
      "% improvement: 11.62228768160888 \n",
      "\n",
      "Business 29\n",
      "Epsilon-greedy:\n"
     ]
    },
    {
     "name": "stderr",
     "output_type": "stream",
     "text": [
      "100%|██████████| 500/500 [00:06<00:00, 71.74it/s]\n",
      "100%|██████████| 500/500 [00:08<00:00, 59.25it/s]\n",
      "100%|██████████| 500/500 [00:08<00:00, 57.58it/s]\n",
      "100%|██████████| 500/500 [00:05<00:00, 94.00it/s]\n",
      "100%|██████████| 500/500 [00:05<00:00, 85.20it/s]\n"
     ]
    },
    {
     "name": "stdout",
     "output_type": "stream",
     "text": [
      "Under epsilon-greedy, max reward is 6.310442788650061, chosen by epsilon = 0.1\n",
      "Baseline:\n"
     ]
    },
    {
     "name": "stderr",
     "output_type": "stream",
     "text": [
      "100%|██████████| 500/500 [00:05<00:00, 92.67it/s]\n"
     ]
    },
    {
     "name": "stdout",
     "output_type": "stream",
     "text": [
      "Under baseline, reward is 4.272829874176892\n",
      "% improvement: 47.68766776294105 \n",
      "\n",
      "Business 30\n",
      "Epsilon-greedy:\n"
     ]
    },
    {
     "name": "stderr",
     "output_type": "stream",
     "text": [
      "100%|██████████| 500/500 [00:09<00:00, 54.82it/s]\n",
      "100%|██████████| 500/500 [00:07<00:00, 63.21it/s]\n",
      "100%|██████████| 500/500 [00:09<00:00, 55.31it/s]\n",
      "100%|██████████| 500/500 [00:08<00:00, 60.26it/s]\n",
      "100%|██████████| 500/500 [00:06<00:00, 80.09it/s]\n"
     ]
    },
    {
     "name": "stdout",
     "output_type": "stream",
     "text": [
      "Under epsilon-greedy, max reward is 6.273805749553307, chosen by epsilon = 0.1\n",
      "Baseline:\n"
     ]
    },
    {
     "name": "stderr",
     "output_type": "stream",
     "text": [
      "100%|██████████| 500/500 [00:08<00:00, 59.28it/s]\n"
     ]
    },
    {
     "name": "stdout",
     "output_type": "stream",
     "text": [
      "Under baseline, reward is 4.809261338793149\n",
      "% improvement: 30.452585284701428 \n",
      "\n",
      "Business 31\n",
      "Epsilon-greedy:\n"
     ]
    },
    {
     "name": "stderr",
     "output_type": "stream",
     "text": [
      "100%|██████████| 500/500 [00:10<00:00, 49.55it/s]\n",
      "100%|██████████| 500/500 [00:07<00:00, 65.98it/s]\n",
      "100%|██████████| 500/500 [00:05<00:00, 84.41it/s]\n",
      "100%|██████████| 500/500 [00:05<00:00, 96.13it/s]\n",
      "100%|██████████| 500/500 [00:05<00:00, 96.04it/s]\n"
     ]
    },
    {
     "name": "stdout",
     "output_type": "stream",
     "text": [
      "Under epsilon-greedy, max reward is 7.278627486803253, chosen by epsilon = 0.15\n",
      "Baseline:\n"
     ]
    },
    {
     "name": "stderr",
     "output_type": "stream",
     "text": [
      "100%|██████████| 500/500 [00:05<00:00, 85.23it/s]\n"
     ]
    },
    {
     "name": "stdout",
     "output_type": "stream",
     "text": [
      "Under baseline, reward is 4.97589947106047\n",
      "% improvement: 46.27762335503983 \n",
      "\n",
      "Business 32\n",
      "Epsilon-greedy:\n"
     ]
    },
    {
     "name": "stderr",
     "output_type": "stream",
     "text": [
      "100%|██████████| 500/500 [00:05<00:00, 90.15it/s]\n",
      "100%|██████████| 500/500 [00:05<00:00, 83.58it/s]\n",
      "100%|██████████| 500/500 [00:08<00:00, 61.92it/s]\n",
      "100%|██████████| 500/500 [00:06<00:00, 72.51it/s]\n",
      "100%|██████████| 500/500 [00:07<00:00, 67.60it/s]\n"
     ]
    },
    {
     "name": "stdout",
     "output_type": "stream",
     "text": [
      "Under epsilon-greedy, max reward is 6.451470714110388, chosen by epsilon = 0.1\n",
      "Baseline:\n"
     ]
    },
    {
     "name": "stderr",
     "output_type": "stream",
     "text": [
      "100%|██████████| 500/500 [00:07<00:00, 68.97it/s]\n"
     ]
    },
    {
     "name": "stdout",
     "output_type": "stream",
     "text": [
      "Under baseline, reward is 4.847469889479901\n",
      "% improvement: 33.08944379647473 \n",
      "\n",
      "Business 33\n",
      "Epsilon-greedy:\n"
     ]
    },
    {
     "name": "stderr",
     "output_type": "stream",
     "text": [
      "100%|██████████| 500/500 [00:09<00:00, 50.60it/s]\n",
      "100%|██████████| 500/500 [00:07<00:00, 67.98it/s]\n",
      "100%|██████████| 500/500 [00:06<00:00, 73.11it/s]\n",
      "100%|██████████| 500/500 [00:06<00:00, 76.11it/s]\n",
      "100%|██████████| 500/500 [00:05<00:00, 92.28it/s]\n"
     ]
    },
    {
     "name": "stdout",
     "output_type": "stream",
     "text": [
      "Under epsilon-greedy, max reward is 7.334264633920957, chosen by epsilon = 0.15\n",
      "Baseline:\n"
     ]
    },
    {
     "name": "stderr",
     "output_type": "stream",
     "text": [
      "100%|██████████| 500/500 [00:08<00:00, 55.89it/s]\n"
     ]
    },
    {
     "name": "stdout",
     "output_type": "stream",
     "text": [
      "Under baseline, reward is 5.414729044385378\n",
      "% improvement: 35.450261200529994 \n",
      "\n",
      "Business 34\n",
      "Epsilon-greedy:\n"
     ]
    },
    {
     "name": "stderr",
     "output_type": "stream",
     "text": [
      "100%|██████████| 500/500 [00:07<00:00, 64.57it/s]\n",
      "100%|██████████| 500/500 [00:07<00:00, 64.10it/s]\n",
      "100%|██████████| 500/500 [00:06<00:00, 74.38it/s]\n",
      "100%|██████████| 500/500 [00:05<00:00, 95.19it/s]\n",
      "100%|██████████| 500/500 [00:05<00:00, 96.02it/s]\n"
     ]
    },
    {
     "name": "stdout",
     "output_type": "stream",
     "text": [
      "Under epsilon-greedy, max reward is 5.981120040289655, chosen by epsilon = 0.15\n",
      "Baseline:\n"
     ]
    },
    {
     "name": "stderr",
     "output_type": "stream",
     "text": [
      "100%|██████████| 500/500 [00:05<00:00, 84.53it/s]\n"
     ]
    },
    {
     "name": "stdout",
     "output_type": "stream",
     "text": [
      "Under baseline, reward is 4.749243537096678\n",
      "% improvement: 25.938372997103688 \n",
      "\n",
      "Business 35\n",
      "Epsilon-greedy:\n"
     ]
    },
    {
     "name": "stderr",
     "output_type": "stream",
     "text": [
      "100%|██████████| 500/500 [00:06<00:00, 80.91it/s]\n",
      "100%|██████████| 500/500 [00:07<00:00, 63.12it/s]\n",
      "100%|██████████| 500/500 [00:08<00:00, 61.77it/s]\n",
      "100%|██████████| 500/500 [00:05<00:00, 93.12it/s]\n",
      "100%|██████████| 500/500 [00:05<00:00, 93.13it/s]\n"
     ]
    },
    {
     "name": "stdout",
     "output_type": "stream",
     "text": [
      "Under epsilon-greedy, max reward is 6.594671953655153, chosen by epsilon = 0.2\n",
      "Baseline:\n"
     ]
    },
    {
     "name": "stderr",
     "output_type": "stream",
     "text": [
      "100%|██████████| 500/500 [00:07<00:00, 66.19it/s]\n"
     ]
    },
    {
     "name": "stdout",
     "output_type": "stream",
     "text": [
      "Under baseline, reward is 5.864842610275104\n",
      "% improvement: 12.44414201502016 \n",
      "\n",
      "Business 36\n",
      "Epsilon-greedy:\n"
     ]
    },
    {
     "name": "stderr",
     "output_type": "stream",
     "text": [
      "100%|██████████| 500/500 [00:09<00:00, 50.13it/s]\n",
      "100%|██████████| 500/500 [00:09<00:00, 53.75it/s]\n",
      "100%|██████████| 500/500 [00:08<00:00, 60.71it/s]\n",
      "100%|██████████| 500/500 [00:05<00:00, 91.94it/s]\n",
      "100%|██████████| 500/500 [00:05<00:00, 94.16it/s]\n"
     ]
    },
    {
     "name": "stdout",
     "output_type": "stream",
     "text": [
      "Under epsilon-greedy, max reward is 6.273689702736082, chosen by epsilon = 0.15\n",
      "Baseline:\n"
     ]
    },
    {
     "name": "stderr",
     "output_type": "stream",
     "text": [
      "100%|██████████| 500/500 [00:09<00:00, 54.61it/s]\n"
     ]
    },
    {
     "name": "stdout",
     "output_type": "stream",
     "text": [
      "Under baseline, reward is 5.0626509968666875\n",
      "% improvement: 23.921038732847975 \n",
      "\n",
      "Business 37\n",
      "Epsilon-greedy:\n"
     ]
    },
    {
     "name": "stderr",
     "output_type": "stream",
     "text": [
      "100%|██████████| 500/500 [00:08<00:00, 56.40it/s]\n",
      "100%|██████████| 500/500 [00:12<00:00, 38.78it/s]\n",
      "100%|██████████| 500/500 [00:06<00:00, 77.06it/s]\n",
      "100%|██████████| 500/500 [00:05<00:00, 92.99it/s]\n",
      "100%|██████████| 500/500 [00:05<00:00, 95.46it/s]\n"
     ]
    },
    {
     "name": "stdout",
     "output_type": "stream",
     "text": [
      "Under epsilon-greedy, max reward is 6.64250229960341, chosen by epsilon = 0.2\n",
      "Baseline:\n"
     ]
    },
    {
     "name": "stderr",
     "output_type": "stream",
     "text": [
      "100%|██████████| 500/500 [00:09<00:00, 54.93it/s]\n"
     ]
    },
    {
     "name": "stdout",
     "output_type": "stream",
     "text": [
      "Under baseline, reward is 5.288513365202176\n",
      "% improvement: 25.602448947379596 \n",
      "\n",
      "Business 38\n",
      "Epsilon-greedy:\n"
     ]
    },
    {
     "name": "stderr",
     "output_type": "stream",
     "text": [
      "100%|██████████| 500/500 [00:07<00:00, 64.77it/s]\n",
      "100%|██████████| 500/500 [00:08<00:00, 61.63it/s]\n",
      "100%|██████████| 500/500 [00:08<00:00, 56.15it/s]\n",
      "100%|██████████| 500/500 [00:06<00:00, 82.05it/s]\n",
      "100%|██████████| 500/500 [00:05<00:00, 94.61it/s]\n"
     ]
    },
    {
     "name": "stdout",
     "output_type": "stream",
     "text": [
      "Under epsilon-greedy, max reward is 7.061796152895339, chosen by epsilon = 0.15\n",
      "Baseline:\n"
     ]
    },
    {
     "name": "stderr",
     "output_type": "stream",
     "text": [
      "100%|██████████| 500/500 [00:05<00:00, 84.18it/s]\n"
     ]
    },
    {
     "name": "stdout",
     "output_type": "stream",
     "text": [
      "Under baseline, reward is 6.250904486893618\n",
      "% improvement: 12.972389319048661 \n",
      "\n",
      "Business 39\n",
      "Epsilon-greedy:\n"
     ]
    },
    {
     "name": "stderr",
     "output_type": "stream",
     "text": [
      "100%|██████████| 500/500 [00:12<00:00, 38.94it/s]\n",
      "100%|██████████| 500/500 [00:10<00:00, 46.19it/s]\n",
      "100%|██████████| 500/500 [00:05<00:00, 95.63it/s]\n",
      "100%|██████████| 500/500 [00:05<00:00, 96.46it/s]\n",
      "100%|██████████| 500/500 [00:05<00:00, 94.39it/s]\n"
     ]
    },
    {
     "name": "stdout",
     "output_type": "stream",
     "text": [
      "Under epsilon-greedy, max reward is 6.3288369839812, chosen by epsilon = 0.15\n",
      "Baseline:\n"
     ]
    },
    {
     "name": "stderr",
     "output_type": "stream",
     "text": [
      "100%|██████████| 500/500 [00:05<00:00, 95.28it/s]\n"
     ]
    },
    {
     "name": "stdout",
     "output_type": "stream",
     "text": [
      "Under baseline, reward is 5.4099682821426365\n",
      "% improvement: 16.984733623514757 \n",
      "\n",
      "Business 40\n",
      "Epsilon-greedy:\n"
     ]
    },
    {
     "name": "stderr",
     "output_type": "stream",
     "text": [
      "100%|██████████| 500/500 [00:06<00:00, 82.68it/s]\n",
      "100%|██████████| 500/500 [00:07<00:00, 68.67it/s]\n",
      "100%|██████████| 500/500 [00:06<00:00, 80.24it/s]\n",
      "100%|██████████| 500/500 [00:05<00:00, 96.84it/s]\n",
      "100%|██████████| 500/500 [00:05<00:00, 94.62it/s]\n"
     ]
    },
    {
     "name": "stdout",
     "output_type": "stream",
     "text": [
      "Under epsilon-greedy, max reward is 6.908269722633739, chosen by epsilon = 0.2\n",
      "Baseline:\n"
     ]
    },
    {
     "name": "stderr",
     "output_type": "stream",
     "text": [
      "100%|██████████| 500/500 [00:05<00:00, 95.95it/s]\n"
     ]
    },
    {
     "name": "stdout",
     "output_type": "stream",
     "text": [
      "Under baseline, reward is 6.187375677638918\n",
      "% improvement: 11.651046947094578 \n",
      "\n",
      "Business 41\n",
      "Epsilon-greedy:\n"
     ]
    },
    {
     "name": "stderr",
     "output_type": "stream",
     "text": [
      "100%|██████████| 500/500 [00:05<00:00, 89.21it/s]\n",
      "100%|██████████| 500/500 [00:05<00:00, 90.61it/s]\n",
      "100%|██████████| 500/500 [00:06<00:00, 75.07it/s]\n",
      "100%|██████████| 500/500 [00:05<00:00, 95.46it/s]\n",
      "100%|██████████| 500/500 [00:05<00:00, 96.69it/s]\n"
     ]
    },
    {
     "name": "stdout",
     "output_type": "stream",
     "text": [
      "Under epsilon-greedy, max reward is 6.894858594528488, chosen by epsilon = 0.15\n",
      "Baseline:\n"
     ]
    },
    {
     "name": "stderr",
     "output_type": "stream",
     "text": [
      "100%|██████████| 500/500 [00:07<00:00, 69.59it/s]\n"
     ]
    },
    {
     "name": "stdout",
     "output_type": "stream",
     "text": [
      "Under baseline, reward is 5.919804402908363\n",
      "% improvement: 16.47105419802531 \n",
      "\n",
      "Business 42\n",
      "Epsilon-greedy:\n"
     ]
    },
    {
     "name": "stderr",
     "output_type": "stream",
     "text": [
      "100%|██████████| 500/500 [00:10<00:00, 46.53it/s]\n",
      "100%|██████████| 500/500 [00:07<00:00, 62.79it/s]\n",
      "100%|██████████| 500/500 [00:06<00:00, 77.48it/s]\n",
      "100%|██████████| 500/500 [00:07<00:00, 68.70it/s]\n",
      "100%|██████████| 500/500 [00:05<00:00, 95.52it/s]\n"
     ]
    },
    {
     "name": "stdout",
     "output_type": "stream",
     "text": [
      "Under epsilon-greedy, max reward is 6.780489148791185, chosen by epsilon = 0.2\n",
      "Baseline:\n"
     ]
    },
    {
     "name": "stderr",
     "output_type": "stream",
     "text": [
      "100%|██████████| 500/500 [00:06<00:00, 81.63it/s]\n"
     ]
    },
    {
     "name": "stdout",
     "output_type": "stream",
     "text": [
      "Under baseline, reward is 5.426870943243833\n",
      "% improvement: 24.942885498917832 \n",
      "\n",
      "Business 43\n",
      "Epsilon-greedy:\n"
     ]
    },
    {
     "name": "stderr",
     "output_type": "stream",
     "text": [
      "100%|██████████| 500/500 [00:09<00:00, 52.24it/s]\n",
      "100%|██████████| 500/500 [00:09<00:00, 52.68it/s]\n",
      "100%|██████████| 500/500 [00:05<00:00, 94.08it/s]\n",
      "100%|██████████| 500/500 [00:05<00:00, 95.04it/s]\n",
      "100%|██████████| 500/500 [00:05<00:00, 91.31it/s]\n"
     ]
    },
    {
     "name": "stdout",
     "output_type": "stream",
     "text": [
      "Under epsilon-greedy, max reward is 6.4006312424140495, chosen by epsilon = 0.2\n",
      "Baseline:\n"
     ]
    },
    {
     "name": "stderr",
     "output_type": "stream",
     "text": [
      "100%|██████████| 500/500 [00:07<00:00, 69.66it/s]\n"
     ]
    },
    {
     "name": "stdout",
     "output_type": "stream",
     "text": [
      "Under baseline, reward is 5.096418866841339\n",
      "% improvement: 25.590761074570693 \n",
      "\n",
      "Business 44\n",
      "Epsilon-greedy:\n"
     ]
    },
    {
     "name": "stderr",
     "output_type": "stream",
     "text": [
      "100%|██████████| 500/500 [00:09<00:00, 53.43it/s]\n",
      "100%|██████████| 500/500 [00:08<00:00, 59.04it/s]\n",
      "100%|██████████| 500/500 [00:07<00:00, 65.64it/s]\n",
      "100%|██████████| 500/500 [00:05<00:00, 95.84it/s]\n",
      "100%|██████████| 500/500 [00:05<00:00, 95.68it/s]\n"
     ]
    },
    {
     "name": "stdout",
     "output_type": "stream",
     "text": [
      "Under epsilon-greedy, max reward is 5.984212762919168, chosen by epsilon = 0.15\n",
      "Baseline:\n"
     ]
    },
    {
     "name": "stderr",
     "output_type": "stream",
     "text": [
      "100%|██████████| 500/500 [00:07<00:00, 70.52it/s]\n"
     ]
    },
    {
     "name": "stdout",
     "output_type": "stream",
     "text": [
      "Under baseline, reward is 4.3798843133869605\n",
      "% improvement: 36.62947088873181 \n",
      "\n",
      "Business 45\n",
      "Epsilon-greedy:\n"
     ]
    },
    {
     "name": "stderr",
     "output_type": "stream",
     "text": [
      "100%|██████████| 500/500 [00:05<00:00, 83.73it/s]\n",
      "100%|██████████| 500/500 [00:07<00:00, 69.91it/s]\n",
      "100%|██████████| 500/500 [00:09<00:00, 53.86it/s]\n",
      "100%|██████████| 500/500 [00:05<00:00, 86.94it/s]\n",
      "100%|██████████| 500/500 [00:05<00:00, 96.01it/s]\n"
     ]
    },
    {
     "name": "stdout",
     "output_type": "stream",
     "text": [
      "Under epsilon-greedy, max reward is 6.366857187958815, chosen by epsilon = 0.2\n",
      "Baseline:\n"
     ]
    },
    {
     "name": "stderr",
     "output_type": "stream",
     "text": [
      "100%|██████████| 500/500 [00:05<00:00, 95.15it/s]\n"
     ]
    },
    {
     "name": "stdout",
     "output_type": "stream",
     "text": [
      "Under baseline, reward is 4.44954114901625\n",
      "% improvement: 43.090196825496605 \n",
      "\n",
      "Business 46\n",
      "Epsilon-greedy:\n"
     ]
    },
    {
     "name": "stderr",
     "output_type": "stream",
     "text": [
      "100%|██████████| 500/500 [00:09<00:00, 51.54it/s]\n",
      "100%|██████████| 500/500 [00:07<00:00, 65.07it/s]\n",
      "100%|██████████| 500/500 [00:08<00:00, 56.14it/s]\n",
      "100%|██████████| 500/500 [00:05<00:00, 95.20it/s]\n",
      "100%|██████████| 500/500 [00:05<00:00, 93.27it/s]\n"
     ]
    },
    {
     "name": "stdout",
     "output_type": "stream",
     "text": [
      "Under epsilon-greedy, max reward is 7.224939954926179, chosen by epsilon = 0.2\n",
      "Baseline:\n"
     ]
    },
    {
     "name": "stderr",
     "output_type": "stream",
     "text": [
      "100%|██████████| 500/500 [00:08<00:00, 56.50it/s]\n"
     ]
    },
    {
     "name": "stdout",
     "output_type": "stream",
     "text": [
      "Under baseline, reward is 6.18819642666792\n",
      "% improvement: 16.753565284230984 \n",
      "\n",
      "Business 47\n",
      "Epsilon-greedy:\n"
     ]
    },
    {
     "name": "stderr",
     "output_type": "stream",
     "text": [
      "100%|██████████| 500/500 [00:07<00:00, 62.66it/s]\n",
      "100%|██████████| 500/500 [00:08<00:00, 57.10it/s]\n",
      "100%|██████████| 500/500 [00:08<00:00, 60.63it/s]\n",
      "100%|██████████| 500/500 [00:05<00:00, 90.98it/s]\n",
      "100%|██████████| 500/500 [00:05<00:00, 88.42it/s]\n"
     ]
    },
    {
     "name": "stdout",
     "output_type": "stream",
     "text": [
      "Under epsilon-greedy, max reward is 7.342374358661535, chosen by epsilon = 0.1\n",
      "Baseline:\n"
     ]
    },
    {
     "name": "stderr",
     "output_type": "stream",
     "text": [
      "100%|██████████| 500/500 [00:06<00:00, 73.99it/s]\n"
     ]
    },
    {
     "name": "stdout",
     "output_type": "stream",
     "text": [
      "Under baseline, reward is 5.135136109985695\n",
      "% improvement: 42.98305247223501 \n",
      "\n",
      "Business 48\n",
      "Epsilon-greedy:\n"
     ]
    },
    {
     "name": "stderr",
     "output_type": "stream",
     "text": [
      "100%|██████████| 500/500 [00:07<00:00, 63.27it/s]\n",
      "100%|██████████| 500/500 [00:08<00:00, 62.01it/s]\n",
      "100%|██████████| 500/500 [00:07<00:00, 65.37it/s]\n",
      "100%|██████████| 500/500 [00:05<00:00, 84.16it/s]\n",
      "100%|██████████| 500/500 [00:05<00:00, 96.82it/s]\n"
     ]
    },
    {
     "name": "stdout",
     "output_type": "stream",
     "text": [
      "Under epsilon-greedy, max reward is 6.0749515882247955, chosen by epsilon = 0.15\n",
      "Baseline:\n"
     ]
    },
    {
     "name": "stderr",
     "output_type": "stream",
     "text": [
      "100%|██████████| 500/500 [00:05<00:00, 87.92it/s]\n"
     ]
    },
    {
     "name": "stdout",
     "output_type": "stream",
     "text": [
      "Under baseline, reward is 4.595040589615287\n",
      "% improvement: 32.20670132825555 \n",
      "\n",
      "Business 49\n",
      "Epsilon-greedy:\n"
     ]
    },
    {
     "name": "stderr",
     "output_type": "stream",
     "text": [
      "100%|██████████| 500/500 [00:06<00:00, 83.24it/s]\n",
      "100%|██████████| 500/500 [00:07<00:00, 71.08it/s]\n",
      "100%|██████████| 500/500 [00:06<00:00, 73.91it/s]\n",
      "100%|██████████| 500/500 [00:06<00:00, 81.62it/s]\n",
      "100%|██████████| 500/500 [00:05<00:00, 96.60it/s]\n"
     ]
    },
    {
     "name": "stdout",
     "output_type": "stream",
     "text": [
      "Under epsilon-greedy, max reward is 5.820004655087106, chosen by epsilon = 0.1\n",
      "Baseline:\n"
     ]
    },
    {
     "name": "stderr",
     "output_type": "stream",
     "text": [
      "100%|██████████| 500/500 [00:05<00:00, 86.48it/s]\n"
     ]
    },
    {
     "name": "stdout",
     "output_type": "stream",
     "text": [
      "Under baseline, reward is 4.420431734196001\n",
      "% improvement: 31.66145311246761 \n",
      "\n",
      "Business 50\n",
      "Epsilon-greedy:\n"
     ]
    },
    {
     "name": "stderr",
     "output_type": "stream",
     "text": [
      "100%|██████████| 500/500 [00:05<00:00, 87.27it/s]\n",
      "100%|██████████| 500/500 [00:05<00:00, 89.50it/s]\n",
      "100%|██████████| 500/500 [00:07<00:00, 66.17it/s]\n",
      "100%|██████████| 500/500 [00:06<00:00, 80.69it/s]\n",
      "100%|██████████| 500/500 [00:05<00:00, 95.06it/s]\n"
     ]
    },
    {
     "name": "stdout",
     "output_type": "stream",
     "text": [
      "Under epsilon-greedy, max reward is 6.450466450689237, chosen by epsilon = 0.15\n",
      "Baseline:\n"
     ]
    },
    {
     "name": "stderr",
     "output_type": "stream",
     "text": [
      "100%|██████████| 500/500 [00:06<00:00, 75.84it/s]\n"
     ]
    },
    {
     "name": "stdout",
     "output_type": "stream",
     "text": [
      "Under baseline, reward is 5.150330828793799\n",
      "% improvement: 25.24373025955553 \n",
      "\n",
      "Business 51\n",
      "Epsilon-greedy:\n"
     ]
    },
    {
     "name": "stderr",
     "output_type": "stream",
     "text": [
      "100%|██████████| 500/500 [00:08<00:00, 62.27it/s]\n",
      "100%|██████████| 500/500 [00:09<00:00, 50.15it/s]\n",
      "100%|██████████| 500/500 [00:07<00:00, 64.37it/s]\n",
      "100%|██████████| 500/500 [00:05<00:00, 89.46it/s]\n",
      "100%|██████████| 500/500 [00:05<00:00, 96.03it/s]\n"
     ]
    },
    {
     "name": "stdout",
     "output_type": "stream",
     "text": [
      "Under epsilon-greedy, max reward is 6.589419763914168, chosen by epsilon = 0.1\n",
      "Baseline:\n"
     ]
    },
    {
     "name": "stderr",
     "output_type": "stream",
     "text": [
      "100%|██████████| 500/500 [00:06<00:00, 75.80it/s]\n"
     ]
    },
    {
     "name": "stdout",
     "output_type": "stream",
     "text": [
      "Under baseline, reward is 4.686445850830809\n",
      "% improvement: 40.60590847851151 \n",
      "\n",
      "Business 52\n",
      "Epsilon-greedy:\n"
     ]
    },
    {
     "name": "stderr",
     "output_type": "stream",
     "text": [
      "100%|██████████| 500/500 [00:06<00:00, 82.14it/s]\n",
      "100%|██████████| 500/500 [00:10<00:00, 49.40it/s]\n",
      "100%|██████████| 500/500 [00:09<00:00, 52.22it/s]\n",
      "100%|██████████| 500/500 [00:07<00:00, 70.49it/s]\n",
      "100%|██████████| 500/500 [00:05<00:00, 93.36it/s]\n"
     ]
    },
    {
     "name": "stdout",
     "output_type": "stream",
     "text": [
      "Under epsilon-greedy, max reward is 6.503181282027719, chosen by epsilon = 0.2\n",
      "Baseline:\n"
     ]
    },
    {
     "name": "stderr",
     "output_type": "stream",
     "text": [
      "100%|██████████| 500/500 [00:06<00:00, 81.92it/s]\n"
     ]
    },
    {
     "name": "stdout",
     "output_type": "stream",
     "text": [
      "Under baseline, reward is 5.686676759268956\n",
      "% improvement: 14.35820176393721 \n",
      "\n",
      "Business 53\n",
      "Epsilon-greedy:\n"
     ]
    },
    {
     "name": "stderr",
     "output_type": "stream",
     "text": [
      "100%|██████████| 500/500 [00:10<00:00, 48.81it/s]\n",
      "100%|██████████| 500/500 [00:07<00:00, 66.58it/s]\n",
      "100%|██████████| 500/500 [00:06<00:00, 78.98it/s]\n",
      "100%|██████████| 500/500 [00:05<00:00, 94.67it/s]\n",
      "100%|██████████| 500/500 [00:05<00:00, 94.91it/s]\n"
     ]
    },
    {
     "name": "stdout",
     "output_type": "stream",
     "text": [
      "Under epsilon-greedy, max reward is 6.705686117949517, chosen by epsilon = 0.15\n",
      "Baseline:\n"
     ]
    },
    {
     "name": "stderr",
     "output_type": "stream",
     "text": [
      "100%|██████████| 500/500 [00:07<00:00, 68.36it/s]\n"
     ]
    },
    {
     "name": "stdout",
     "output_type": "stream",
     "text": [
      "Under baseline, reward is 5.770252943468225\n",
      "% improvement: 16.211302756496632 \n",
      "\n",
      "Business 54\n",
      "Epsilon-greedy:\n"
     ]
    },
    {
     "name": "stderr",
     "output_type": "stream",
     "text": [
      "100%|██████████| 500/500 [00:10<00:00, 49.40it/s]\n",
      "100%|██████████| 500/500 [00:08<00:00, 60.21it/s]\n",
      "100%|██████████| 500/500 [00:07<00:00, 70.72it/s]\n",
      "100%|██████████| 500/500 [00:06<00:00, 81.88it/s]\n",
      "100%|██████████| 500/500 [00:05<00:00, 96.50it/s]\n"
     ]
    },
    {
     "name": "stdout",
     "output_type": "stream",
     "text": [
      "Under epsilon-greedy, max reward is 6.451133726583546, chosen by epsilon = 0.2\n",
      "Baseline:\n"
     ]
    },
    {
     "name": "stderr",
     "output_type": "stream",
     "text": [
      "100%|██████████| 500/500 [00:06<00:00, 78.00it/s]\n"
     ]
    },
    {
     "name": "stdout",
     "output_type": "stream",
     "text": [
      "Under baseline, reward is 4.901365258091796\n",
      "% improvement: 31.619118080073612 \n",
      "\n",
      "Business 55\n",
      "Epsilon-greedy:\n"
     ]
    },
    {
     "name": "stderr",
     "output_type": "stream",
     "text": [
      "100%|██████████| 500/500 [00:08<00:00, 57.85it/s]\n",
      "100%|██████████| 500/500 [00:08<00:00, 59.12it/s]\n",
      "100%|██████████| 500/500 [00:07<00:00, 70.50it/s]\n",
      "100%|██████████| 500/500 [00:06<00:00, 76.01it/s]\n",
      "100%|██████████| 500/500 [00:05<00:00, 97.03it/s]\n"
     ]
    },
    {
     "name": "stdout",
     "output_type": "stream",
     "text": [
      "Under epsilon-greedy, max reward is 6.351189330548512, chosen by epsilon = 0.1\n",
      "Baseline:\n"
     ]
    },
    {
     "name": "stderr",
     "output_type": "stream",
     "text": [
      "100%|██████████| 500/500 [00:05<00:00, 86.13it/s]\n"
     ]
    },
    {
     "name": "stdout",
     "output_type": "stream",
     "text": [
      "Under baseline, reward is 4.546834789126757\n",
      "% improvement: 39.68374979747812 \n",
      "\n",
      "Business 56\n",
      "Epsilon-greedy:\n"
     ]
    },
    {
     "name": "stderr",
     "output_type": "stream",
     "text": [
      "100%|██████████| 500/500 [00:08<00:00, 61.88it/s]\n",
      "100%|██████████| 500/500 [00:08<00:00, 55.60it/s]\n",
      "100%|██████████| 500/500 [00:06<00:00, 82.84it/s]\n",
      "100%|██████████| 500/500 [00:05<00:00, 95.73it/s]\n",
      "100%|██████████| 500/500 [00:05<00:00, 96.94it/s]\n"
     ]
    },
    {
     "name": "stdout",
     "output_type": "stream",
     "text": [
      "Under epsilon-greedy, max reward is 6.355691642836519, chosen by epsilon = 0.15\n",
      "Baseline:\n"
     ]
    },
    {
     "name": "stderr",
     "output_type": "stream",
     "text": [
      "100%|██████████| 500/500 [00:05<00:00, 87.72it/s]\n"
     ]
    },
    {
     "name": "stdout",
     "output_type": "stream",
     "text": [
      "Under baseline, reward is 4.554532811887273\n",
      "% improvement: 39.54651125244382 \n",
      "\n",
      "Business 57\n",
      "Epsilon-greedy:\n"
     ]
    },
    {
     "name": "stderr",
     "output_type": "stream",
     "text": [
      "100%|██████████| 500/500 [00:05<00:00, 87.80it/s]\n",
      "100%|██████████| 500/500 [00:05<00:00, 90.83it/s]\n",
      "100%|██████████| 500/500 [00:08<00:00, 57.64it/s]\n",
      "100%|██████████| 500/500 [00:07<00:00, 67.83it/s]\n",
      "100%|██████████| 500/500 [00:08<00:00, 57.39it/s]\n"
     ]
    },
    {
     "name": "stdout",
     "output_type": "stream",
     "text": [
      "Under epsilon-greedy, max reward is 6.151947637042803, chosen by epsilon = 0.1\n",
      "Baseline:\n"
     ]
    },
    {
     "name": "stderr",
     "output_type": "stream",
     "text": [
      "100%|██████████| 500/500 [00:06<00:00, 80.06it/s]\n"
     ]
    },
    {
     "name": "stdout",
     "output_type": "stream",
     "text": [
      "Under baseline, reward is 4.569869817982621\n",
      "% improvement: 34.61975684372108 \n",
      "\n",
      "Business 58\n",
      "Epsilon-greedy:\n"
     ]
    },
    {
     "name": "stderr",
     "output_type": "stream",
     "text": [
      "100%|██████████| 500/500 [00:08<00:00, 61.36it/s]\n",
      "100%|██████████| 500/500 [00:08<00:00, 56.31it/s]\n",
      "100%|██████████| 500/500 [00:08<00:00, 62.42it/s]\n",
      "100%|██████████| 500/500 [00:05<00:00, 95.25it/s]\n",
      "100%|██████████| 500/500 [00:05<00:00, 95.99it/s]\n"
     ]
    },
    {
     "name": "stdout",
     "output_type": "stream",
     "text": [
      "Under epsilon-greedy, max reward is 6.227459325590282, chosen by epsilon = 0.1\n",
      "Baseline:\n"
     ]
    },
    {
     "name": "stderr",
     "output_type": "stream",
     "text": [
      "100%|██████████| 500/500 [00:06<00:00, 72.23it/s]\n"
     ]
    },
    {
     "name": "stdout",
     "output_type": "stream",
     "text": [
      "Under baseline, reward is 4.381520498976026\n",
      "% improvement: 42.13009677908977 \n",
      "\n",
      "Business 59\n",
      "Epsilon-greedy:\n"
     ]
    },
    {
     "name": "stderr",
     "output_type": "stream",
     "text": [
      "100%|██████████| 500/500 [00:07<00:00, 62.96it/s]\n",
      "100%|██████████| 500/500 [00:10<00:00, 49.09it/s]\n",
      "100%|██████████| 500/500 [00:06<00:00, 72.88it/s]\n",
      "100%|██████████| 500/500 [00:05<00:00, 93.19it/s]\n",
      "100%|██████████| 500/500 [00:05<00:00, 94.96it/s]\n"
     ]
    },
    {
     "name": "stdout",
     "output_type": "stream",
     "text": [
      "Under epsilon-greedy, max reward is 6.413123393600866, chosen by epsilon = 0.1\n",
      "Baseline:\n"
     ]
    },
    {
     "name": "stderr",
     "output_type": "stream",
     "text": [
      "100%|██████████| 500/500 [00:08<00:00, 57.71it/s]\n"
     ]
    },
    {
     "name": "stdout",
     "output_type": "stream",
     "text": [
      "Under baseline, reward is 4.741246636301733\n",
      "% improvement: 35.26238741723063 \n",
      "\n",
      "Business 60\n",
      "Epsilon-greedy:\n"
     ]
    },
    {
     "name": "stderr",
     "output_type": "stream",
     "text": [
      "100%|██████████| 500/500 [00:08<00:00, 58.25it/s]\n",
      "100%|██████████| 500/500 [00:10<00:00, 49.54it/s]\n",
      "100%|██████████| 500/500 [00:08<00:00, 55.72it/s]\n",
      "100%|██████████| 500/500 [00:06<00:00, 76.92it/s]\n",
      "100%|██████████| 500/500 [00:05<00:00, 96.88it/s]\n"
     ]
    },
    {
     "name": "stdout",
     "output_type": "stream",
     "text": [
      "Under epsilon-greedy, max reward is 6.371691122352768, chosen by epsilon = 0.2\n",
      "Baseline:\n"
     ]
    },
    {
     "name": "stderr",
     "output_type": "stream",
     "text": [
      "100%|██████████| 500/500 [00:07<00:00, 69.64it/s]\n"
     ]
    },
    {
     "name": "stdout",
     "output_type": "stream",
     "text": [
      "Under baseline, reward is 4.577982079149039\n",
      "% improvement: 39.18121591985668 \n",
      "\n",
      "Business 61\n",
      "Epsilon-greedy:\n"
     ]
    },
    {
     "name": "stderr",
     "output_type": "stream",
     "text": [
      "100%|██████████| 500/500 [00:07<00:00, 65.71it/s]\n",
      "100%|██████████| 500/500 [00:07<00:00, 69.91it/s]\n",
      "100%|██████████| 500/500 [00:07<00:00, 65.93it/s]\n",
      "100%|██████████| 500/500 [00:05<00:00, 96.47it/s]\n",
      "100%|██████████| 500/500 [00:05<00:00, 92.84it/s]\n"
     ]
    },
    {
     "name": "stdout",
     "output_type": "stream",
     "text": [
      "Under epsilon-greedy, max reward is 6.396020727624573, chosen by epsilon = 0.15\n",
      "Baseline:\n"
     ]
    },
    {
     "name": "stderr",
     "output_type": "stream",
     "text": [
      "100%|██████████| 500/500 [00:09<00:00, 53.09it/s]\n"
     ]
    },
    {
     "name": "stdout",
     "output_type": "stream",
     "text": [
      "Under baseline, reward is 5.3763078346647575\n",
      "% improvement: 18.966787697404985 \n",
      "\n",
      "Business 62\n",
      "Epsilon-greedy:\n"
     ]
    },
    {
     "name": "stderr",
     "output_type": "stream",
     "text": [
      "100%|██████████| 500/500 [00:08<00:00, 60.88it/s]\n",
      "100%|██████████| 500/500 [00:09<00:00, 53.41it/s]\n",
      "100%|██████████| 500/500 [00:06<00:00, 72.05it/s]\n",
      "100%|██████████| 500/500 [00:06<00:00, 82.02it/s]\n",
      "100%|██████████| 500/500 [00:06<00:00, 82.04it/s]\n"
     ]
    },
    {
     "name": "stdout",
     "output_type": "stream",
     "text": [
      "Under epsilon-greedy, max reward is 7.361009045778344, chosen by epsilon = 0.2\n",
      "Baseline:\n"
     ]
    },
    {
     "name": "stderr",
     "output_type": "stream",
     "text": [
      "100%|██████████| 500/500 [00:07<00:00, 65.85it/s]\n"
     ]
    },
    {
     "name": "stdout",
     "output_type": "stream",
     "text": [
      "Under baseline, reward is 5.868896039001011\n",
      "% improvement: 25.42408311310481 \n",
      "\n",
      "Business 63\n",
      "Epsilon-greedy:\n"
     ]
    },
    {
     "name": "stderr",
     "output_type": "stream",
     "text": [
      "100%|██████████| 500/500 [00:08<00:00, 59.12it/s]\n",
      "100%|██████████| 500/500 [00:08<00:00, 57.57it/s]\n",
      "100%|██████████| 500/500 [00:09<00:00, 54.61it/s]\n",
      "100%|██████████| 500/500 [00:05<00:00, 91.70it/s]\n",
      "100%|██████████| 500/500 [00:05<00:00, 94.51it/s]\n"
     ]
    },
    {
     "name": "stdout",
     "output_type": "stream",
     "text": [
      "Under epsilon-greedy, max reward is 6.375825056256763, chosen by epsilon = 0.15\n",
      "Baseline:\n"
     ]
    },
    {
     "name": "stderr",
     "output_type": "stream",
     "text": [
      "100%|██████████| 500/500 [00:08<00:00, 56.54it/s]\n"
     ]
    },
    {
     "name": "stdout",
     "output_type": "stream",
     "text": [
      "Under baseline, reward is 5.293640356604847\n",
      "% improvement: 20.44310959473625 \n",
      "\n",
      "Business 64\n",
      "Epsilon-greedy:\n"
     ]
    },
    {
     "name": "stderr",
     "output_type": "stream",
     "text": [
      "100%|██████████| 500/500 [00:08<00:00, 57.11it/s]\n",
      "100%|██████████| 500/500 [00:08<00:00, 61.19it/s]\n",
      "100%|██████████| 500/500 [00:09<00:00, 50.29it/s]\n",
      "100%|██████████| 500/500 [00:06<00:00, 73.23it/s]\n",
      "100%|██████████| 500/500 [00:05<00:00, 95.19it/s]\n"
     ]
    },
    {
     "name": "stdout",
     "output_type": "stream",
     "text": [
      "Under epsilon-greedy, max reward is 6.355765806235045, chosen by epsilon = 0.1\n",
      "Baseline:\n"
     ]
    },
    {
     "name": "stderr",
     "output_type": "stream",
     "text": [
      "100%|██████████| 500/500 [00:06<00:00, 81.93it/s]\n"
     ]
    },
    {
     "name": "stdout",
     "output_type": "stream",
     "text": [
      "Under baseline, reward is 4.9444426147217815\n",
      "% improvement: 28.54362567200463 \n",
      "\n",
      "Business 65\n",
      "Epsilon-greedy:\n"
     ]
    },
    {
     "name": "stderr",
     "output_type": "stream",
     "text": [
      "100%|██████████| 500/500 [00:05<00:00, 86.95it/s]\n",
      "100%|██████████| 500/500 [00:05<00:00, 90.16it/s]\n",
      "100%|██████████| 500/500 [00:09<00:00, 53.99it/s]\n",
      "100%|██████████| 500/500 [00:06<00:00, 80.39it/s]\n",
      "100%|██████████| 500/500 [00:05<00:00, 97.19it/s]\n"
     ]
    },
    {
     "name": "stdout",
     "output_type": "stream",
     "text": [
      "Under epsilon-greedy, max reward is 7.7226566696878916, chosen by epsilon = 0.2\n",
      "Baseline:\n"
     ]
    },
    {
     "name": "stderr",
     "output_type": "stream",
     "text": [
      "100%|██████████| 500/500 [00:05<00:00, 84.28it/s]\n"
     ]
    },
    {
     "name": "stdout",
     "output_type": "stream",
     "text": [
      "Under baseline, reward is 6.047566649807247\n",
      "% improvement: 27.698578897580806 \n",
      "\n",
      "Business 66\n",
      "Epsilon-greedy:\n"
     ]
    },
    {
     "name": "stderr",
     "output_type": "stream",
     "text": [
      "100%|██████████| 500/500 [00:06<00:00, 78.97it/s]\n",
      "100%|██████████| 500/500 [00:07<00:00, 69.39it/s]\n",
      "100%|██████████| 500/500 [00:05<00:00, 95.78it/s]\n",
      "100%|██████████| 500/500 [00:05<00:00, 91.61it/s]\n",
      "100%|██████████| 500/500 [00:06<00:00, 71.61it/s]\n"
     ]
    },
    {
     "name": "stdout",
     "output_type": "stream",
     "text": [
      "Under epsilon-greedy, max reward is 6.296166298487895, chosen by epsilon = 0.15\n",
      "Baseline:\n"
     ]
    },
    {
     "name": "stderr",
     "output_type": "stream",
     "text": [
      "100%|██████████| 500/500 [00:05<00:00, 95.44it/s]\n"
     ]
    },
    {
     "name": "stdout",
     "output_type": "stream",
     "text": [
      "Under baseline, reward is 5.132985087283181\n",
      "% improvement: 22.660911563652522 \n",
      "\n",
      "Business 67\n",
      "Epsilon-greedy:\n"
     ]
    },
    {
     "name": "stderr",
     "output_type": "stream",
     "text": [
      "100%|██████████| 500/500 [00:08<00:00, 56.74it/s]\n",
      "100%|██████████| 500/500 [00:07<00:00, 64.40it/s]\n",
      "100%|██████████| 500/500 [00:05<00:00, 92.00it/s]\n",
      "100%|██████████| 500/500 [00:05<00:00, 96.60it/s]\n",
      "100%|██████████| 500/500 [00:05<00:00, 95.31it/s]\n"
     ]
    },
    {
     "name": "stdout",
     "output_type": "stream",
     "text": [
      "Under epsilon-greedy, max reward is 6.237042124970355, chosen by epsilon = 0.2\n",
      "Baseline:\n"
     ]
    },
    {
     "name": "stderr",
     "output_type": "stream",
     "text": [
      "100%|██████████| 500/500 [00:05<00:00, 92.02it/s]\n"
     ]
    },
    {
     "name": "stdout",
     "output_type": "stream",
     "text": [
      "Under baseline, reward is 4.561839010506492\n",
      "% improvement: 36.722100683642246 \n",
      "\n",
      "Business 68\n",
      "Epsilon-greedy:\n"
     ]
    },
    {
     "name": "stderr",
     "output_type": "stream",
     "text": [
      "100%|██████████| 500/500 [00:09<00:00, 54.24it/s]\n",
      "100%|██████████| 500/500 [00:08<00:00, 58.04it/s]\n",
      "100%|██████████| 500/500 [00:06<00:00, 72.96it/s]\n",
      "100%|██████████| 500/500 [00:05<00:00, 94.49it/s]\n",
      "100%|██████████| 500/500 [00:05<00:00, 93.41it/s]\n"
     ]
    },
    {
     "name": "stdout",
     "output_type": "stream",
     "text": [
      "Under epsilon-greedy, max reward is 6.14139670900672, chosen by epsilon = 0.2\n",
      "Baseline:\n"
     ]
    },
    {
     "name": "stderr",
     "output_type": "stream",
     "text": [
      "100%|██████████| 500/500 [00:08<00:00, 56.42it/s]\n"
     ]
    },
    {
     "name": "stdout",
     "output_type": "stream",
     "text": [
      "Under baseline, reward is 4.668799084231512\n",
      "% improvement: 31.541250720100294 \n",
      "\n",
      "Business 69\n",
      "Epsilon-greedy:\n"
     ]
    },
    {
     "name": "stderr",
     "output_type": "stream",
     "text": [
      "100%|██████████| 500/500 [00:09<00:00, 54.33it/s]\n",
      "100%|██████████| 500/500 [00:07<00:00, 65.20it/s]\n",
      "100%|██████████| 500/500 [00:07<00:00, 67.07it/s]\n",
      "100%|██████████| 500/500 [00:06<00:00, 79.27it/s]\n",
      "100%|██████████| 500/500 [00:05<00:00, 97.01it/s]\n"
     ]
    },
    {
     "name": "stdout",
     "output_type": "stream",
     "text": [
      "Under epsilon-greedy, max reward is 6.419497125307441, chosen by epsilon = 0.2\n",
      "Baseline:\n"
     ]
    },
    {
     "name": "stderr",
     "output_type": "stream",
     "text": [
      "100%|██████████| 500/500 [00:05<00:00, 93.53it/s]\n"
     ]
    },
    {
     "name": "stdout",
     "output_type": "stream",
     "text": [
      "Under baseline, reward is 5.010546225299207\n",
      "% improvement: 28.119706647833553 \n",
      "\n",
      "Business 70\n",
      "Epsilon-greedy:\n"
     ]
    },
    {
     "name": "stderr",
     "output_type": "stream",
     "text": [
      "100%|██████████| 500/500 [00:11<00:00, 44.18it/s]\n",
      "100%|██████████| 500/500 [00:07<00:00, 66.28it/s]\n",
      "100%|██████████| 500/500 [00:05<00:00, 95.54it/s]\n",
      "100%|██████████| 500/500 [00:05<00:00, 95.74it/s]\n",
      "100%|██████████| 500/500 [00:05<00:00, 95.43it/s]\n"
     ]
    },
    {
     "name": "stdout",
     "output_type": "stream",
     "text": [
      "Under epsilon-greedy, max reward is 7.3086760820890575, chosen by epsilon = 0.2\n",
      "Baseline:\n"
     ]
    },
    {
     "name": "stderr",
     "output_type": "stream",
     "text": [
      "100%|██████████| 500/500 [00:06<00:00, 78.87it/s]\n"
     ]
    },
    {
     "name": "stdout",
     "output_type": "stream",
     "text": [
      "Under baseline, reward is 6.197980825335097\n",
      "% improvement: 17.920275781006627 \n",
      "\n",
      "Business 71\n",
      "Epsilon-greedy:\n"
     ]
    },
    {
     "name": "stderr",
     "output_type": "stream",
     "text": [
      "100%|██████████| 500/500 [00:06<00:00, 79.22it/s]\n",
      "100%|██████████| 500/500 [00:09<00:00, 53.84it/s]\n",
      "100%|██████████| 500/500 [00:07<00:00, 68.10it/s]\n",
      "100%|██████████| 500/500 [00:06<00:00, 78.82it/s]\n",
      "100%|██████████| 500/500 [00:05<00:00, 94.83it/s]\n"
     ]
    },
    {
     "name": "stdout",
     "output_type": "stream",
     "text": [
      "Under epsilon-greedy, max reward is 6.2210455446458885, chosen by epsilon = 0.2\n",
      "Baseline:\n"
     ]
    },
    {
     "name": "stderr",
     "output_type": "stream",
     "text": [
      "100%|██████████| 500/500 [00:23<00:00, 20.97it/s]\n"
     ]
    },
    {
     "name": "stdout",
     "output_type": "stream",
     "text": [
      "Under baseline, reward is 4.9395713865429425\n",
      "% improvement: 25.943023348019906 \n",
      "\n",
      "Business 72\n",
      "Epsilon-greedy:\n"
     ]
    },
    {
     "name": "stderr",
     "output_type": "stream",
     "text": [
      "100%|██████████| 500/500 [00:07<00:00, 67.03it/s]\n",
      "100%|██████████| 500/500 [00:07<00:00, 67.22it/s]\n",
      "100%|██████████| 500/500 [00:06<00:00, 71.64it/s]\n",
      "100%|██████████| 500/500 [00:05<00:00, 94.73it/s]\n",
      "100%|██████████| 500/500 [00:05<00:00, 95.77it/s]\n"
     ]
    },
    {
     "name": "stdout",
     "output_type": "stream",
     "text": [
      "Under epsilon-greedy, max reward is 6.543451865175507, chosen by epsilon = 0.2\n",
      "Baseline:\n"
     ]
    },
    {
     "name": "stderr",
     "output_type": "stream",
     "text": [
      "100%|██████████| 500/500 [00:05<00:00, 94.46it/s]\n"
     ]
    },
    {
     "name": "stdout",
     "output_type": "stream",
     "text": [
      "Under baseline, reward is 5.597949359105754\n",
      "% improvement: 16.890158260038156 \n",
      "\n",
      "Business 73\n",
      "Epsilon-greedy:\n"
     ]
    },
    {
     "name": "stderr",
     "output_type": "stream",
     "text": [
      "100%|██████████| 500/500 [00:09<00:00, 50.45it/s]\n",
      "100%|██████████| 500/500 [00:09<00:00, 52.35it/s]\n",
      "100%|██████████| 500/500 [00:06<00:00, 71.93it/s]\n",
      "100%|██████████| 500/500 [00:06<00:00, 78.26it/s]\n",
      "100%|██████████| 500/500 [00:05<00:00, 96.03it/s]\n"
     ]
    },
    {
     "name": "stdout",
     "output_type": "stream",
     "text": [
      "Under epsilon-greedy, max reward is 6.489891047258225, chosen by epsilon = 0.1\n",
      "Baseline:\n"
     ]
    },
    {
     "name": "stderr",
     "output_type": "stream",
     "text": [
      "100%|██████████| 500/500 [00:05<00:00, 83.57it/s]\n"
     ]
    },
    {
     "name": "stdout",
     "output_type": "stream",
     "text": [
      "Under baseline, reward is 4.975666617970734\n",
      "% improvement: 30.432594173784288 \n",
      "\n",
      "Business 74\n",
      "Epsilon-greedy:\n"
     ]
    },
    {
     "name": "stderr",
     "output_type": "stream",
     "text": [
      "100%|██████████| 500/500 [00:08<00:00, 61.30it/s]\n",
      "100%|██████████| 500/500 [00:08<00:00, 57.26it/s]\n",
      "100%|██████████| 500/500 [00:09<00:00, 53.83it/s]\n",
      "100%|██████████| 500/500 [00:05<00:00, 87.57it/s]\n",
      "100%|██████████| 500/500 [00:05<00:00, 94.94it/s]\n"
     ]
    },
    {
     "name": "stdout",
     "output_type": "stream",
     "text": [
      "Under epsilon-greedy, max reward is 6.039827222297317, chosen by epsilon = 0.15\n",
      "Baseline:\n"
     ]
    },
    {
     "name": "stderr",
     "output_type": "stream",
     "text": [
      "100%|██████████| 500/500 [00:07<00:00, 62.74it/s]\n"
     ]
    },
    {
     "name": "stdout",
     "output_type": "stream",
     "text": [
      "Under baseline, reward is 4.326040740593738\n",
      "% improvement: 39.61558812015178 \n",
      "\n",
      "Business 75\n",
      "Epsilon-greedy:\n"
     ]
    },
    {
     "name": "stderr",
     "output_type": "stream",
     "text": [
      "100%|██████████| 500/500 [00:09<00:00, 54.79it/s]\n",
      "100%|██████████| 500/500 [00:08<00:00, 59.32it/s]\n",
      "100%|██████████| 500/500 [00:07<00:00, 64.97it/s]\n",
      "100%|██████████| 500/500 [00:08<00:00, 60.56it/s]\n",
      "100%|██████████| 500/500 [00:05<00:00, 92.81it/s]\n"
     ]
    },
    {
     "name": "stdout",
     "output_type": "stream",
     "text": [
      "Under epsilon-greedy, max reward is 5.959651637723469, chosen by epsilon = 0.15\n",
      "Baseline:\n"
     ]
    },
    {
     "name": "stderr",
     "output_type": "stream",
     "text": [
      "100%|██████████| 500/500 [00:06<00:00, 82.87it/s]\n"
     ]
    },
    {
     "name": "stdout",
     "output_type": "stream",
     "text": [
      "Under baseline, reward is 4.505689828500215\n",
      "% improvement: 32.269460716678445 \n",
      "\n",
      "Business 76\n",
      "Epsilon-greedy:\n"
     ]
    },
    {
     "name": "stderr",
     "output_type": "stream",
     "text": [
      "100%|██████████| 500/500 [00:08<00:00, 59.78it/s]\n",
      "100%|██████████| 500/500 [00:08<00:00, 59.41it/s]\n",
      "100%|██████████| 500/500 [00:07<00:00, 63.48it/s]\n",
      "100%|██████████| 500/500 [00:05<00:00, 94.26it/s]\n",
      "100%|██████████| 500/500 [00:05<00:00, 94.49it/s]\n"
     ]
    },
    {
     "name": "stdout",
     "output_type": "stream",
     "text": [
      "Under epsilon-greedy, max reward is 7.055535597202399, chosen by epsilon = 0.2\n",
      "Baseline:\n"
     ]
    },
    {
     "name": "stderr",
     "output_type": "stream",
     "text": [
      "100%|██████████| 500/500 [00:06<00:00, 71.90it/s]\n"
     ]
    },
    {
     "name": "stdout",
     "output_type": "stream",
     "text": [
      "Under baseline, reward is 5.984347015921773\n",
      "% improvement: 17.89984067485817 \n",
      "\n",
      "Business 77\n",
      "Epsilon-greedy:\n"
     ]
    },
    {
     "name": "stderr",
     "output_type": "stream",
     "text": [
      "100%|██████████| 500/500 [00:08<00:00, 61.44it/s]\n",
      "100%|██████████| 500/500 [00:07<00:00, 62.74it/s]\n",
      "100%|██████████| 500/500 [00:07<00:00, 67.61it/s]\n",
      "100%|██████████| 500/500 [00:06<00:00, 77.54it/s]\n",
      "100%|██████████| 500/500 [00:05<00:00, 95.53it/s]\n"
     ]
    },
    {
     "name": "stdout",
     "output_type": "stream",
     "text": [
      "Under epsilon-greedy, max reward is 7.1128148253662955, chosen by epsilon = 0.1\n",
      "Baseline:\n"
     ]
    },
    {
     "name": "stderr",
     "output_type": "stream",
     "text": [
      "100%|██████████| 500/500 [00:05<00:00, 85.23it/s]\n"
     ]
    },
    {
     "name": "stdout",
     "output_type": "stream",
     "text": [
      "Under baseline, reward is 5.639377275439837\n",
      "% improvement: 26.127664065737466 \n",
      "\n",
      "Business 78\n",
      "Epsilon-greedy:\n"
     ]
    },
    {
     "name": "stderr",
     "output_type": "stream",
     "text": [
      "100%|██████████| 500/500 [00:07<00:00, 62.83it/s]\n",
      "100%|██████████| 500/500 [00:07<00:00, 66.35it/s]\n",
      "100%|██████████| 500/500 [00:08<00:00, 59.11it/s]\n",
      "100%|██████████| 500/500 [00:05<00:00, 89.62it/s]\n",
      "100%|██████████| 500/500 [00:05<00:00, 96.76it/s]\n"
     ]
    },
    {
     "name": "stdout",
     "output_type": "stream",
     "text": [
      "Under epsilon-greedy, max reward is 6.712192173541825, chosen by epsilon = 0.2\n",
      "Baseline:\n"
     ]
    },
    {
     "name": "stderr",
     "output_type": "stream",
     "text": [
      "100%|██████████| 500/500 [00:07<00:00, 69.58it/s]\n"
     ]
    },
    {
     "name": "stdout",
     "output_type": "stream",
     "text": [
      "Under baseline, reward is 4.936164257714395\n",
      "% improvement: 35.979919287568215 \n",
      "\n",
      "Business 79\n",
      "Epsilon-greedy:\n"
     ]
    },
    {
     "name": "stderr",
     "output_type": "stream",
     "text": [
      "100%|██████████| 500/500 [00:06<00:00, 79.99it/s]\n",
      "100%|██████████| 500/500 [00:07<00:00, 64.41it/s]\n",
      "100%|██████████| 500/500 [00:07<00:00, 70.05it/s]\n",
      "100%|██████████| 500/500 [00:06<00:00, 80.24it/s]\n",
      "100%|██████████| 500/500 [00:05<00:00, 93.91it/s]\n"
     ]
    },
    {
     "name": "stdout",
     "output_type": "stream",
     "text": [
      "Under epsilon-greedy, max reward is 7.034363714025386, chosen by epsilon = 0.2\n",
      "Baseline:\n"
     ]
    },
    {
     "name": "stderr",
     "output_type": "stream",
     "text": [
      "100%|██████████| 500/500 [00:07<00:00, 63.26it/s]\n"
     ]
    },
    {
     "name": "stdout",
     "output_type": "stream",
     "text": [
      "Under baseline, reward is 6.290264578397303\n",
      "% improvement: 11.82937738713802 \n",
      "\n",
      "Business 80\n",
      "Epsilon-greedy:\n"
     ]
    },
    {
     "name": "stderr",
     "output_type": "stream",
     "text": [
      "100%|██████████| 500/500 [00:10<00:00, 46.71it/s]\n",
      "100%|██████████| 500/500 [00:08<00:00, 58.39it/s]\n",
      "100%|██████████| 500/500 [00:07<00:00, 69.48it/s]\n",
      "100%|██████████| 500/500 [00:06<00:00, 74.82it/s]\n",
      "100%|██████████| 500/500 [00:05<00:00, 96.71it/s]\n"
     ]
    },
    {
     "name": "stdout",
     "output_type": "stream",
     "text": [
      "Under epsilon-greedy, max reward is 7.192789354436992, chosen by epsilon = 0.15\n",
      "Baseline:\n"
     ]
    },
    {
     "name": "stderr",
     "output_type": "stream",
     "text": [
      "100%|██████████| 500/500 [00:06<00:00, 71.58it/s]\n"
     ]
    },
    {
     "name": "stdout",
     "output_type": "stream",
     "text": [
      "Under baseline, reward is 6.083023721934719\n",
      "% improvement: 18.243651237140167 \n",
      "\n",
      "Business 81\n",
      "Epsilon-greedy:\n"
     ]
    },
    {
     "name": "stderr",
     "output_type": "stream",
     "text": [
      "100%|██████████| 500/500 [00:05<00:00, 84.49it/s]\n",
      "100%|██████████| 500/500 [00:07<00:00, 67.91it/s]\n",
      "100%|██████████| 500/500 [00:06<00:00, 71.46it/s]\n",
      "100%|██████████| 500/500 [00:07<00:00, 68.58it/s]\n",
      "100%|██████████| 500/500 [00:05<00:00, 95.57it/s]\n"
     ]
    },
    {
     "name": "stdout",
     "output_type": "stream",
     "text": [
      "Under epsilon-greedy, max reward is 6.429837721452824, chosen by epsilon = 0.15\n",
      "Baseline:\n"
     ]
    },
    {
     "name": "stderr",
     "output_type": "stream",
     "text": [
      "100%|██████████| 500/500 [00:07<00:00, 68.88it/s]\n"
     ]
    },
    {
     "name": "stdout",
     "output_type": "stream",
     "text": [
      "Under baseline, reward is 5.518770305897164\n",
      "% improvement: 16.508522099245997 \n",
      "\n",
      "Business 82\n",
      "Epsilon-greedy:\n"
     ]
    },
    {
     "name": "stderr",
     "output_type": "stream",
     "text": [
      "100%|██████████| 500/500 [00:08<00:00, 60.08it/s]\n",
      "100%|██████████| 500/500 [00:07<00:00, 64.54it/s]\n",
      "100%|██████████| 500/500 [00:08<00:00, 59.23it/s]\n",
      "100%|██████████| 500/500 [00:05<00:00, 95.69it/s]\n",
      "100%|██████████| 500/500 [00:05<00:00, 96.39it/s]\n"
     ]
    },
    {
     "name": "stdout",
     "output_type": "stream",
     "text": [
      "Under epsilon-greedy, max reward is 7.393055420173277, chosen by epsilon = 0.1\n",
      "Baseline:\n"
     ]
    },
    {
     "name": "stderr",
     "output_type": "stream",
     "text": [
      "100%|██████████| 500/500 [00:06<00:00, 83.21it/s]\n"
     ]
    },
    {
     "name": "stdout",
     "output_type": "stream",
     "text": [
      "Under baseline, reward is 5.337852373685222\n",
      "% improvement: 38.502433237379975 \n",
      "\n",
      "Business 83\n",
      "Epsilon-greedy:\n"
     ]
    },
    {
     "name": "stderr",
     "output_type": "stream",
     "text": [
      "100%|██████████| 500/500 [00:08<00:00, 56.61it/s]\n",
      "100%|██████████| 500/500 [00:08<00:00, 59.81it/s]\n",
      "100%|██████████| 500/500 [00:05<00:00, 94.61it/s]\n",
      "100%|██████████| 500/500 [00:05<00:00, 96.31it/s]\n",
      "100%|██████████| 500/500 [00:05<00:00, 95.78it/s]\n"
     ]
    },
    {
     "name": "stdout",
     "output_type": "stream",
     "text": [
      "Under epsilon-greedy, max reward is 6.460685925846906, chosen by epsilon = 0.1\n",
      "Baseline:\n"
     ]
    },
    {
     "name": "stderr",
     "output_type": "stream",
     "text": [
      "100%|██████████| 500/500 [00:05<00:00, 85.06it/s]\n"
     ]
    },
    {
     "name": "stdout",
     "output_type": "stream",
     "text": [
      "Under baseline, reward is 4.899143148024529\n",
      "% improvement: 31.87379365414203 \n",
      "\n",
      "Business 84\n",
      "Epsilon-greedy:\n"
     ]
    },
    {
     "name": "stderr",
     "output_type": "stream",
     "text": [
      "100%|██████████| 500/500 [00:06<00:00, 82.04it/s]\n",
      "100%|██████████| 500/500 [00:07<00:00, 65.62it/s]\n",
      "100%|██████████| 500/500 [00:08<00:00, 59.46it/s]\n",
      "100%|██████████| 500/500 [00:05<00:00, 94.00it/s]\n",
      "100%|██████████| 500/500 [00:05<00:00, 96.87it/s]\n"
     ]
    },
    {
     "name": "stdout",
     "output_type": "stream",
     "text": [
      "Under epsilon-greedy, max reward is 6.75418379178049, chosen by epsilon = 0.15\n",
      "Baseline:\n"
     ]
    },
    {
     "name": "stderr",
     "output_type": "stream",
     "text": [
      "100%|██████████| 500/500 [00:05<00:00, 87.52it/s]\n"
     ]
    },
    {
     "name": "stdout",
     "output_type": "stream",
     "text": [
      "Under baseline, reward is 5.064768535466036\n",
      "% improvement: 33.35621844284346 \n",
      "\n",
      "Business 85\n",
      "Epsilon-greedy:\n"
     ]
    },
    {
     "name": "stderr",
     "output_type": "stream",
     "text": [
      "100%|██████████| 500/500 [00:05<00:00, 85.30it/s]\n",
      "100%|██████████| 500/500 [00:08<00:00, 61.61it/s]\n",
      "100%|██████████| 500/500 [00:06<00:00, 73.35it/s]\n",
      "100%|██████████| 500/500 [00:05<00:00, 90.52it/s]\n",
      "100%|██████████| 500/500 [00:05<00:00, 96.96it/s]\n"
     ]
    },
    {
     "name": "stdout",
     "output_type": "stream",
     "text": [
      "Under epsilon-greedy, max reward is 6.030300477780135, chosen by epsilon = 0.2\n",
      "Baseline:\n"
     ]
    },
    {
     "name": "stderr",
     "output_type": "stream",
     "text": [
      "100%|██████████| 500/500 [00:05<00:00, 93.41it/s]\n"
     ]
    },
    {
     "name": "stdout",
     "output_type": "stream",
     "text": [
      "Under baseline, reward is 4.474460791196775\n",
      "% improvement: 34.77155704759729 \n",
      "\n",
      "Business 86\n",
      "Epsilon-greedy:\n"
     ]
    },
    {
     "name": "stderr",
     "output_type": "stream",
     "text": [
      "100%|██████████| 500/500 [00:06<00:00, 73.02it/s]\n",
      "100%|██████████| 500/500 [00:05<00:00, 85.78it/s]\n",
      "100%|██████████| 500/500 [00:05<00:00, 88.63it/s]\n",
      "100%|██████████| 500/500 [00:05<00:00, 96.55it/s]\n",
      "100%|██████████| 500/500 [00:05<00:00, 96.82it/s]\n"
     ]
    },
    {
     "name": "stdout",
     "output_type": "stream",
     "text": [
      "Under epsilon-greedy, max reward is 7.033318571244003, chosen by epsilon = 0.15\n",
      "Baseline:\n"
     ]
    },
    {
     "name": "stderr",
     "output_type": "stream",
     "text": [
      "100%|██████████| 500/500 [00:05<00:00, 93.39it/s]\n"
     ]
    },
    {
     "name": "stdout",
     "output_type": "stream",
     "text": [
      "Under baseline, reward is 5.143063629851203\n",
      "% improvement: 36.75348153231944 \n",
      "\n",
      "Business 87\n",
      "Epsilon-greedy:\n"
     ]
    },
    {
     "name": "stderr",
     "output_type": "stream",
     "text": [
      "100%|██████████| 500/500 [00:06<00:00, 83.32it/s]\n",
      "100%|██████████| 500/500 [00:06<00:00, 83.17it/s]\n",
      "100%|██████████| 500/500 [00:08<00:00, 56.01it/s]\n",
      "100%|██████████| 500/500 [00:05<00:00, 92.59it/s]\n",
      "100%|██████████| 500/500 [00:05<00:00, 95.51it/s]\n"
     ]
    },
    {
     "name": "stdout",
     "output_type": "stream",
     "text": [
      "Under epsilon-greedy, max reward is 6.074004433794295, chosen by epsilon = 0.15\n",
      "Baseline:\n"
     ]
    },
    {
     "name": "stderr",
     "output_type": "stream",
     "text": [
      "100%|██████████| 500/500 [00:06<00:00, 77.80it/s]\n"
     ]
    },
    {
     "name": "stdout",
     "output_type": "stream",
     "text": [
      "Under baseline, reward is 4.404531399918126\n",
      "% improvement: 37.90353348161402 \n",
      "\n",
      "Business 88\n",
      "Epsilon-greedy:\n"
     ]
    },
    {
     "name": "stderr",
     "output_type": "stream",
     "text": [
      "100%|██████████| 500/500 [00:05<00:00, 85.16it/s]\n",
      "100%|██████████| 500/500 [00:07<00:00, 68.58it/s]\n",
      "100%|██████████| 500/500 [00:08<00:00, 60.66it/s]\n",
      "100%|██████████| 500/500 [00:05<00:00, 87.49it/s]\n",
      "100%|██████████| 500/500 [00:05<00:00, 96.18it/s]\n"
     ]
    },
    {
     "name": "stdout",
     "output_type": "stream",
     "text": [
      "Under epsilon-greedy, max reward is 6.469814979083829, chosen by epsilon = 0.15\n",
      "Baseline:\n"
     ]
    },
    {
     "name": "stderr",
     "output_type": "stream",
     "text": [
      "100%|██████████| 500/500 [00:05<00:00, 94.14it/s]\n"
     ]
    },
    {
     "name": "stdout",
     "output_type": "stream",
     "text": [
      "Under baseline, reward is 4.86786842391123\n",
      "% improvement: 32.9085837099407 \n",
      "\n",
      "Business 89\n",
      "Epsilon-greedy:\n"
     ]
    },
    {
     "name": "stderr",
     "output_type": "stream",
     "text": [
      "100%|██████████| 500/500 [00:09<00:00, 54.49it/s]\n",
      "100%|██████████| 500/500 [00:07<00:00, 66.22it/s]\n",
      "100%|██████████| 500/500 [00:05<00:00, 90.93it/s]\n",
      "100%|██████████| 500/500 [00:39<00:00, 12.66it/s]\n",
      "100%|██████████| 500/500 [00:05<00:00, 95.51it/s]\n"
     ]
    },
    {
     "name": "stdout",
     "output_type": "stream",
     "text": [
      "Under epsilon-greedy, max reward is 6.761576497260694, chosen by epsilon = 0.1\n",
      "Baseline:\n"
     ]
    },
    {
     "name": "stderr",
     "output_type": "stream",
     "text": [
      "100%|██████████| 500/500 [00:05<00:00, 92.33it/s]\n"
     ]
    },
    {
     "name": "stdout",
     "output_type": "stream",
     "text": [
      "Under baseline, reward is 4.758667576788769\n",
      "% improvement: 42.089700281681004 \n",
      "\n",
      "Business 90\n",
      "Epsilon-greedy:\n"
     ]
    },
    {
     "name": "stderr",
     "output_type": "stream",
     "text": [
      "100%|██████████| 500/500 [00:05<00:00, 86.51it/s]\n",
      "100%|██████████| 500/500 [00:07<00:00, 71.40it/s]\n",
      "100%|██████████| 500/500 [00:06<00:00, 78.14it/s]\n",
      "100%|██████████| 500/500 [00:05<00:00, 92.72it/s]\n",
      "100%|██████████| 500/500 [00:05<00:00, 95.85it/s]\n"
     ]
    },
    {
     "name": "stdout",
     "output_type": "stream",
     "text": [
      "Under epsilon-greedy, max reward is 6.638570754979738, chosen by epsilon = 0.2\n",
      "Baseline:\n"
     ]
    },
    {
     "name": "stderr",
     "output_type": "stream",
     "text": [
      "100%|██████████| 500/500 [00:08<00:00, 59.88it/s]\n"
     ]
    },
    {
     "name": "stdout",
     "output_type": "stream",
     "text": [
      "Under baseline, reward is 4.963223396199553\n",
      "% improvement: 33.75522770268681 \n",
      "\n",
      "Business 91\n",
      "Epsilon-greedy:\n"
     ]
    },
    {
     "name": "stderr",
     "output_type": "stream",
     "text": [
      "100%|██████████| 500/500 [00:08<00:00, 59.64it/s]\n",
      "100%|██████████| 500/500 [00:11<00:00, 44.98it/s]\n",
      "100%|██████████| 500/500 [00:07<00:00, 67.32it/s]\n",
      "100%|██████████| 500/500 [00:07<00:00, 63.62it/s]\n",
      "100%|██████████| 500/500 [00:08<00:00, 57.04it/s]\n"
     ]
    },
    {
     "name": "stdout",
     "output_type": "stream",
     "text": [
      "Under epsilon-greedy, max reward is 6.156442201068794, chosen by epsilon = 0.15\n",
      "Baseline:\n"
     ]
    },
    {
     "name": "stderr",
     "output_type": "stream",
     "text": [
      "100%|██████████| 500/500 [00:08<00:00, 58.01it/s]\n"
     ]
    },
    {
     "name": "stdout",
     "output_type": "stream",
     "text": [
      "Under baseline, reward is 4.263341029013398\n",
      "% improvement: 44.40416938669078 \n",
      "\n",
      "Business 92\n",
      "Epsilon-greedy:\n"
     ]
    },
    {
     "name": "stderr",
     "output_type": "stream",
     "text": [
      "100%|██████████| 500/500 [00:07<00:00, 65.67it/s]\n",
      "100%|██████████| 500/500 [00:07<00:00, 64.72it/s]\n",
      "100%|██████████| 500/500 [00:06<00:00, 73.96it/s]\n",
      "100%|██████████| 500/500 [00:05<00:00, 96.17it/s]\n",
      "100%|██████████| 500/500 [00:05<00:00, 96.00it/s]\n"
     ]
    },
    {
     "name": "stdout",
     "output_type": "stream",
     "text": [
      "Under epsilon-greedy, max reward is 7.272986471300031, chosen by epsilon = 0.2\n",
      "Baseline:\n"
     ]
    },
    {
     "name": "stderr",
     "output_type": "stream",
     "text": [
      "100%|██████████| 500/500 [00:07<00:00, 62.97it/s]\n"
     ]
    },
    {
     "name": "stdout",
     "output_type": "stream",
     "text": [
      "Under baseline, reward is 6.253890962931685\n",
      "% improvement: 16.295383376665352 \n",
      "\n",
      "Business 93\n",
      "Epsilon-greedy:\n"
     ]
    },
    {
     "name": "stderr",
     "output_type": "stream",
     "text": [
      "100%|██████████| 500/500 [00:08<00:00, 62.13it/s]\n",
      "100%|██████████| 500/500 [00:07<00:00, 67.84it/s]\n",
      "100%|██████████| 500/500 [00:08<00:00, 62.09it/s]\n",
      "100%|██████████| 500/500 [00:05<00:00, 88.84it/s]\n",
      "100%|██████████| 500/500 [00:05<00:00, 84.66it/s]\n"
     ]
    },
    {
     "name": "stdout",
     "output_type": "stream",
     "text": [
      "Under epsilon-greedy, max reward is 6.122358588611458, chosen by epsilon = 0.2\n",
      "Baseline:\n"
     ]
    },
    {
     "name": "stderr",
     "output_type": "stream",
     "text": [
      "100%|██████████| 500/500 [00:06<00:00, 72.25it/s]\n"
     ]
    },
    {
     "name": "stdout",
     "output_type": "stream",
     "text": [
      "Under baseline, reward is 5.017607069231531\n",
      "% improvement: 22.017497666454886 \n",
      "\n",
      "Business 94\n",
      "Epsilon-greedy:\n"
     ]
    },
    {
     "name": "stderr",
     "output_type": "stream",
     "text": [
      "100%|██████████| 500/500 [00:08<00:00, 56.27it/s]\n",
      "100%|██████████| 500/500 [00:08<00:00, 59.72it/s]\n",
      "100%|██████████| 500/500 [00:06<00:00, 78.85it/s]\n",
      "100%|██████████| 500/500 [00:05<00:00, 96.12it/s]\n",
      "100%|██████████| 500/500 [00:05<00:00, 97.14it/s]\n"
     ]
    },
    {
     "name": "stdout",
     "output_type": "stream",
     "text": [
      "Under epsilon-greedy, max reward is 6.806038087741731, chosen by epsilon = 0.15\n",
      "Baseline:\n"
     ]
    },
    {
     "name": "stderr",
     "output_type": "stream",
     "text": [
      "100%|██████████| 500/500 [00:06<00:00, 75.65it/s]\n"
     ]
    },
    {
     "name": "stdout",
     "output_type": "stream",
     "text": [
      "Under baseline, reward is 5.1059238085668435\n",
      "% improvement: 33.29689871835523 \n",
      "\n",
      "Business 95\n",
      "Epsilon-greedy:\n"
     ]
    },
    {
     "name": "stderr",
     "output_type": "stream",
     "text": [
      "100%|██████████| 500/500 [00:09<00:00, 50.30it/s]\n",
      "100%|██████████| 500/500 [00:08<00:00, 58.75it/s]\n",
      "100%|██████████| 500/500 [00:06<00:00, 77.06it/s]\n",
      "100%|██████████| 500/500 [00:05<00:00, 96.64it/s]\n",
      "100%|██████████| 500/500 [00:05<00:00, 97.05it/s]\n"
     ]
    },
    {
     "name": "stdout",
     "output_type": "stream",
     "text": [
      "Under epsilon-greedy, max reward is 6.230082252007719, chosen by epsilon = 0.1\n",
      "Baseline:\n"
     ]
    },
    {
     "name": "stderr",
     "output_type": "stream",
     "text": [
      "100%|██████████| 500/500 [00:05<00:00, 84.64it/s]\n"
     ]
    },
    {
     "name": "stdout",
     "output_type": "stream",
     "text": [
      "Under baseline, reward is 4.3770588872454015\n",
      "% improvement: 42.33489684504734 \n",
      "\n",
      "Business 96\n",
      "Epsilon-greedy:\n"
     ]
    },
    {
     "name": "stderr",
     "output_type": "stream",
     "text": [
      "100%|██████████| 500/500 [00:05<00:00, 89.09it/s]\n",
      "100%|██████████| 500/500 [00:05<00:00, 83.34it/s]\n",
      "100%|██████████| 500/500 [00:07<00:00, 65.92it/s]\n",
      "100%|██████████| 500/500 [00:08<00:00, 62.02it/s]\n",
      "100%|██████████| 500/500 [00:05<00:00, 85.45it/s]\n"
     ]
    },
    {
     "name": "stdout",
     "output_type": "stream",
     "text": [
      "Under epsilon-greedy, max reward is 6.021729051427741, chosen by epsilon = 0.15\n",
      "Baseline:\n"
     ]
    },
    {
     "name": "stderr",
     "output_type": "stream",
     "text": [
      "100%|██████████| 500/500 [00:08<00:00, 58.02it/s]\n"
     ]
    },
    {
     "name": "stdout",
     "output_type": "stream",
     "text": [
      "Under baseline, reward is 4.5089390435821315\n",
      "% improvement: 33.55090838938846 \n",
      "\n"
     ]
    }
   ],
   "source": [
    "# Run main loop\n",
    "actions_counts_epsilon_greedy_list, actions_counts_baseline_list, improvement_list = main(num_biz, predicted_probs_fb_df, predicted_probs_insta_df, predicted_probs_tiktok_df)"
   ]
  },
  {
   "cell_type": "markdown",
   "metadata": {},
   "source": [
    "# Plot results"
   ]
  },
  {
   "cell_type": "markdown",
   "metadata": {},
   "source": [
    "## Improvement in overall engagement scores"
   ]
  },
  {
   "cell_type": "code",
   "execution_count": 26,
   "metadata": {},
   "outputs": [
    {
     "name": "stdout",
     "output_type": "stream",
     "text": [
      "median improvement: 30.39866904957973\n"
     ]
    },
    {
     "data": {
      "image/png": "[encoded data removed]",
      "text/plain": [
       "<Figure size 640x480 with 1 Axes>"
      ]
     },
     "metadata": {},
     "output_type": "display_data"
    }
   ],
   "source": [
    "# Show improvement\n",
    "plt.hist(improvement_list)\n",
    "plt.xlim(0, 70)\n",
    "\n",
    "# Plot the median as a vertical line and label it with the mean\n",
    "plt.axvline(np.median(improvement_list), color='k', linestyle='dashed', linewidth=1)\n",
    "plt.title(\"Distribution of % improvement in overall engagement \\nmoving from baseline to $\\epsilon$-greedy\")\n",
    "print(\"median improvement:\", np.median(improvement_list))\n",
    "plt.savefig(\"output/improvement_hist.png\")"
   ]
  },
  {
   "cell_type": "markdown",
   "metadata": {},
   "source": [
    "## Differences in action counts"
   ]
  },
  {
   "cell_type": "code",
   "execution_count": 27,
   "metadata": {},
   "outputs": [
    {
     "data": {
      "text/html": [
       "<div>\n",
       "<style scoped>\n",
       "    .dataframe tbody tr th:only-of-type {\n",
       "        vertical-align: middle;\n",
       "    }\n",
       "\n",
       "    .dataframe tbody tr th {\n",
       "        vertical-align: top;\n",
       "    }\n",
       "\n",
       "    .dataframe thead th {\n",
       "        text-align: right;\n",
       "    }\n",
       "</style>\n",
       "<table border=\"1\" class=\"dataframe\">\n",
       "  <thead>\n",
       "    <tr style=\"text-align: right;\">\n",
       "      <th></th>\n",
       "      <th>action</th>\n",
       "      <th>count_epsilon_greedy</th>\n",
       "      <th>count_baseline</th>\n",
       "      <th>pct_difference</th>\n",
       "    </tr>\n",
       "  </thead>\n",
       "  <tbody>\n",
       "    <tr>\n",
       "      <th>0</th>\n",
       "      <td>FB</td>\n",
       "      <td>1178304</td>\n",
       "      <td>1440390</td>\n",
       "      <td>-18.195489</td>\n",
       "    </tr>\n",
       "    <tr>\n",
       "      <th>1</th>\n",
       "      <td>Insta</td>\n",
       "      <td>2410472</td>\n",
       "      <td>2879619</td>\n",
       "      <td>-16.291982</td>\n",
       "    </tr>\n",
       "    <tr>\n",
       "      <th>2</th>\n",
       "      <td>Tiktok</td>\n",
       "      <td>1211224</td>\n",
       "      <td>479991</td>\n",
       "      <td>152.343065</td>\n",
       "    </tr>\n",
       "  </tbody>\n",
       "</table>\n",
       "</div>"
      ],
      "text/plain": [
       "   action  count_epsilon_greedy  count_baseline  pct_difference\n",
       "0      FB               1178304         1440390      -18.195489\n",
       "1   Insta               2410472         2879619      -16.291982\n",
       "2  Tiktok               1211224          479991      152.343065"
      ]
     },
     "execution_count": 27,
     "metadata": {},
     "output_type": "execute_result"
    }
   ],
   "source": [
    "# Get total counts of each actions across all businesses\n",
    "actions_counts_epsilon_greedy_total = pd.concat(actions_counts_epsilon_greedy_list).groupby('action')['count'].sum().reset_index()\n",
    "actions_counts_epsilon_greedy_total = actions_counts_epsilon_greedy_total.rename(columns={'count': 'count_epsilon_greedy'})\n",
    "actions_counts_baseline_total = pd.concat(actions_counts_baseline_list).groupby('action')['count'].sum().reset_index()\n",
    "actions_counts_baseline_total = actions_counts_baseline_total.rename(columns={'count': 'count_baseline'})\n",
    "actions_counts_total = pd.concat([actions_counts_epsilon_greedy_total, actions_counts_baseline_total['count_baseline']], axis=1)\n",
    "\n",
    "# Rename 0, 1, 2 to FB, Insta, Tiktok\n",
    "actions_counts_total['action'] = actions_counts_total['action'].replace(0, 'FB')\n",
    "actions_counts_total['action'] = actions_counts_total['action'].replace(1, 'Insta')\n",
    "actions_counts_total['action'] = actions_counts_total['action'].replace(2, 'Tiktok')\n",
    "\n",
    "# Get overall % difference\n",
    "actions_counts_total['pct_difference'] = (actions_counts_total['count_epsilon_greedy']-actions_counts_total['count_baseline'])/actions_counts_total['count_baseline']*100\n",
    "actions_counts_total"
   ]
  },
  {
   "cell_type": "code",
   "execution_count": 28,
   "metadata": {},
   "outputs": [
    {
     "data": {
      "image/png": "[encoded data removed]",
      "text/plain": [
       "<Figure size 640x480 with 1 Axes>"
      ]
     },
     "metadata": {},
     "output_type": "display_data"
    }
   ],
   "source": [
    "# Show changes in actions\n",
    "actions_counts_pct_difference_list = []\n",
    "for i in range(num_biz):\n",
    "    actions_counts_epsilon_greedy_i = actions_counts_epsilon_greedy_list[i]\n",
    "    actions_counts_baseline_i = actions_counts_baseline_list[i]\n",
    "    actions_counts_pct_difference = (actions_counts_epsilon_greedy_i['count']-actions_counts_baseline_i['count'])/actions_counts_baseline_i['count']*100\n",
    "    actions_counts_pct_difference_list.append(actions_counts_pct_difference)\n",
    "\n",
    "actions_counts_pct_difference_df = pd.concat(actions_counts_pct_difference_list, axis=1)\n",
    "\n",
    "plt.hist(actions_counts_pct_difference_df.iloc[0,:], alpha=0.5, label='FB')\n",
    "plt.hist(actions_counts_pct_difference_df.iloc[1,:], alpha=0.5, label='Insta')\n",
    "plt.hist(actions_counts_pct_difference_df.iloc[2,:], alpha=0.5, label='Tiktok')\n",
    "plt.title(\"Distribution of % difference in action counts \\nbetween $\\epsilon$-greedy and baseline\")\n",
    "plt.legend()\n",
    "plt.savefig(\"output/action_counts_pct_difference.png\")\n",
    "plt.show()"
   ]
  },
  {
   "cell_type": "code",
   "execution_count": null,
   "metadata": {},
   "outputs": [],
   "source": []
  }
 ],
 "metadata": {
  "kernelspec": {
   "display_name": "Python 3 (ipykernel)",
   "language": "python",
   "name": "python3"
  },
  "language_info": {
   "codemirror_mode": {
    "name": "ipython",
    "version": 3
   },
   "file_extension": ".py",
   "mimetype": "text/x-python",
   "name": "python",
   "nbconvert_exporter": "python",
   "pygments_lexer": "ipython3",
   "version": "3.11.4"
  }
 },
 "nbformat": 4,
 "nbformat_minor": 5
}
